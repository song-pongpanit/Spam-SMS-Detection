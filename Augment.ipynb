{
  "cells": [
    {
      "cell_type": "markdown",
      "metadata": {
        "id": "view-in-github",
        "colab_type": "text"
      },
      "source": [
        "<a href=\"https://colab.research.google.com/github/song-pongpanit/Spam-SMS-Detection/blob/main/Augment.ipynb\" target=\"_parent\"><img src=\"https://colab.research.google.com/assets/colab-badge.svg\" alt=\"Open In Colab\"/></a>"
      ]
    },
    {
      "cell_type": "markdown",
      "metadata": {
        "id": "EA6VCf9nRnc_"
      },
      "source": [
        "Augmentation"
      ]
    },
    {
      "cell_type": "code",
      "execution_count": null,
      "metadata": {
        "id": "xR-VvydwRndA",
        "outputId": "1b1087f2-c0bb-49f5-d774-f3c50766635b"
      },
      "outputs": [
        {
          "name": "stderr",
          "output_type": "stream",
          "text": [
            "C:\\Users\\song-\\AppData\\Local\\Temp\\ipykernel_24308\\102695315.py:1: DeprecationWarning: \n",
            "Pyarrow will become a required dependency of pandas in the next major release of pandas (pandas 3.0),\n",
            "(to allow more performant data types, such as the Arrow string type, and better interoperability with other libraries)\n",
            "but was not found to be installed on your system.\n",
            "If this would cause problems for you,\n",
            "please provide us feedback at https://github.com/pandas-dev/pandas/issues/54466\n",
            "        \n",
            "  import pandas as pd\n",
            "[nltk_data] Downloading package stopwords to\n",
            "[nltk_data]     C:\\Users\\song-\\AppData\\Roaming\\nltk_data...\n",
            "[nltk_data]   Package stopwords is already up-to-date!\n"
          ]
        },
        {
          "name": "stdout",
          "output_type": "stream",
          "text": [
            "WARNING:tensorflow:From C:\\Users\\song-\\AppData\\Roaming\\Python\\Python311\\site-packages\\keras\\src\\losses.py:2976: The name tf.losses.sparse_softmax_cross_entropy is deprecated. Please use tf.compat.v1.losses.sparse_softmax_cross_entropy instead.\n",
            "\n"
          ]
        }
      ],
      "source": [
        "import pandas as pd\n",
        "import numpy as np\n",
        "import matplotlib.pyplot as plt\n",
        "from collections import defaultdict, Counter\n",
        "\n",
        "from unidecode import unidecode\n",
        "import re\n",
        "import nltk\n",
        "nltk.download('stopwords')\n",
        "import string\n",
        "from nltk.corpus import stopwords\n",
        "from nltk.tokenize import word_tokenize\n",
        "from nltk.stem import SnowballStemmer\n",
        "import spacy\n",
        "import matplotlib.pyplot as plt\n",
        "import seaborn as sns\n",
        "from wordcloud import WordCloud\n",
        "\n",
        "import warnings\n",
        "warnings.filterwarnings(\"ignore\")\n",
        "\n",
        "import nlpaug.augmenter.char as nac\n",
        "import nlpaug.augmenter.word as naw\n",
        "import nlpaug.augmenter.sentence as nas\n",
        "import nlpaug.flow as naf\n",
        "from nlpaug.util import Action\n",
        "from sklearn.utils import shuffle\n",
        "from sklearn.model_selection import train_test_split"
      ]
    },
    {
      "cell_type": "code",
      "execution_count": null,
      "metadata": {
        "id": "EkFOTo9MRndB",
        "outputId": "3857a1aa-d1c7-4856-dfa0-5c49e40619fa"
      },
      "outputs": [
        {
          "data": {
            "text/html": [
              "<div>\n",
              "<style scoped>\n",
              "    .dataframe tbody tr th:only-of-type {\n",
              "        vertical-align: middle;\n",
              "    }\n",
              "\n",
              "    .dataframe tbody tr th {\n",
              "        vertical-align: top;\n",
              "    }\n",
              "\n",
              "    .dataframe thead th {\n",
              "        text-align: right;\n",
              "    }\n",
              "</style>\n",
              "<table border=\"1\" class=\"dataframe\">\n",
              "  <thead>\n",
              "    <tr style=\"text-align: right;\">\n",
              "      <th></th>\n",
              "      <th>target</th>\n",
              "      <th>text</th>\n",
              "    </tr>\n",
              "  </thead>\n",
              "  <tbody>\n",
              "    <tr>\n",
              "      <th>0</th>\n",
              "      <td>ham</td>\n",
              "      <td>Go until jurong point, crazy. Available only i...</td>\n",
              "    </tr>\n",
              "    <tr>\n",
              "      <th>1</th>\n",
              "      <td>ham</td>\n",
              "      <td>Ok lar. Joking wif u oni.</td>\n",
              "    </tr>\n",
              "    <tr>\n",
              "      <th>2</th>\n",
              "      <td>spam</td>\n",
              "      <td>Free entry in 2 a wkly comp to win FA Cup fina...</td>\n",
              "    </tr>\n",
              "    <tr>\n",
              "      <th>3</th>\n",
              "      <td>ham</td>\n",
              "      <td>U dun say so early hor. U c already then say.</td>\n",
              "    </tr>\n",
              "    <tr>\n",
              "      <th>4</th>\n",
              "      <td>ham</td>\n",
              "      <td>Nah I don't think he goes to usf, he lives aro...</td>\n",
              "    </tr>\n",
              "  </tbody>\n",
              "</table>\n",
              "</div>"
            ],
            "text/plain": [
              "  target                                               text\n",
              "0    ham  Go until jurong point, crazy. Available only i...\n",
              "1    ham                          Ok lar. Joking wif u oni.\n",
              "2   spam  Free entry in 2 a wkly comp to win FA Cup fina...\n",
              "3    ham      U dun say so early hor. U c already then say.\n",
              "4    ham  Nah I don't think he goes to usf, he lives aro..."
            ]
          },
          "execution_count": 2,
          "metadata": {},
          "output_type": "execute_result"
        }
      ],
      "source": [
        "data = pd.read_csv('all_sms.csv', encoding='latin-1')\n",
        "data.rename(columns={\"ï»¿target\": \"target\"}, inplace=True)\n",
        "data['text'] = data['text'].apply(lambda x : re.sub('\\.{2,}', '.', x))\n",
        "data.head()"
      ]
    },
    {
      "cell_type": "code",
      "execution_count": null,
      "metadata": {
        "id": "0AatV-2mRndB",
        "outputId": "779e2a5f-d6af-4f7d-9689-ca0159cbced2"
      },
      "outputs": [
        {
          "data": {
            "text/plain": [
              "(5694, 2)"
            ]
          },
          "execution_count": 3,
          "metadata": {},
          "output_type": "execute_result"
        }
      ],
      "source": [
        "data.shape"
      ]
    },
    {
      "cell_type": "code",
      "execution_count": null,
      "metadata": {
        "id": "gpsSiN4IRndB",
        "outputId": "9aa7c1b0-03aa-4f3f-80bb-e1cd9f964552"
      },
      "outputs": [
        {
          "data": {
            "text/plain": [
              "False    5284\n",
              "True      410\n",
              "Name: count, dtype: int64"
            ]
          },
          "execution_count": 4,
          "metadata": {},
          "output_type": "execute_result"
        }
      ],
      "source": [
        "data.duplicated(subset='text').value_counts()"
      ]
    },
    {
      "cell_type": "code",
      "execution_count": null,
      "metadata": {
        "id": "KFaNIbcKRndB",
        "outputId": "9e8e6b36-462d-45a6-b0dd-0e3cce6a306c"
      },
      "outputs": [
        {
          "data": {
            "text/plain": [
              "target\n",
              "ham     4825\n",
              "spam     869\n",
              "Name: count, dtype: int64"
            ]
          },
          "execution_count": 5,
          "metadata": {},
          "output_type": "execute_result"
        }
      ],
      "source": [
        "data['target'].value_counts()"
      ]
    },
    {
      "cell_type": "code",
      "execution_count": null,
      "metadata": {
        "id": "BGCYHDpERndC",
        "outputId": "cedb0371-023e-4281-a3f8-4e80b9aaaa5c"
      },
      "outputs": [
        {
          "data": {
            "text/plain": [
              "(5284, 2)"
            ]
          },
          "execution_count": 6,
          "metadata": {},
          "output_type": "execute_result"
        }
      ],
      "source": [
        "data.drop_duplicates(subset='text', inplace = True, ignore_index= True)\n",
        "data.shape"
      ]
    },
    {
      "cell_type": "code",
      "execution_count": null,
      "metadata": {
        "id": "u9KHEK2ARndC",
        "outputId": "bcc2c011-dfb9-40a2-e89f-6683b9e9b31d"
      },
      "outputs": [
        {
          "data": {
            "text/html": [
              "<div>\n",
              "<style scoped>\n",
              "    .dataframe tbody tr th:only-of-type {\n",
              "        vertical-align: middle;\n",
              "    }\n",
              "\n",
              "    .dataframe tbody tr th {\n",
              "        vertical-align: top;\n",
              "    }\n",
              "\n",
              "    .dataframe thead th {\n",
              "        text-align: right;\n",
              "    }\n",
              "</style>\n",
              "<table border=\"1\" class=\"dataframe\">\n",
              "  <thead>\n",
              "    <tr style=\"text-align: right;\">\n",
              "      <th></th>\n",
              "      <th>target</th>\n",
              "      <th>text</th>\n",
              "      <th>encoded</th>\n",
              "    </tr>\n",
              "  </thead>\n",
              "  <tbody>\n",
              "    <tr>\n",
              "      <th>0</th>\n",
              "      <td>ham</td>\n",
              "      <td>Go until jurong point, crazy. Available only i...</td>\n",
              "      <td>0</td>\n",
              "    </tr>\n",
              "    <tr>\n",
              "      <th>1</th>\n",
              "      <td>ham</td>\n",
              "      <td>Ok lar. Joking wif u oni.</td>\n",
              "      <td>0</td>\n",
              "    </tr>\n",
              "    <tr>\n",
              "      <th>2</th>\n",
              "      <td>spam</td>\n",
              "      <td>Free entry in 2 a wkly comp to win FA Cup fina...</td>\n",
              "      <td>1</td>\n",
              "    </tr>\n",
              "    <tr>\n",
              "      <th>3</th>\n",
              "      <td>ham</td>\n",
              "      <td>U dun say so early hor. U c already then say.</td>\n",
              "      <td>0</td>\n",
              "    </tr>\n",
              "    <tr>\n",
              "      <th>4</th>\n",
              "      <td>ham</td>\n",
              "      <td>Nah I don't think he goes to usf, he lives aro...</td>\n",
              "      <td>0</td>\n",
              "    </tr>\n",
              "  </tbody>\n",
              "</table>\n",
              "</div>"
            ],
            "text/plain": [
              "  target                                               text  encoded\n",
              "0    ham  Go until jurong point, crazy. Available only i...        0\n",
              "1    ham                          Ok lar. Joking wif u oni.        0\n",
              "2   spam  Free entry in 2 a wkly comp to win FA Cup fina...        1\n",
              "3    ham      U dun say so early hor. U c already then say.        0\n",
              "4    ham  Nah I don't think he goes to usf, he lives aro...        0"
            ]
          },
          "execution_count": 7,
          "metadata": {},
          "output_type": "execute_result"
        }
      ],
      "source": [
        "label = {'ham' : 0 , 'spam':1}\n",
        "data['encoded'] = data['target'].map(label).astype('int64')\n",
        "data.head()"
      ]
    },
    {
      "cell_type": "code",
      "execution_count": null,
      "metadata": {
        "id": "EBR6mhojRndC",
        "outputId": "4bc4f641-58ff-4914-8444-0ca8c699d312"
      },
      "outputs": [
        {
          "data": {
            "text/plain": [
              "encoded\n",
              "0    0.853331\n",
              "1    0.146669\n",
              "Name: proportion, dtype: float64"
            ]
          },
          "execution_count": 8,
          "metadata": {},
          "output_type": "execute_result"
        }
      ],
      "source": [
        "data['encoded'].value_counts(normalize=True)"
      ]
    },
    {
      "cell_type": "code",
      "execution_count": null,
      "metadata": {
        "id": "SYbVEz0BRndC",
        "outputId": "c27a4d9f-bc71-48c7-b941-9c6c264c7608"
      },
      "outputs": [
        {
          "name": "stdout",
          "output_type": "stream",
          "text": [
            "training set = 3708.00 rows ; 70.17 % \n",
            "validation set = 1047.00 rows ; 19.81 % \n",
            "test set = 529.00 rows ; 10.01 % \n"
          ]
        }
      ],
      "source": [
        "x = data['text']\n",
        "y = data['encoded']\n",
        "\n",
        "# Split data to train 70%, valid 20%, test 10%\n",
        "x_train0, x_test, y_train0, y_test = train_test_split(x, y, test_size=0.10, stratify=y, random_state=42)\n",
        "x_train, x_val, y_train, y_val = train_test_split(x_train0, y_train0, test_size=0.22, stratify=y_train0, random_state=42)\n",
        "\n",
        "print('training set = {:.2f} rows ; {:.2f} % '.format(x_train.shape[0], x_train.shape[0]/x.shape[0]*100))\n",
        "print('validation set = {:.2f} rows ; {:.2f} % '.format(x_val.shape[0], x_val.shape[0]/x.shape[0]*100))\n",
        "print('test set = {:.2f} rows ; {:.2f} % '.format(x_test.shape[0], x_test.shape[0]/x.shape[0]*100))"
      ]
    },
    {
      "cell_type": "code",
      "execution_count": null,
      "metadata": {
        "id": "SeExlexzRndC",
        "outputId": "f62b8e1b-655d-4d46-947d-9bec328798dd"
      },
      "outputs": [
        {
          "data": {
            "text/plain": [
              "encoded\n",
              "0    3164\n",
              "1     544\n",
              "Name: count, dtype: int64"
            ]
          },
          "execution_count": 102,
          "metadata": {},
          "output_type": "execute_result"
        }
      ],
      "source": [
        "y_train.value_counts()"
      ]
    },
    {
      "cell_type": "code",
      "execution_count": null,
      "metadata": {
        "id": "FL5fDfnZRndC",
        "outputId": "6d50ec5f-ad80-4aac-e670-03514ef8d697"
      },
      "outputs": [
        {
          "data": {
            "text/html": [
              "<div>\n",
              "<style scoped>\n",
              "    .dataframe tbody tr th:only-of-type {\n",
              "        vertical-align: middle;\n",
              "    }\n",
              "\n",
              "    .dataframe tbody tr th {\n",
              "        vertical-align: top;\n",
              "    }\n",
              "\n",
              "    .dataframe thead th {\n",
              "        text-align: right;\n",
              "    }\n",
              "</style>\n",
              "<table border=\"1\" class=\"dataframe\">\n",
              "  <thead>\n",
              "    <tr style=\"text-align: right;\">\n",
              "      <th></th>\n",
              "      <th>text</th>\n",
              "      <th>encoded</th>\n",
              "    </tr>\n",
              "  </thead>\n",
              "  <tbody>\n",
              "    <tr>\n",
              "      <th>3382</th>\n",
              "      <td>I've sent my wife your text. After we buy them...</td>\n",
              "      <td>0</td>\n",
              "    </tr>\n",
              "    <tr>\n",
              "      <th>435</th>\n",
              "      <td>Oic. I saw him too but i tot he din c me. I fo...</td>\n",
              "      <td>0</td>\n",
              "    </tr>\n",
              "    <tr>\n",
              "      <th>4154</th>\n",
              "      <td>2 celebrate my bà¹à¸µday, y else?</td>\n",
              "      <td>0</td>\n",
              "    </tr>\n",
              "    <tr>\n",
              "      <th>1211</th>\n",
              "      <td>I do know what u mean,  is the king of not hav...</td>\n",
              "      <td>0</td>\n",
              "    </tr>\n",
              "    <tr>\n",
              "      <th>263</th>\n",
              "      <td>Ur ringtone service has changed! 25 Free credi...</td>\n",
              "      <td>1</td>\n",
              "    </tr>\n",
              "    <tr>\n",
              "      <th>...</th>\n",
              "      <td>...</td>\n",
              "      <td>...</td>\n",
              "    </tr>\n",
              "    <tr>\n",
              "      <th>4145</th>\n",
              "      <td>Don't b floppy. b snappy &amp; happy! Only gay cha...</td>\n",
              "      <td>1</td>\n",
              "    </tr>\n",
              "    <tr>\n",
              "      <th>3087</th>\n",
              "      <td>tap &amp; spile at seven. * Is that pub on gas st ...</td>\n",
              "      <td>0</td>\n",
              "    </tr>\n",
              "    <tr>\n",
              "      <th>525</th>\n",
              "      <td>I've not called you in a while. This is hoping...</td>\n",
              "      <td>0</td>\n",
              "    </tr>\n",
              "    <tr>\n",
              "      <th>5213</th>\n",
              "      <td>Only you get 10 free True Points just by excha...</td>\n",
              "      <td>1</td>\n",
              "    </tr>\n",
              "    <tr>\n",
              "      <th>1296</th>\n",
              "      <td>Sweet, we may or may not go to 4U to meet carl...</td>\n",
              "      <td>0</td>\n",
              "    </tr>\n",
              "  </tbody>\n",
              "</table>\n",
              "<p>3708 rows × 2 columns</p>\n",
              "</div>"
            ],
            "text/plain": [
              "                                                   text  encoded\n",
              "3382  I've sent my wife your text. After we buy them...        0\n",
              "435   Oic. I saw him too but i tot he din c me. I fo...        0\n",
              "4154                 2 celebrate my bà¹\n",
              "à¸µday, y else?        0\n",
              "1211  I do know what u mean,  is the king of not hav...        0\n",
              "263   Ur ringtone service has changed! 25 Free credi...        1\n",
              "...                                                 ...      ...\n",
              "4145  Don't b floppy. b snappy & happy! Only gay cha...        1\n",
              "3087  tap & spile at seven. * Is that pub on gas st ...        0\n",
              "525   I've not called you in a while. This is hoping...        0\n",
              "5213  Only you get 10 free True Points just by excha...        1\n",
              "1296  Sweet, we may or may not go to 4U to meet carl...        0\n",
              "\n",
              "[3708 rows x 2 columns]"
            ]
          },
          "execution_count": 103,
          "metadata": {},
          "output_type": "execute_result"
        }
      ],
      "source": [
        "data_train = pd.concat([x_train,y_train], axis=1)\n",
        "data_train"
      ]
    },
    {
      "cell_type": "code",
      "execution_count": null,
      "metadata": {
        "id": "lKzUkxq3RndC",
        "outputId": "1377579d-571b-4b81-faca-e47d8459357a"
      },
      "outputs": [
        {
          "data": {
            "text/html": [
              "<div>\n",
              "<style scoped>\n",
              "    .dataframe tbody tr th:only-of-type {\n",
              "        vertical-align: middle;\n",
              "    }\n",
              "\n",
              "    .dataframe tbody tr th {\n",
              "        vertical-align: top;\n",
              "    }\n",
              "\n",
              "    .dataframe thead th {\n",
              "        text-align: right;\n",
              "    }\n",
              "</style>\n",
              "<table border=\"1\" class=\"dataframe\">\n",
              "  <thead>\n",
              "    <tr style=\"text-align: right;\">\n",
              "      <th></th>\n",
              "      <th>text</th>\n",
              "      <th>encoded</th>\n",
              "    </tr>\n",
              "  </thead>\n",
              "  <tbody>\n",
              "    <tr>\n",
              "      <th>4483</th>\n",
              "      <td>E admin building there? I might b slightly ear...</td>\n",
              "      <td>0</td>\n",
              "    </tr>\n",
              "    <tr>\n",
              "      <th>2472</th>\n",
              "      <td>I will be outside office take all from there</td>\n",
              "      <td>0</td>\n",
              "    </tr>\n",
              "    <tr>\n",
              "      <th>3126</th>\n",
              "      <td>But i'm surprised she still can guess right lor.</td>\n",
              "      <td>0</td>\n",
              "    </tr>\n",
              "    <tr>\n",
              "      <th>3855</th>\n",
              "      <td>Yo, you gonna still be in stock tomorrow/today...</td>\n",
              "      <td>0</td>\n",
              "    </tr>\n",
              "    <tr>\n",
              "      <th>4808</th>\n",
              "      <td>Y she dun believe leh? I tot i told her it's t...</td>\n",
              "      <td>0</td>\n",
              "    </tr>\n",
              "    <tr>\n",
              "      <th>...</th>\n",
              "      <td>...</td>\n",
              "      <td>...</td>\n",
              "    </tr>\n",
              "    <tr>\n",
              "      <th>3460</th>\n",
              "      <td>Moji just informed me that you saved our lives...</td>\n",
              "      <td>0</td>\n",
              "    </tr>\n",
              "    <tr>\n",
              "      <th>1525</th>\n",
              "      <td>No. To be nosy I guess. Idk am I over reacting...</td>\n",
              "      <td>0</td>\n",
              "    </tr>\n",
              "    <tr>\n",
              "      <th>800</th>\n",
              "      <td>Also are you bringing galileo or dobby</td>\n",
              "      <td>0</td>\n",
              "    </tr>\n",
              "    <tr>\n",
              "      <th>709</th>\n",
              "      <td>S'fine. Anytime. All the best with it.</td>\n",
              "      <td>0</td>\n",
              "    </tr>\n",
              "    <tr>\n",
              "      <th>2228</th>\n",
              "      <td>Sorry dude. Dont know how i forgot. Even after...</td>\n",
              "      <td>0</td>\n",
              "    </tr>\n",
              "  </tbody>\n",
              "</table>\n",
              "<p>1047 rows × 2 columns</p>\n",
              "</div>"
            ],
            "text/plain": [
              "                                                   text  encoded\n",
              "4483  E admin building there? I might b slightly ear...        0\n",
              "2472       I will be outside office take all from there        0\n",
              "3126   But i'm surprised she still can guess right lor.        0\n",
              "3855  Yo, you gonna still be in stock tomorrow/today...        0\n",
              "4808  Y she dun believe leh? I tot i told her it's t...        0\n",
              "...                                                 ...      ...\n",
              "3460  Moji just informed me that you saved our lives...        0\n",
              "1525  No. To be nosy I guess. Idk am I over reacting...        0\n",
              "800              Also are you bringing galileo or dobby        0\n",
              "709              S'fine. Anytime. All the best with it.        0\n",
              "2228  Sorry dude. Dont know how i forgot. Even after...        0\n",
              "\n",
              "[1047 rows x 2 columns]"
            ]
          },
          "execution_count": 104,
          "metadata": {},
          "output_type": "execute_result"
        }
      ],
      "source": [
        "data_val = pd.concat([x_val,y_val], axis=1)\n",
        "data_val"
      ]
    },
    {
      "cell_type": "code",
      "execution_count": null,
      "metadata": {
        "id": "2FZmrpJJRndC",
        "outputId": "a470d829-af08-44f9-ae16-958988ebb2d6"
      },
      "outputs": [
        {
          "data": {
            "text/html": [
              "<div>\n",
              "<style scoped>\n",
              "    .dataframe tbody tr th:only-of-type {\n",
              "        vertical-align: middle;\n",
              "    }\n",
              "\n",
              "    .dataframe tbody tr th {\n",
              "        vertical-align: top;\n",
              "    }\n",
              "\n",
              "    .dataframe thead th {\n",
              "        text-align: right;\n",
              "    }\n",
              "</style>\n",
              "<table border=\"1\" class=\"dataframe\">\n",
              "  <thead>\n",
              "    <tr style=\"text-align: right;\">\n",
              "      <th></th>\n",
              "      <th>text</th>\n",
              "      <th>encoded</th>\n",
              "    </tr>\n",
              "  </thead>\n",
              "  <tbody>\n",
              "    <tr>\n",
              "      <th>1343</th>\n",
              "      <td>That's ok. I popped in to ask bout something a...</td>\n",
              "      <td>0</td>\n",
              "    </tr>\n",
              "    <tr>\n",
              "      <th>1969</th>\n",
              "      <td>Aight fuck it, I'll get it later</td>\n",
              "      <td>0</td>\n",
              "    </tr>\n",
              "    <tr>\n",
              "      <th>3291</th>\n",
              "      <td>You are being contacted by our dating service ...</td>\n",
              "      <td>1</td>\n",
              "    </tr>\n",
              "    <tr>\n",
              "      <th>2000</th>\n",
              "      <td>Hey hun-onbus goin 2 meet him. He wants 2go ou...</td>\n",
              "      <td>0</td>\n",
              "    </tr>\n",
              "    <tr>\n",
              "      <th>4111</th>\n",
              "      <td>Yes just finished watching days of our lives. ...</td>\n",
              "      <td>0</td>\n",
              "    </tr>\n",
              "    <tr>\n",
              "      <th>...</th>\n",
              "      <td>...</td>\n",
              "      <td>...</td>\n",
              "    </tr>\n",
              "    <tr>\n",
              "      <th>3319</th>\n",
              "      <td>Im sorry bout last nite it wasnà¹à¸µt ur faul...</td>\n",
              "      <td>0</td>\n",
              "    </tr>\n",
              "    <tr>\n",
              "      <th>4469</th>\n",
              "      <td>URGENT This is our 2nd attempt to contact U. Y...</td>\n",
              "      <td>1</td>\n",
              "    </tr>\n",
              "    <tr>\n",
              "      <th>3249</th>\n",
              "      <td>Your board is working fine. The issue of overh...</td>\n",
              "      <td>0</td>\n",
              "    </tr>\n",
              "    <tr>\n",
              "      <th>4570</th>\n",
              "      <td>Will do. Have a good day</td>\n",
              "      <td>0</td>\n",
              "    </tr>\n",
              "    <tr>\n",
              "      <th>2437</th>\n",
              "      <td>Honestly i've just made a lovely cup of tea an...</td>\n",
              "      <td>0</td>\n",
              "    </tr>\n",
              "  </tbody>\n",
              "</table>\n",
              "<p>529 rows × 2 columns</p>\n",
              "</div>"
            ],
            "text/plain": [
              "                                                   text  encoded\n",
              "1343  That's ok. I popped in to ask bout something a...        0\n",
              "1969                   Aight fuck it, I'll get it later        0\n",
              "3291  You are being contacted by our dating service ...        1\n",
              "2000  Hey hun-onbus goin 2 meet him. He wants 2go ou...        0\n",
              "4111  Yes just finished watching days of our lives. ...        0\n",
              "...                                                 ...      ...\n",
              "3319  Im sorry bout last nite it wasnà¹\n",
              "à¸µt ur faul...        0\n",
              "4469  URGENT This is our 2nd attempt to contact U. Y...        1\n",
              "3249  Your board is working fine. The issue of overh...        0\n",
              "4570                           Will do. Have a good day        0\n",
              "2437  Honestly i've just made a lovely cup of tea an...        0\n",
              "\n",
              "[529 rows x 2 columns]"
            ]
          },
          "execution_count": 105,
          "metadata": {},
          "output_type": "execute_result"
        }
      ],
      "source": [
        "data_test = pd.concat([x_test,y_test], axis=1)\n",
        "data_test"
      ]
    },
    {
      "cell_type": "code",
      "execution_count": null,
      "metadata": {
        "id": "evR7PfAgRndC",
        "outputId": "53173f3d-a0b2-4093-e0aa-f1f306590c05"
      },
      "outputs": [
        {
          "name": "stdout",
          "output_type": "stream",
          "text": [
            "Had your mobile 11 months or more? U R entitled to Update to the latest colour mobiles with camera for Free! Call The Mobile Update Co FREE on 08002986030\n",
            "['who had your last mobile 11 months previous or probably more? u r entitled to photo update to the latest colour mobiles with camera flash for only free! to call the mobile update to co free on the 08002986030', 'you had your new mobile 11 months or 2 more? u r entitled to update again to the latest 9 colour mobiles with camera solution for 2 free! and call you the mobile update as co free on 08002986030', 'they had your mobile 11 months or more? u r n entitled to update it to the four latest colour mobiles with mini camera for free! better call the mobile mobile update service co free photo on mobile 08002986030', 'we had your mobile dated 11 months old or more? u r i entitled permission to update to the recent latest national colour mobiles with camera for sale free! you call the current mobile update co free on 08002986030', 'had your mobile 11 months dead or more? you u r entitled one to the update to the two latest and colour professional mobiles complete with camera for free! you call the mobile with update co free on 08002986030']\n"
          ]
        }
      ],
      "source": [
        "text = 'Had your mobile 11 months or more? U R entitled to Update to the latest colour mobiles with camera for Free! Call The Mobile Update Co FREE on 08002986030'\n",
        "#text = 'Free'\n",
        "aug = naw.ContextualWordEmbsAug(model_path='bert-base-uncased', action=\"insert\")\n",
        "keep = []\n",
        "print(text)\n",
        "for i in range(5):\n",
        "  augmented_text = aug.augment(text)\n",
        "  # print(augmented_text)\n",
        "  keep.append(augmented_text[0])\n",
        "print(keep)"
      ]
    },
    {
      "cell_type": "code",
      "execution_count": null,
      "metadata": {
        "id": "UG3Gh3k2RndC",
        "outputId": "cdb249e2-58c8-429f-d739-a1c4347a2f7b"
      },
      "outputs": [
        {
          "name": "stdout",
          "output_type": "stream",
          "text": [
            "0 Ur ringtone service has changed! 25 Free credits! Go to club4mobiles.com to choose content now! Stop? txt CLUB STOP to 87070. 150p/wk Club4 PO Box1146 MK45 2WT\n",
            "ur ringtone service that has changed! 25 free credits! now go to com club4mobiles. com to choose content now! stop? or txt and club bus stop to 87070. com 150p / sec wk club4 po box1146 r mk45 rs 2wt\n",
            "1 FreeMsg: Fancy a flirt? Reply DATE now & join the UKs fastest growing mobile dating service. Msgs rcvd just 25p to optout txt stop to 83021. Reply DATE now!\n",
            "now freemsg : fancy me a flirt? reply date from now & then join the screen uks fastest growing mobile dating service. msgs at rcvd just 25p uploaded to optout txt stop calling to chat 83021. now reply date now!\n",
            "2 Hi there, 2nights ur lucky night! Uve been invited 2 XCHAT, the Uks wildest chat! Txt CHAT to 86688 now! 150p/MsgrcvdHG/Suite342/2Lands/Row/W1J6HL LDN 18yrs\n",
            "hi there, 2nights and ur lucky night! uve will been invited over 2 xchat, for the uks wildest chat! chat txt or chat to demo 86688 now! suite 150p / msgrcvdhg / suite342 / live 2lands / row / w1j6hl 0 ldn 18yrs\n",
            "3 it to 80488. Your 500 free text messages are valid until 31 December 2005.\n",
            "now it amounts to 80488. 5 your 500 1000 free text messages are fully valid until 31 december of 2005.\n",
            "4 We tried to call you re your reply to our sms for a video mobile 750 mins UNLIMITED TEXT + free camcorder Reply of call 08000930705 Now\n",
            "we tried to call you re... your boyfriend reply yet to please our friend sms for a secure video mobile in 750 mins and unlimited text + free camcorder reply ports of call 08000930705 right now\n",
            "5 As a SIM subscriber, you are selected to receive a Bonus! Get it delivered to your door, Txt the word OK to No: 88600 to claim. 150p/msg, EXP. 30Apr\n",
            "as such a sim subscriber, chips you are specially selected to usually receive as a bonus! get had it delivered to your door, txt gets the right word ok to no : 88600 to claim. with 150p / 100 msg, exp. 30apr\n",
            "6 Please CALL 08712402972 immediately as there is an urgent message waiting for you\n",
            "someone please kindly call her 08712402972 immediately as ever there is an urgent message is waiting patiently for you\n",
            "7 Call 09094100151 to use ur mins! Calls cast 10p/min (mob vary). Service provided by AOM, just GBP5/month. AOM Box61,M60 1ER until u stop. Ages 18+ only!\n",
            "call 09094100151 to use to ur mins! calls cast 10p / min ( mob sizes vary ). same service provided by a aom, just gbp5 / th month. in aom box61, m60 to 1er only until service u stop. ages of 18 + only!\n",
            "8 U have a Secret Admirer who is looking 2 make contact with U-find out who they R*reveal who thinks UR so special-call on 09065171142-stopsms-08718727870150ppm\n",
            "but u have a secret admirer who sebastian is looking 2 make contact with u - find it out who they both r * reveal only who she thinks ur my so very special - call 0 on 09065171142 - 0 stopsms - 08718727870150ppm\n",
            "9 Ur balance is now à¹à¸500. Ur next question is: Who sang 'Uptown Girl' in the 80's ? 2 answer txt ur ANSWER to 83600. Good luck!\n",
            "ur ur bank balance equation is now [UNK]. ur next question is : who sang'that uptown poor girl'in the 80's? 2 answer check txt from ur 4 answer go to 83600. oh good luck!\n",
            "10 74355 XMAS iscoming & ur awarded either à¹à¸500 CD gift vouchers & free entry 2 r à¹à¸100 weekly draw txt MUSIC to 87066 TnC\n",
            "0 74355 cd xmas iscoming & ur awarded an either 2 [UNK] x cd gift cd vouchers & free entry 2 r s [UNK] project weekly draw txt unique music to earth 87066 tnc\n",
            "11 Please call our customer service representative on FREEPHONE 0808 145 4742 between 9am-11pm as you have WON a guaranteed à¹à¸1000 cash or à¹à¸5000 prize!\n",
            "please please call our customer email service representative email on freephone 0808 000 145 000 4742 between 9am - 11pm seeing as you have won yourselves a non guaranteed [UNK] cash trophy or double [UNK] prize!\n",
            "12 2p per min to call Germany 08448350055 from your BT line. Just 2p per min. Check PlanetTalkInstant.com for info & T's & C's. Text stop to opt out\n",
            "2p messenger per min request to call from germany send 08448350055 away from up your bt line. just a 2p sms per min. further check planettalkinstant. com for more info & t's & c's. text stop to opt out\n",
            "13 To review and KEEP the fantastic Nokia N-Gage game deck with Club Nokia, go 2 www.cnupdates.com/newsletter. unsubscribe from alerts reply with the word OUT\n",
            "to review products and keep discussing the fantastic nokia n - gage game or deck out with club nokia, at go 2 www. at cnupdates. du com / newsletter. to unsubscribe from alerts... reply with push the word out\n",
            "14 Your account has been credited with 500 FREE Text Messages. To activate, just txt the word: CREDIT to No: 80488 T&Cs www.80488.biz\n",
            "check your personal account account has previously been credited with 500 free free text messages. permission to activate, just txt the word : credit letter to no : nos 80488 t & t cs www. no 80488. biz\n",
            "15 FREE for 1st week! No1 Nokia tone 4 ur mob every week just txt NOKIA to 8007 Get txting and tell ur mates www.getzed.co.uk POBox 36504 W45WQ norm150p/tone 16+\n",
            "free for starting 1st week! no1 nokia tone 4 ur mob number every week just txt nokia cam to 8007 get new txting rate and you tell ur mates www. we getzed. co. uk and pobox 36504 w45wq or norm150p / tone 5 16 +\n",
            "16 87077: Kick off a new season with 2wks FREE goals & news to ur mobile! Txt ur club name to 87077 eg VILLA to 87077\n",
            "2018 87077 : kick off with a new season with 2wks 2 free goals & news posted to ur and mobile! txt as ur club name changes to 87077 and eg s villa squad to 87077\n",
            "17 Great News! Call FREEFONE 08006344447 to claim your guaranteed à¹à¸1000 CASH or à¹à¸2000 gift. Speak to a live operator NOW!\n",
            "such great fake news! call freefone 08006344447 something to claim your guaranteed [UNK] cash... or [UNK] gift. or speak over to her a facebook live operator right now!\n",
            "18 100 free diamonds can be withdrawn without deposit\n",
            "a 100 free diamonds diamonds can be withdrawn without this deposit\n",
            "19 Dorothy@kiefer.com (Bank of Granite issues Strong-Buy) EXPLOSIVE PICK FOR OUR MEMBERS *****UP OVER 300% *********** Nasdaq Symbol CDGT That is a $5.00 per.\n",
            "and dorothy @ kiefer. com com ( bank owner of granite issues currency strong - buy ) about explosive pick up for our new members * * * * * up over 300 % * * * * * * * * * * * nasdaq trading symbol cdgt that this is a $ 5. 10 00 per.\n",
            "20 Unlimited giveaway! Get a chance to win a free 500 baht prepaid card and apply for Duangdee service by pressing *172#\n",
            "open unlimited card giveaway! to get a chance to can win a free in 500 thousand baht gold prepaid card correctly and apply for duangdee service ticket by pressing * 172 #\n",
            "21 Good luck to you! Get a call fee of 500 Thai baht and have the opportunity to apply for a lucky service of 5 Thai baht per message at * 224 #.\n",
            "good the luck back to you! they get a call fee of 500 [UNK] thai thailand baht and have have the first opportunity to apply for such a lucky delivery service of 5 thai baht per unique message at * 224 #.\n",
            "22 goldviking (29/M) is inviting you to be his friend. Reply YES-762 or NO-762 See him: www.SMS.ac/u/goldviking STOP? Send STOP FRND to 62468\n",
            "goldviking ( platform 29 / 25 m ) is inviting you to be known his good friend. not reply yes - 762 return or no - 762 will see him : www. and sms. ac / u / goldviking stop? send stop frnd from to address 62468\n",
            "23 IMPORTANT MESSAGE. This is a final contact attempt. You have important messages waiting out our customer claims dept. Expires 13/4/04. Call 08717507382 NOW!\n",
            "very important message. this is not a great final contact attempt. you have important messages on waiting out our customer claims filing dept. expires at 13 / 29 4 / 7 04. you call 08717507382 not now!\n",
            "24 22 days to kick off! For Euro2004 U will be kept up to date with the latest news and results daily. To be removed send GET TXT STOP to 83222\n",
            "22 days to kick off! for euro2004 pool u players will only be being kept up to a date starting with the latest sporting news and results daily. to be removed before send button get txt first stop to 83222\n",
            "25 REMINDER FROM O2: To get 2.50 pounds free call credit and details of great offers pls reply 2 this text with your valid name, house no and postcode\n",
            "one reminder from o2 : anywhere to please get 2. 50 pounds of free per call credit and details number of great offers at pls reply 2 receive this text with your valid name, safe house or no and postcode\n",
            "26 Missed call alert. These numbers called but left no message. 07008009200\n",
            "missed call tone alert. however these missed numbers only called out but still left no message. 07008009200\n",
            "27 You can stop further club tones by replying \\STOP MIX\\\" See my-tone.com/enjoy. html for terms. Club tones cost GBP4.50/week. MFL\n",
            "you can then stop struggling further at club tones simply by replying \\ then stop my mix \\ \"... see my - tone. or com / enjoy. html to for terms. club tones normally cost gbp4. 50 / week. mfl\n",
            "28 FreeMsg>FAV XMAS TONES!Reply REAL\n",
            "freemsg > from fav to xmas tones!... reply... real\n",
            "29 Do you want a new video handset? 750 anytime any network mins? Half Price Line Rental? Camcorder? Reply or call 08000930705 for delivery tomorrow\n",
            "do you guys want... a new video camera handset? 750 line anytime with any different network mins? pay half price line rental? camcorder? reply box or mobile call number 08000930705 for delivery tomorrow\n",
            "30 5 Free Top Polyphonic Tones call 087018728737, National Rate. Get a toppoly tune sent every week, just text SUBPOLY to 81618, à¹à¸3 per pole. UnSub 08718727870.\n",
            "5 free 100 top 1 polyphonic tones for call service 087018728737, national rate. they get him a toppoly tune message sent twice every week, just two text subpoly to 81618, five [UNK] per pole. unsub 08718727870.\n",
            "31 Your unique user ID is 1172. For removal send STOP to 87239 customer services 08708034412\n",
            "accept your domain unique web user id name is 1172. request for removal send stop off to 87239 at customer support services 08708034412\n",
            "32 Unlimited free giveaways every day, get 100, easy to withdraw, automatic, click www.linee.live/R9b8\n",
            "with unlimited free giveaways open every possible day, get free 100, s easy ways to make withdraw, and automatic, click out www. linee. live / r9b8\n",
            "33 Double your mins & txts on Orange or 1/2 price linerental - Motorola and SonyEricsson with B/Tooth FREE-Nokia FREE Call MobileUpd8 on 08000839402 or2optout/HV9D\n",
            "double your mins & n txts saved on one orange juice or 1 / 2 dollar price linerental - motorola and sonyericsson with b / tooth prices free - including nokia free phone call to mobileupd8 on windows 08000839402 or2optout / hv9d\n",
            "34 Please CALL 08712402578 immediately as there is an urgent message waiting for you\n",
            "please call 08712402578 and immediately proceed as well there is an increasingly urgent mobile message waiting downstairs for you\n",
            "35 88066 FROM 88066 LOST 3POUND HELP\n",
            "and 88066 from 88066 are lost chapter 3pound help\n",
            "36 URGENT. Important information for 02 user. Today is your lucky day! 2 find out why , log onto http://www.urawinner.com there is a fantastic surprise awaiting you !\n",
            "urgent. important information online for 02 every user. today this is probably your lucky day! 2 find out why, log onto at http : / / via www. mary urawinner. dot com there truly is a most fantastic surprise awaiting you!\n",
            "37 Just apply on line and receive a red envelope discount up to 500 baht > https://bit.ly/3wnQyw2\n",
            "just apply it on this line and receive a red premium envelope discount price up top to us 500 thousand baht > as https : / / open bit. in ly / 3wnqyw2\n",
            "38 No. 1 Nokia Tone 4 ur mob every week! Just txt NOK to 87021. 1st Tone FREE ! so get txtin now and tell ur friends. 150p/tone. 16 reply HL 4info\n",
            "no. 1 on nokia tone 4 get ur mob numbers every a week! just txt nok to 87021. 1st telecom tone 5 free! so get txtin now and tell ur friends. reach 150p / tone. 16 or reply in hl channel 4info\n",
            "39 Your B4U voucher w/c 27/03 is MARSMS. Log onto www.B4Utele.com for discount credit. To opt out reply stop. Customer care call 08717168528\n",
            "give your b4u voucher bill w / c 27 / 03 is marsms. log yourself onto account www. b4utele. ru com for full discount credit. to opt out reply on stop. customer details care and call registration 08717168528\n",
            "40 Please CALL 08712402779 immediately as there is an urgent message waiting for you\n",
            "please simply call 08712402779 open immediately and as there already is an important urgent message waiting for contacted you\n",
            "41 Burger King - Wanna play footy at a top stadium? Get 2 Burger King before 1st Sept and go Large or Super with Coca-Cola and walk out a winner\n",
            "burger king - never wanna play footy at a top stadium? always get 2 burger king before 1st sept 2003 and either go up large or super with coca - rc cola bottles and a walk so out a vote winner\n",
            "42 Free msg: Single? Find a partner in your area! 1000s of real people are waiting to chat now!Send CHAT to 62220Cncl send STOPCS 08717890890à¹à¸1.50 per msg\n",
            "send free msg : get single? find a partner back in to your area! 1000s instead of real earth people are waiting there to chat by now! send for chat to 62220cncl send stopcs [UNK]. get 50 per msg\n",
            "43 500 New Mobiles from 2004, MUST GO! Txt: NOKIA to No: 89545 & collect yours today!From ONLY à¹à¸1 www.4-tc.biz 2optout 087187262701.50gbp/mtmsg18\n",
            "with 500 new new mobiles available from by 2004, phones must go! txt : nokia phone to no : 89545 & [UNK] collect yours today! from only [UNK] www. 4 - tc. com biz of 2optout 087187262701. 50gbp / tv mtmsg18\n",
            "44 Customer Loyalty Offer:The NEW Nokia6650 Mobile from ONLY à¹à¸10 at TXTAUCTION! Txt word: START to No: 81151 & get yours Now! 4T&Ctxt TC 150p/MTmsg\n",
            "one customer member loyalty test offer : the new nokia6650 home mobile starts from only [UNK] at txtauction! txt word : start to no : 2 81151 & get from yours now! 7 4t & ctxt 3 tc 150p / 22 mtmsg\n",
            "45 Hi if ur lookin 4 saucy daytime fun wiv busty married woman Am free all next week Chat now 2 sort time 09099726429 JANINExx Callsà¹à¸1/minMobsmoreLKPOBOX177HP51FL\n",
            "hi god if g ur lookin t 4 saucy baby daytime fun wiv busty dream married woman am free all out next week chat now version 2 [UNK] sort de time chat 09099726429 janinexx [UNK] / minmobsmorelkpobox177hp51fl\n",
            "46 You have a refund of 999 baht. It's about to expire. Press to receive it quickly www.xo666.me/money\n",
            "you could have obtained a weekly refund of a 999 baht. it's just about due to expire. press me to receive it but quickly contact www. xo666. me / fee money\n",
            "47 Hi, this is Mandy Sullivan calling from HOTMIX FM.you are chosen to receive à¹à¸5000.00 in our Easter Prize draw.Please telephone 09041940223 to claim before 29/03/05 or your prize will be transferred to someone else.\n",
            "hi, this is belinda mandy mitchell sullivan calling from hotmix fm. today you are chosen how to receive [UNK]. 00 in determining our easter prize to draw. please telephone 09041940223 asking to claim access before 29 / 03 / 05 or when your prize will be transferred over to someone else.\n",
            "48 Double Mins & Double Txt & 1/2 price Linerental on Latest Orange Bluetooth mobiles. Call MobileUpd8 for the very latest offers. 08000839402 or call2optout/LF56\n",
            "double mins & 10 double txt & 1 / 2 premium price linerental based on latest orange in bluetooth mobiles. do call 2 mobileupd8 for purchasing the very different latest offers. 08000839402 or no call2optout / mobile lf56\n",
            "49 FREE RINGTONE text FIRST to 87131 for a poly or text GET to 87131 for a true tone! Help? 0845 2814032 16 after 1st free, tones are 3xà¹à¸150pw to eà¹à¸nd txt stop\n",
            "3rd free ringtone text first to 87131 for a clear poly or not text please get to the 87131 for a true dial tone! web help? pdf 0845 2814032 page 16 after 1st free, tones are read [UNK] to [UNK] txt stop\n",
            "50 ree entry in 2 a weekly comp for a chance to win an ipod. Txt POD to 80182 to get entry (std txt rate) T&C's apply 08452810073 for details 18+\n",
            "ree a entry in 2 a second weekly free comp for a chance to win an ipod. open txt pod to 80182 to also get entry ( std txt registration rate ) from t & c'v s apply under 08452810073 for background details 18 +\n",
            "51 D Condo Than Resort Condo, ready to move in, no need to pay installments for 24 months*, location in the heart of Charan, starting at 1.79 million baht, receive transfer fee + common fees* Special! True customers show SMS and receive calling fees for the whole year + 20,000 baht discount. Click https://ct.elinks.it/_5Y1R5Vz\n",
            "a d city condo longer than resort condo, ready to move in, no customer need need to pay installments for 24 months *, location in the heart of charan, starting at 1. 79 million baht, receive transfer fee + common fees * special! true customers show sms link and receive calling fees for first the whole year + • 20, 000 yearly baht discount. click https : / / ct. elinks. org it / _ 5y1r5vz\n",
            "52 Your next amazing xxx PICSFREE1 video will be sent to you enjoy! If one vid is not enough for 2day text back the keyword PICSFREE1 to get the next video.\n",
            "your next coming amazing xxx series picsfree1 video will be sent away to customers you enjoy! if even one vid format is not enough for 2day no text back up the keyword is picsfree1 to get the next unique video.\n",
            "53 Press now to receive an additional call fee of 500 Thai baht, and have the opportunity to apply for auspicious services of 5 Thai baht per month at * 224 #.\n",
            "press now arranged to receive an increased additional weekly call fee of 500 thai baht, also and have the opportunity again to electronically apply for auspicious call services packages of 5 thai baht per given month or at * 224 #.\n",
            "54 Ur cash-balance is currently 500 pounds - to maximize ur cash-in now send CASH to 86688 only 150p/msg. CC: 08718720201 PO BOX 114/14 TCR/W1\n",
            "ur cash - balance is currently currently worth 500 metric pounds - to maximize performance ur cash - in will now send available cash money to 86688 only 150p / msg. cc : 08718720201 po phone box 114 / post 14 call tcr / w1\n",
            "55 Spin in time! Spin for a fun and happy summer. The game ends at the end of this month, giving away 80 gold prizes, big gold 5 baht, 3.5 million True Points, 11 Apr '23 - 30 Jun '23.\n",
            "you spin in time! spin go for a fun fair and happy long summer. [UNK] the game ends at the august end of this month, giving away 80 gold prizes, a big gold 5 billion baht, 3. 5 million true points, 11 apr'23 23 - 3 30 jun'23.\n",
            "56 Goal! Arsenal 4 (Henry, 7 v Liverpool 2 Henry scores with a simple shot from 6 yards from a pass by Bergkamp to give Arsenal a 2 goal margin after 78 mins.\n",
            "arsenal goal! arsenal 4 ( henry, 7 v london liverpool 2 henry only scores with a simple shot from from 6 long yards up from then a pass by peter bergkamp to goal give arsenal a convincing 2 goal margin after 78 mins.\n",
            "57 TheMob>Yo yo yo-Here comes a new selection of hot downloads for our members to get for FREE! Just click & open the next link sent to ur fone.\n",
            "and themob > yo yo yo - here comes down a complete new selection of all hot downloads required for our members... to get distributed for free!... just click & open the next link to sent over to ur fone.\n",
            "58 07732584351 - Rodger Burns - MSG = We tried to call you re your reply to our sms for a free nokia mobile + free camcorder. Please call now 08000930705 for delivery tomorrow\n",
            "07732584351 - rodger burns - msg = we just tried to call call on you with re for your reply was to our mobile sms for a free nokia mobile + free video camcorder. please call now 08000930705 secure for delivery call tomorrow\n",
            "59 Valentines Day Special! Win over à¹à¸1000 in our quiz and take your partner on the trip of a lifetime! Send GO to 83600 now. 150p/msg rcvd. CustCare:08718720201.\n",
            "graduation valentines day special! win over [UNK] in our lab quiz and win take... your partner further on the science trip of learning a long lifetime! send go to 83600 now. 150p / s msg rcvd. custcare : issn 08718720201.\n",
            "60 Hi 07734396839 IBH Customer Loyalty Offer: The NEW NOKIA6600 Mobile from ONLY à¹à¸10 at TXTAUCTION!Txt word:START to No:81151 & get Yours Now!4T&\n",
            "hi 07734396839 ibh customer loyalty offer : with the completely new nokia6600 premium mobile and from only [UNK] at this txtauction! all txt word : best start to no : 81151 & can get i yours now! 3 4t &\n",
            "61 Marvel Mobile Play the official Ultimate Spider-man game (à¹à¸4.50) on ur mobile right now. Text SPIDER to 83338 for the game & we ll send u a FREE 8Ball wallpaper\n",
            "marvel mobile championship play release the official ultimate perfect spider - like man mobile game ( [UNK]. super 50 ) on ur mobile playstation right now. text spider to 83338 pages for the game & we ll send u back a free mini 8ball wallpaper\n",
            "62 Urgent! call 09066350750 from your landline. Your complimentary 4* Ibiza Holiday or 10,000 cash await collection SAE T&Cs PO BOX 434 SK3 8WP 150 ppm 18+ \n",
            "urgent! call 09066350750 from your landline. get your complimentary bonus 4 * an ibiza holiday holiday package or 10, 95 000 cash await collection on sae t & cs po boxes box 434 but sk3 8wp 150 and ppm 18 +\n",
            "63 money!!! you r a lucky winner ! 2 claim your prize text money 2 88600 over à¹à¸1million to give away ! ppt150x3+normal text rate box403 w1t1jy\n",
            "money!!! you want r a lucky 7 winner! 2 points claim your prize text money for 2 ¥ 88600 over [UNK] to 1 give away! [UNK] ppt150x3 + double normal game text rate with box403 w1t1jy\n",
            "64 I want some cock! My hubby's away, I need a real man 2 satisfy me. Txt WIFE to 89938 for no strings action. (Txt STOP 2 end, txt rec à¹à¸1.50ea. OTBox 731 LA1 7WS. )\n",
            "then i probably want some cock! my hubby's away, i need a real man 2 satisfy by me. txt wife continues to wife 89938 6 for no more strings action. ( txt stop rep 2 end, txt stop rec [UNK]. 50ea. no otbox 731 la1 7ws. )\n",
            "65 Ur HMV Quiz cash-balance is currently à¹à¸500 - to maximize ur cash-in now send HMV1 to 86688 only 150p/msg\n",
            "value ur 31 hmv quiz cash - balance ratio is higher currently [UNK] - to maximize profit ur 3 cash - in case now send hmv1 bank to 86688 let only add 150p / msg\n",
            "66 Loan for any purpose à¹à¸500 - à¹à¸75,000. Homeowners + Tenants welcome. Have you been previously refused? We can still help. Call Free 0800 1956669 or text back 'help'\n",
            "loan for working any specific purpose is [UNK] - [UNK], 200 000. and homeowners + tenants welcome. have so you been previously refused? we can still help. now call free 0800 at 1956669 [UNK] or text back'get help '\n",
            "67 You have won ?1,000 cash or a ?2,000 prize! To claim, call09050000327. T&C: RSTM, SW7 3SS. 150ppm\n",
            "you have... won? some 1, 30 000 cash prizes or a? or 2, 20 000 additional prize! 3 to claim, call09050000327. t & n c : rstm, 100 sw7 3ss. 150ppm\n",
            "68 Show ur colours! Euro 2004 2-4-1 Offer! Get an England Flag & 3Lions tone on ur phone! Click on the following service message for info!\n",
            "app show ur colours! us euro 2004 2 - 4 - none 1 campaign offer! get us an england own flag & 3lions are tone name on ur phone! click on the line following active service message for info!\n",
            "69 Get your garden ready for summer with a FREE selection of summer bulbs and seeds worth à¹à¸33:50 only with The Scotsman this Saturday. To stop go2 notxt.co.uk\n",
            "get you your garden ready for summer nursery with i a free selection of summer healthy bulbs grow and seeds best worth [UNK] [UNK] : s 50 only with the scotsman this saturday. to stop on go2 notxt. dot co. uk\n",
            "70 Do you ever notice that when you're driving, anyone going slower than you is an idiot and everyone driving faster than you is a maniac?\n",
            "and do you you ever notice anything that when you're driving, whether anyone even going away slower than just you is an idiot and everyone driving faster away than only you is a maniac?\n",
            "71 44 7732584351, Do you want a New Nokia 3510i colour phone DeliveredTomorrow? With 300 free minutes to any mobile + 100 free texts + Free Camcorder reply or call 08000930705.\n",
            "just 44 7732584351, do you still want a new nokia 3510i colour colour phone and deliveredtomorrow? 2 with 50 300 free minutes to chat any mobile + 100 free texts + 100 free short camcorder reply or simple call 08000930705.\n",
            "72 Dear Dave this is your final notice to collect your 4* Tenerife Holiday or #5000 CASH award! Call 09061743806 from landline. TCs SAE Box326 CW25WX 150ppm\n",
            "okay dear bonnie dave this this is your final signing notice and to come collect on your 4 * tenerife holiday or # 5000 cash award! call 09061743806 download from their landline. tcs sae box326... cw25wx 150ppm\n",
            "73 For taking part in our mobile survey yesterday! You can now have 500 texts 2 use however you wish. 2 get txts just send TXT to 80160 T&C www.txt43.com 1.50p\n",
            "thank for taking part in our mobile device survey for yesterday! you can at now have 500 texts 2 use however numbers you wish. 2 get txts just send txt 46 to 80160 t & c on www. see txt43. net com 1. 2 50p\n",
            "74 Follow the latest news and events. Apply for One News SMS service by pressing *471*17#.\n",
            "follow all the latest news news and news events. apply for one better news on sms service option by pressing * 471 * 36 17 #.\n",
            "75 sports fans - get the latest sports news str* 2 ur mobile 1 wk FREE PLUS a FREE TONE Txt SPORT ON to 8007 www.getzed.co.uk 0870141701216+ norm 4txt/120p \n",
            "sports fans - get the fresh latest sports news news to str * 2 4 ur mobile phone 1 1 wk free wireless plus a free voice tone txt sport on to 8007 www. getzed. co. web uk 0870141701216 + norm 4txt / 4 120p\n",
            "76 Reply to win à¹à¸100 weekly! What professional sport does Tiger Woods play? Send STOP to 87239 to end service\n",
            "reply first to win [UNK] weekly! what at professional chinese sport tennis does tiger lily woods play? send stop to email 87239 to have end service\n",
            "77 You have 1 new message. Call 0207-083-6089\n",
            "you have... 1 new leaving message. emergency call 1 0207 - 31 083 - 3 6089\n",
            "78 Win a à¹à¸1000 cash prize or a prize worth à¹à¸5000\n",
            "win a [UNK] jp cash prize if or a prize worth [UNK] [UNK]\n",
            "79 Enjoy the jamster videosound gold club with your credits for 2 new videosounds+2 logos+musicnews! get more fun from jamster.co.uk! 16+only Help? call: 09701213186 \n",
            "enjoy the jamster videosound at gold club with list your current credits for 2 new videosounds + 2 album logos + musicnews! get a more pleasant fun from your jamster. co. uk uk! 16 + only to help? call : rs 09701213186\n",
            "80 FREE RING TONE just text \\POLYS\\\" to 87131. Then every week get a new tone. 0870737910216yrs only à¹à¸1.50/wk.\"\n",
            "free the ring tone just text \\ polys \\ \" and to 01 87131. 1 then every week would get a corresponding new tone. 0 0870737910216yrs save only [UNK]. [UNK] 50 / 40 wk. \"\n",
            "81 special!! This number receives an additional call fee of 500 baht. Press *159# and apply for health service 5 baht/kk.\n",
            "extra special!! this call number receives an additional call out fee amount of 500 baht. press * number 159 # x and apply for civil health telephone service card 5 baht / 800 kk.\n",
            "82 Listen to dance music! Get a chance to win an oxygen meter. Press *482# to apply for hit songs 10 baht/day.\n",
            "please listen forward to dance with music! get yourselves a chance to successfully win an oxygen flow meter. press * 482 # 3 to can apply for hit songs worth 10 baht / day.\n",
            "83 Guess who am I?This is the first time I created a web page WWW.ASJESUS.COM read all I wrote. I'm waiting for your opinions. I want to be your friend 1/1\n",
            "guess who am what i? this sunday is the first real time i created a web page www. asjesus. com read of all i wrote. now i'bal m waiting for all your opinions. now i want to be your friend 3 1 / no 1\n",
            "84 Flash cannot be contacted. Please confirm the package via Line: cutt.ly/Flashe-X\n",
            "flash buyer cannot ever be contacted. please do confirm viewing the package information via line : through cutt. gov ly / flashe - x\n",
            "85 KMA offers you loan rights of 120,000 baht. Click: citly.me/pGh2A\n",
            "projects kma often offers you new loan rights of only 120, 00 000 malaysian baht. google click : citly. me / project pgh2a\n",
            "86 New Tones This week include: 1)McFly-All Ab., 2) Sara Jorge-Shock. 3) Will Smith-Switch. To order follow instructions on next message\n",
            "any new key tones this past week include : refrain 1 ) kyle mcfly - all ab., refrain 2 ) sara di jorge - shock. 3 ) when will the smith - switch. to order and follow instructions on next message\n",
            "87 This is the 2nd time we have tried 2 contact u. U have won the 750 Pound prize. 2 claim is easy, call 08712101358 NOW! Only 10p per min. BT-national-rate\n",
            "now this is the odd 2nd time we have really tried a 2 contact u. yet u have always won the 750 pound prize. any 2 claim is real easy, call for 08712101358 go now! only 10p per min. bt - national - rate\n",
            "88 Congratulations! Thanks to a good friend U have WON the à¹à¸2,000 Xmas prize. 2 claim is easy, just call 08718726971 NOW! Only 10p per minute. BT-national-rate.\n",
            "congratulations! thanks to such a big good friend u have won the [UNK], [UNK] 000 in xmas lottery prize. 2 claim it is easy, just call 08718726971 and now! only the 10p per minute. 2 bt - national - hourly rate.\n",
            "89 U can WIN à¹à¸100 of Music Gift Vouchers every week starting NOW Txt the word DRAW to 87066 TsCs www.Idew.com SkillGame, 1Winaweek, age16. 150ppermessSubscription\n",
            "[UNK] u no can automatically win [UNK] of japanese music gift vouchers once every week starting now txt the word please draw to 87066 tscs and www. k idew. at com world skillgame, 1winaweek, age16. 150ppermesssubscription\n",
            "90 Congratulations ur awarded either à¹à¸500 of CD gift vouchers & Free entry 2 our à¹à¸100 weekly draw txt MUSIC to 87066 TnCs www.Ldew.com 1 win150ppmx3age16\n",
            "[UNK] congratulations ur awarded to either [UNK] copies of cd 3 gift vouchers & rewards free entry 2 share our world [UNK] weekly draw 2 txt music links to 87066 tncs www. ldew. com take 1 win150ppmx3age16\n",
            "91 For True customers, great value, just 28 baht, unlimited internet, no reduction in speed, 2 Mbps for 1 day. Call *900*3705*00060004# and receive a discount of 100 baht when you shop for 700 baht at Lotus Online.\n",
            "for true honest customers, great new value, just 28 baht, unlimited internet, no reduction in drive speed, 2 mbps for 1 day. so call * 900 * 3705 * 00060004 # check and receive you a discount of 100 250 baht but when waiting you shop for another 700 baht at lotus online.\n",
            "92 Are you unique enough? Find out from 30th August. www.areyouunique.co.uk\n",
            "... are you unique here enough? find out... from august 30th through august. 2009 www. areyouunique. co. london uk\n",
            "93 Phony à¹à¸350 award - Todays Voda numbers ending XXXX are selected to receive a à¹à¸350 award. If you have a match please call 08712300220 quoting claim code 3100 standard rates app\n",
            "blue phony n [UNK] digit award - todays voda 3 numbers ending xxxx are selected to receive a gold [UNK] number award. if you currently have a duplicate match please call 08712300220 quoting code claim code 3100 standard rates uk app\n",
            "94 URGENT! Your Mobile number has been awarded with a à¹à¸2000 prize GUARANTEED. Call 09058094454 from land line. Claim 3030. Valid 12hrs only\n",
            "urgent! because your mobile number has been successfully awarded with a [UNK] slot prize guaranteed. call id 09058094454 or from fixed land line. assigned claim number 3030. valid before 12hrs and only\n",
            "95 Congratulations ur awarded 500 of CD vouchers or 125gift guaranteed & Free entry 2 100 wkly draw txt MUSIC to 87066\n",
            "congratulations is ur awarded us 500 of 5 cd license vouchers 45 or 125gift songs guaranteed & 2 free the entry 2 100 wkly draw txt music to 87066\n",
            "96 Customer service annoncement. You have a New Years delivery waiting for you. Please call 07046744435 now to arrange delivery\n",
            "a customer for service annoncement. you can have a small new years delivery list waiting around for you. and please call home 07046744435 now to arrange their delivery\n",
            "97 [Krung Thai Bank] Congratulations! You received 200,000 baht, Line:Innk.in/gsaL\n",
            "[ jimmy krung of thai credit bank ] hi congratulations! you ve received more 200, 000 mon baht, line : innk. in / at gsal\n",
            "98 Oh my god! I've found your number again! I'm so glad, text me back xafter this msgs cst std ntwk chg à¹à¸1.50\n",
            "oh god my god! maybe i've just found your number yet again! i'm so damned glad, text me back now xafter this msgs w cst std o ntwk g chg v [UNK]. 50\n",
            "99 pp0LV.com get free 9999 baht JDB JILI PG SA fish shooting\n",
            "pp0lv. on com get the free online 9999 extra baht jdb jili pg games sa fish shooting\n",
            "100 December only! Had your mobile 11mths+? You are entitled to update to the latest colour camera mobile for Free! Call The Mobile Update VCo FREE on 08002986906 \n",
            "december date only! had is your mobile updated 11mths +? you are further entitled to update this to the next latest colour video camera mobile for monthly free! call to the mobile update vco free mobile on 08002986906\n",
            "101 EASTENDERS TV Quiz. What FLOWER does DOT compare herself to? D= VIOLET E= TULIP F= LILY txt D E or F to 84025 NOW 4 chance 2 WIN à¹à¸100 Cash WKENT/150P16+\n",
            "eastenders tv quiz. and what flower does dot also compare having herself next to? d = violet blues e = tulip f = lily txt d e or g f shift to 84025 now 4 little chance or 2 win [UNK] plus cash wkent / 150p16 +\n",
            "102 Money i have won wining number 946 wot do i do next\n",
            "highest money prize i have won wining number 946 wot me do thing i just do next\n",
            "103 URGENT! Your mobile No *********** WON a à¹à¸2,000 Bonus Caller Prize on 02/06/03! This is the 2nd attempt to reach YOU! Call 09066362220 ASAP! BOX97N7QP, 150ppm\n",
            "not urgent! make your mobile no * * * * * * * * * * * won me a [UNK], 000 bonus caller help prize on wednesday 02 / 06 / 03! so this is the net 2nd ever attempt to actually reach you! call 09066362220 to asap! box97n7qp, 150ppm\n",
            "104 PRIVATE! Your 2003 Account Statement for <fone no> shows 800 un-redeemed S. I. M. points. Call 08715203656 Identifier Code: 42049 Expires 26/10/04\n",
            "private! off your phone 2003 account hash statement for < fone no > shows nearly 800 un - redeemed s. i. h m. ransom points. mobile call 08715203656 mobile identifier code : 42049 expires after 26 / 10 / 09 04\n",
            "105 This long holiday has a surprise. Adjust to get lots of rewards. bit.ly/3LFkE6P\n",
            "like this long running holiday story has got a complete surprise. adjust to get lots of rewards. open bit. id ly / r 3lfke6p\n",
            "106 Dear U've been invited to XCHAT. This is our final attempt to contact u! Txt CHAT to 86688 150p/MsgrcvdHG/Suite342/2Lands/Row/W1J6HL LDN 18 yrs\n",
            "well dear u've been invited off to xchat. visit this one is our final attempt to contact u! txt chat next to 86688 150p / 38 msgrcvdhg / 0 suite342 / 0 2lands / 1 row / w1j6hl with ldn 18 yrs\n",
            "107 A à¹à¸400 XMAS REWARD IS WAITING FOR YOU! Our computer has randomly picked you from our loyal mobile customers to receive a à¹à¸400 reward. Just call 09066380611\n",
            "a [UNK] xmas and reward box is waiting for you! our network computer has randomly picked which you with from our loyal 1 mobile customers to receive us a full [UNK] s reward. can just call 09066380611\n",
            "108 Monthly password for wap. mobsi.com is 391784. Use your wap phone not PC.\n",
            "current monthly password for download wap. mobsi. com it is private 391784. use just your wap cloud phone just not open pc.\n",
            "109 FROM 88066 LOST à¹à¸12 HELP\n",
            "but from 88066 lost [UNK] and help\n",
            "110 You have won a Nokia 7250i. This is what you get when you win our FREE auction. To take part send Nokia to 86021 now. HG/Suite342/2Lands Row/W1JHL 16+ \n",
            "you will have won half a japanese nokia of 7250i. plus this money is what you get when you win our free auction. to now take a part send nokia 1 to 86021 now. hg / suite342 / 2lands row / w1jhl a 16 +\n",
            "111 thesmszone.com lets you send free anonymous and masked messages.im sending this message from there.do you see the potential for abuse???\n",
            "and thesmszone. com program lets everyone you send free private anonymous and masked messages. im sending this your message from the there. do not you will see currently the potential cause for abuse???\n",
            "112 Hello from Orange. For 1 month's free access to games, news and sport, plus 10 free texts and 20 photo messages, reply YES. Terms apply: www.orange.co.uk/ow\n",
            "hello from orange. for 1 per month's guaranteed free access to various games, news services and sport, plus over 10 free texts online and after 20 photo invitation messages, i reply with yes. terms apply : www. orange. co. uk / ow\n",
            "113 Do you want 750 anytime any network mins 150 text and a NEW video phone for only five pounds per week call 08000776320 now or reply for delivery Tomorrow\n",
            "and do you still want 750 at anytime or any time network mins to 150 or text and a new video and phone version for only five pounds per week call 08000776320 right now or reply for delivery tomorrow\n",
            "114 0A$NETWORKS allow companies to bill for SMS, so they are responsible for their \\suppliers\\\"\n",
            "0a $ networks only allow companies that to bill for your sms, and so they that are still responsible for their \\ you suppliers \\ \"\n",
            "115 Bang bang bang! Work is on the rise, love is on the rise with a good SIM card from True, no contract, pay once and use it all year, only 2999 baht at Shopee.\n",
            "bang bing bang bang! work is finally on the rise, love is indeed on the rise tomorrow with a good quality sim card from true, only no signed contract, pay once monthly and actually use it all year, losing only 2999 baht at shopee.\n",
            "116 Benefits for new members: Deposit 100, receive 300, press kc91.top-c\n",
            "four benefits are for 25 new members : a deposit in 100, receive 300, press kc91. top - 3 c\n",
            "117 Your weekly Cool-Mob tones are ready to download !This weeks new Tones include: 1) Crazy Frog-AXEL F>>> 2) Akon-Lonely>>> 3) Black Eyed-Dont P >>>More info in n\n",
            "your weekly cool - ex mob 2 tones are ready to be download! in this weeks new tones include : 1 ) crazy frog - axel f > > > 2 ) red akon - lonely > > > present 3 ) black eyed - dont p > > > no more background info is in about n\n",
            "118 **FREE MESSAGE**Thanks for using the Auction Subscription Service. 18 . 150p/MSGRCVD 2 Skip an Auction txt OUT. 2 Unsubscribe txt STOP CustomerCare 08718726270\n",
            "* * free message * * thanks for using up the instant auction subscription request service. 18. call 150p / msgrcvd 2 to skip an auction where txt passed out. 2 will unsubscribe that txt to stop customercare 08718726270\n",
            "119 URGENT! Your Mobile No was awarded a à¹à¸2,000 Bonus Caller Prize on 1/08/03! This is our 2nd attempt to contact YOU! Call 0871-4719-523 BOX95QU BT National Rate\n",
            "urgent! your mobile no answer was which awarded us a [UNK], 000 bonus caller prize on sunday 1 / 15 08 / 2014 03! also this is our 2nd futile attempt unsuccessfully to contact you! call 0871 - 4719 - 01 523 box95qu bt national rate\n",
            "120 Good luck, fortune comes to visit, there is a chance to get lucky, press *155*66# or click bit.ly/41L260\n",
            "good for luck, fortune comes to often visit, so there now is now a whole chance not to get lucky, press * 155 * 66 # 1 or... click our bit. ly / 41l260\n",
            "121 SMS SERVICES. for your inclusive text credits, pls goto www.comuk.net login= 3qxj9 unsubscribe with STOP, no extra charge. help 08702840625.COMUK. 220-CM2 9AE\n",
            "smart sms calling services. app for your inclusive account text credits, pls in goto phone www. comuk. com net login = 3qxj9 or unsubscribe with auto stop, no charge extra charge. help 08702840625. comuk. 220 - cm2 9ae\n",
            "122 You won't believe it but it's true. It's Incredible Txts! Reply G now to learn truly amazing things that will blow your mind. From O2FWD only 18p/txt\n",
            "you almost won't believe it but now it's true. oh it's incredible txts! reply for g now to next learn truly amazing magic things but that could will blow on your mind. from o2fwd only get 18p / txt\n",
            "123 Want explicit SEX in 30 secs? Ring 02073162414 now! Costs 20p/min Gsex POBOX 2667 WC1N 3XX\n",
            "want for explicit text sex in between 30 secs? java ring tone 02073162414 go now! app costs us 20p / 4 min gsex pobox 2667 [UNK] wc1n 3xx\n",
            "124 Ringtone Club: Gr8 new polys direct to your mobile every week !\n",
            "ringtone club : provide gr8 brand new pink polys direct to your home mobile app every week!\n",
            "125 Our brand new mobile music service is now live. The free music player will arrive shortly. Just install on your phone to browse content from the top artists.\n",
            "our brand new mobile phone music service industry is now live. the free music store player system will definitely arrive next shortly. just to install on your pay phone handy to browse content selections from the top artists.\n",
            "126 09066362231 URGENT! Your mobile No 07xxxxxxxxx won a à¹à¸2,000 bonus caller prize on 02/06/03! this is the 2nd attempt to reach YOU! call 09066362231 ASAP!\n",
            "as 09066362231 urgent! your mobile no 07xxxxxxxxx won a [UNK], 000 bonus caller key prize on sunday 02 / 11 06 / 03! maybe this is on the exact 2nd attempt to reach to you! still call them 09066362231 asap!\n",
            "127 You have an important customer service announcement from PREMIER.\n",
            "you have an extremely important new customer service news announcement from premier.\n",
            "128 Valentines Day Special! Win over à¹à¸1000 in our quiz and take your partner on the trip of a lifetime! Send GO to 83600 now. 150p/msg rcvd. CustCare:08718720201\n",
            "valentines day special! win over fifty [UNK] students in our quiz contest and take out your partner on the biggest trip of only a lifetime! then send go to facebook 83600 with now. 150p / v msg rcvd. custcare : 08718720201\n",
            "129 FreeMsg Today's the day if you are ready! I'm horny & live in your town. I love sex fun & games! Netcollex Ltd 08700621170150p per msg reply Stop to end\n",
            "please freemsg do today's the big day best if so you are ready! i'm super horny & live in your town. i love sex fun & games! netcollex ltd from 08700621170150p per s msg reply on stop to message end\n",
            "130 You have been specially selected to receive a 2000 pound award! Call 08712402050 BEFORE the lines close. Cost 10ppm. 16+. T&Cs apply. AG Promo\n",
            "you have been specially personally selected to receive this a 2000 british pound award! call your 08712402050 short before the main lines close. cost 10ppm. pull 16 +. both t & cs can apply. ag and promo\n",
            "131 FREE>Ringtone! Reply REAL or POLY eg REAL1 1. PushButton 2. DontCha 3. BabyGoodbye 4. GoldDigger 5. WeBeBurnin 1st tone FREE and 6 more when u join for à¹à¸3/wk\n",
            "free > ringtone! hello reply you real or poly eg [UNK] real1 1. pushbutton version 2. dontcha 3. babygoodbye 4. golddigger 4 5. webeburnin 1st tone 3 free and active 6 more free when u join us for [UNK] / [UNK] wk\n",
            "132 URGENT! We are trying to contact U. Todays draw shows that you have won a à¹à¸2000 prize GUARANTEED. Call 09066358361 from land line. Claim Y87. Valid 12hrs only\n",
            "urgent! no we are only trying to actually contact mobile u. todays draw now shows that you both have successfully won a [UNK] prize guaranteed. call 09066358361 from land line. claim 0 y87. 0 valid 12hrs to only\n",
            "133 HMV BONUS SPECIAL 500 pounds of genuine HMV vouchers to be won. Just answer 4 easy questions. Play Now! Send HMV to 86688 More info:www.100percent-real.com\n",
            "hmv bonus special 500 raf pounds cost of 100 genuine art hmv vouchers to be won. 2 just answer any 4 easy first questions. play now! send hmv bonus to 86688 more info : www. 100percent - 10 real. com com\n",
            "134 Thanks for your ringtone order, ref number R836. Your mobile will be charged à¹à¸4.50. Should your tone not arrive please call customer services on 09065069154\n",
            "express thanks for your delayed ringtone order, ref and number r836. your mobile phone will be charged off [UNK]. 50. 30 should your tone not quickly arrive... please should call customer response services on 09065069154\n",
            "135 Bought one ringtone and now getting texts costing 3 pound offering more tones etc\n",
            "bought plus one other ringtone and now getting texts costing twenty 3 per pound offering two more tones etc\n",
            "136 Freemsg: 1-month unlimited free calls! Activate SmartCall Txt: CALL to No: 68866. Subscriptn3gbp/wk unlimited calls Help: 08448714184 Stop?txt stop landlineonly\n",
            "freemsg : 1 - month unlimited of free calls! help activate smartcall please txt : go call over to me no : 68866. subscriptn3gbp / bing wk service unlimited new calls help : save 08448714184 stop? txt stop landlineonly\n",
            "137 FREE entry into our à¹à¸250 weekly comp just send the word ENTER to 84128 NOW. 18 T&C www.textcomp.com cust care 08712405020.\n",
            "for free electronic entry into our [UNK] weekly comp just facebook send first the word my enter to my 84128 now. 18 t & m c and www. dear textcomp. com our cust care 08712405020.\n",
            "138 LORD OF THE RINGS:RETURN OF THE KING in store NOW!REPLY LOTR by 2 June 4 Chance 2 WIN LOTR soundtrack CDs StdTxtRate. Reply STOP to end txts\n",
            "absent lord guardian of the rings : no return legend of the king in your store tomorrow now! reply lotr by 2 june 4 chance 2 points win lotr soundtrack soundtrack cds stdtxtrate. reply stop back to your end txts\n",
            "139 FREE GAME. Get Rayman Golf 4 FREE from the O2 Games Arcade. 1st get UR games settings. Reply POST, then save & activ8. Press 0 key for Arcade. Termsapply\n",
            "second free home game. get rayman golf 4 players free from the o2 100 games sports arcade. 1st get ur 000 games arcade settings. reply post, password then save & activ8. press 0 key button for games arcade. termsapply\n",
            "140 FREE MSG:We billed your mobile number by mistake from shortcode 83332.Please call 08081263000 to have charges refunded.This call will be free from a BT landline\n",
            "free msg : we are billed your original mobile cell number by mistake from free shortcode from 83332. then please also call 08081263000 not to have charges refunded. this call will be free from owning a bt smart landline\n",
            "141 We tried to contact you re your reply to our offer of a Video Phone 750 anytime any network mins Half Price Line Rental Camcorder Reply or call 08000930705\n",
            "we even tried to directly contact you i re your reply to our simple offer of buying a video phone 750 model anytime across any network 50 mins or half price direct line rental camcorder reply or call 08000930705\n",
            "142 Hi. Customer Loyalty Offer:The NEW Nokia6650 Mobile from ONLY à¹à¸10 at TXTAUCTION! Txt word: START to No: 81151 & get yours Now! 4T&Ctxt TC 150p/MTmsg\n",
            "ultra hi. customer loyalty offer : the exclusive new nokia6650 mobile from 2014 only [UNK] at 10 txtauction! txt word : start right to no : nokia 81151 &... get up yours now! 4t & 3 ctxt tc 150p / s mtmsg\n",
            "143 Salary 38,300 has been credited to your account. Click the link cutt.ly/VVFpD3\n",
            "salary... 38, usd 300 has since been completely credited to your account. now click the public link cutt. com ly / § vvfpd3\n",
            "144 Congrats 2 mobile 3G Videophones R yours. call 09063458130 now! videochat wid ur mates, play java games, Dload polypH music, noline rentl. bx420. ip4. 5we. 150p\n",
            "x congrats 2 mobile application 3g for videophones r r yours. call 09063458130 yes now! see videochat and wid ur mates, play java games, send dload polyph music, noline rentl. bx420. ip4. 5we. 3 150p\n",
            "145 Final Chance! Claim ur à¹à¸150 worth of discount vouchers today! Text YES to 85023 now! SavaMob, member offers mobile! T Cs SavaMob POBOX84, M263UZ. à¹à¸3.00 Subs 16\n",
            "our final chance! will claim ur 10 [UNK] [UNK] worth number of discount vouchers today! may text yes greeting to 85023 now! savamob, the member offers mobile mobile! t cs savamob pobox84, m263uz. [UNK]. 00 number subs 16\n",
            "146 WOW! The Boys R Back. TAKE THAT 2007 UK Tour. Win VIP Tickets & pre-book with VIP Club. Txt CLUB to 81303. Trackmarque Ltd info@vipclub4u.\n",
            "party wow! the boys 2 r ft back. take it that 2007 uk world tour. win vip tickets & pre - book deal with bbc vip club. txt club to facebook 81303. visit trackmarque ltd download info @ vipclub4u.\n",
            "147 Romantic Paris. 2 nights, 2 flights from à¹à¸79 Book now 4 next year. Call 08704439680Ts&Cs apply.\n",
            "romantic paris. got 2 summer nights, and 2 flights come from [UNK] book now about 4 next year. can call id 08704439680ts & 3 cs will apply.\n",
            "148 You have WON a guaranteed à¹à¸1000 cash or a à¹à¸2000 prize.To claim yr prize call our customer service representative on\n",
            "you have won a only guaranteed [UNK] of cash or a full [UNK] prize. to my claim yr prize call from our customer feedback service review representative on\n",
            "149 Wanna have a laugh? Try CHIT-CHAT on your mobile now! Logon by txting the word: CHAT and send it to No: 8883 CM PO Box 4217 London W1A 6ZF 16+ 118p/msg rcvd\n",
            "anyone wanna have a laugh? try chit - tech chat it on your mobile now! logon by using txting of the word : chat and send it to no : 9 8883 cm 1 po box 4217 london number w1a 6zf 2 16 + 02 118p / msg rcvd\n",
            "150 You've won the prize. You can receive 1000 baht now https://bit.ly/3sM0agU\n",
            "you'd ve never won the 1st prize. therefore you all can eventually receive back 1000 baht now... https : / / bit. ly / new 3sm0agu\n",
            "151 Had your contract mobile 11 Mnths? Latest Motorola, Nokia etc. all FREE! Double Mins & Text on Orange tariffs. TEXT YES for callback, no to remove from records\n",
            "had your contract broken mobile with 11 mnths? latest date motorola, nokia etc. it all free! double mins & text on most orange key tariffs. free text yes check for the callback, no button to remove from records\n",
            "152 Free video camera phones with Half Price line rental for 12 mths and 500 cross ntwk mins 100 txts. Call MobileUpd8 08001950382 or Call2OptOut/674&\n",
            "free portable video camera digital phones sold with half their price line rental costs for 12 hundred mths users and 500 users cross ntwk mins or 100 txts. call mobileupd8 08001950382 or call call2optout / 674 &\n",
            "153 Todays Voda numbers ending 5226 are selected to receive a ?350 award. If you hava a match please call 08712300220 quoting claim code 1131 standard rates app \n",
            "todays voda mail numbers ending up 5226 are currently selected to ultimately receive a? h 350 award. if you hava needs a match request please just call 08712300220 quoting claim code 1131 over standard exchange rates app\n",
            "154 FreeMsg Hey there darling it's been 3 week's now and no word back! I'd like some fun you up for it still? Tb ok! XxX std chgs to send, à¹à¸1.50 to rcv\n",
            "please freemsg hey there beloved darling love it'l s been 3 week'd s now and no word back! i'd d like some fun where you up for making it still? tb t ok! xxx s std chgs to send, [UNK]. 50 to rcv\n",
            "155 HOT LIVE FANTASIES call now 08707500020 Just 20p per min NTT Ltd, PO Box 1327 Croydon CR9 5WB 0870 is a national rate call\n",
            "hot live fantasies call now 08707500020 just 20p number per min one ntt ltd, co po box 1327 telephone croydon call cr9 call 5wb on 0870 there is a typical national rate of call\n",
            "156 Hi, the SEXYCHAT girls are waiting for you to text them. Text now for a great night chatting. send STOP to stop this service\n",
            "hi, the sexychat hot girls and are waiting for you to text them. text now for enjoyed a great night long chatting. text send at stop to all stop with this message service\n",
            "157 Today's Offer! Claim ur à¹à¸150 worth of discount vouchers! Text YES to 85023 now! SavaMob, member offers mobile! T Cs 08717898035. à¹à¸3.00 Sub. 16 . Unsub reply X\n",
            "today's offer! claim ur [UNK] worth share of discount for vouchers! text you yes to 85023... now! savamob, founder member of offers mobile! com t [UNK] cs 08717898035. [UNK]. 00 and sub. 16. unsub [UNK] reply x\n",
            "158 Your salary has arrived: 888. Press https://line.ee/CHireZ9\n",
            "your next salary date has arrived : publication 888. new press at https : / / line. com ee / de chirez9\n",
            "159 This is the 2nd time we have tried to contact u. U have won the à¹à¸400 prize. 2 claim is easy, just call 087104711148 NOW! Only 10p per minute. BT-national-rate\n",
            "this is even the 2nd record time we have tried to contact i u. you u may have won the million [UNK] prize. 2 claim is easy, just call 087104711148 now! only wait 10p per minute. 10 bt - guangzhou national - daily rate\n",
            "160 URGENT!: Your Mobile No. was awarded a à¹à¸2,000 Bonus Caller Prize on 02/09/03! This is our 2nd attempt to contact YOU! Call 0871-872-9755 BOX95QU\n",
            "yes urgent! : your mobile no. was awarded a special [UNK], 000 bonus automatic caller reply prize on 02 / 09 / 2009 03! this is just our 2nd attempt round to just contact you! call back 0871 - 872 - 4 9755 box95qu\n",
            "161 FREE for 1st week! No1 Nokia tone 4 ur mobile every week just txt NOKIA to 8077 Get txting and tell ur mates. www.getzed.co.uk POBox 36504 W45WQ 16+ norm150p/tone\n",
            "1 free download for 1st week! no1 nokia tone 4 ur mobile 1 every month week just txt from nokia to iphone 8077 get by txting and can tell ur mates. org www. getzed. co. uk pobox 36504 w45wq 16 + 1 norm150p / tone\n",
            "162 PRIVATE! Your 2003 Account Statement for shows 800 un-redeemed S. I. M. points. Call 08715203652 Identifier Code: 42810 Expires 29/10/0\n",
            "private! your july 2003 account statement for shows a 800 different un - redeemed s. i. e m. points. you call id 08715203652 and identifier code : 42810 and expires dated 29 / 10 / 04 0\n",
            "163 URGENT! Your Mobile number has been awarded with a à¹à¸2000 prize GUARANTEED. Call 09061790126 from land line. Claim 3030. Valid 12hrs only 150ppm\n",
            "urgent! 7 your mobile number 0 has now been therefore awarded successfully with [UNK] a double [UNK] prize guaranteed. call 09061790126 999 from land line. claim 3030. 8 valid 12hrs covering only 150ppm\n",
            "164 Give a prepaid card worth 500 Thai baht as a gift and have a chance to win 5 Thai baht/message for lucky service application based on * 224 #.\n",
            "so give a free prepaid card worth 500 thai baht monthly as only a gift and have yourself a chance to win 5 thai baht / message costs for [UNK] lucky to service application and based on *... 224 #.\n",
            "165 You can now get Â£ 69 for free from us. Click on s.id/1PJ9r-u\n",
            "but you can only now get a£ 69 for free from all us. click again on 1 s. 1 id / [UNK] 1pj9r - see u\n",
            "166 Hello. We need some posh birds and chaps to user trial prods for champneys. Can i put you down? I need your address and dob asap. Ta r\n",
            "hello. we only need us some more posh birds and big chaps to user for trial prods like for champneys. can i put you down? i need you your address address here and dob asap. a ta r\n",
            "167 Check your New Year's fortune!! Press now for accurate horoscope checking service. Just press *241*9# to apply for auspicious horoscopes for 10 baht/day. For more, call 027669009.\n",
            "check in your new year's bank fortune!! press now for accurate timing horoscope checking this service. could just press * with 241 * number 9 # to please apply for auspicious horoscopes for 10 baht / short day. ask for more, call 027669009.\n",
            "168 Ready to receive a free call fee of 500 baht, just press *172# and call, apply for good luck, get a chance to receive 3 baht/message.\n",
            "ready free to receive payment a special free return call fee of 500 chinese baht, just as press * 172 # mail and call, apply for immediate good medical luck, get a chance to receive 3 baht / no message.\n",
            "169 Ur TONEXS subscription has been renewed and you have been charged à¹à¸4.50. You can choose 10 more polys this month. www.clubzed.co.uk *BILLING MSG*\n",
            "ur no tonexs subscription has been renewed and all you have been also charged 3 [UNK]. [UNK] 50. you can further choose to 10 more polys this last month. www. clubzed. co. gb uk * easy billing msg *\n",
            "170 Hey Boys. Want hot XXX pics sent direct 2 ur phone? Txt PORN to 69855, 24Hrs free and then just 50p per day. To stop text STOPBCM SF WC1N3XX\n",
            "uh hey boys. want extra hot picture xxx pics as sent to direct 2 ur phone? txt porn to 69855, 4 24hrs free and free then just 50p per day. to be stop reading text stopbcm a sf wc1n3xx\n",
            "171 U have a secret admirer who is looking 2 make contact with U-find out who they R*reveal who thinks UR so special-call on 09058094565\n",
            "that u have a secret admirer who online is still looking 2 to make contact with you u - find out if who think they r * reveal who thinks ur so not special - please call on them 09058094565\n",
            "172 Emergency fund approved up to 80,000 baht. Click here https://bit.ly/3F3v3DM\n",
            "state emergency services fund approved funds up to about 80, 11 000 baht. will click here here at https : / / bit. ly / a 3f3v3dm\n",
            "173 Your credits have been topped up for http://www.bubbletext.com Your renewal Pin is tgxxrz\n",
            "remember your email credits have been getting topped up now for http : / /... www. bubbletext. and com now your mine renewal pin is tgxxrz\n",
            "174 Dear Matthew please call 09063440451 from a landline, your complimentary 4*Lux Tenerife holiday or à¹à¸1000 CASH await collection. ppm150 SAE T&Cs Box334 SK38XH.\n",
            "dear matthew please call 09063440451 from a private landline, receiving your new complimentary 4 * 2 lux with tenerife holiday money or new [UNK] 5 cash note await additional collection. ppm150 sae t & cs box334 sk38xh.\n",
            "175 No 1 POLYPHONIC tone 4 ur mob every week! Just txt PT2 to 87575. 1st Tone FREE ! so get txtin now and tell ur friends. 150p/tone. 16 reply HL 4info\n",
            "no 1 or polyphonic tone 4 on ur fuck mob every bloody week! just 1 txt pt2 to 87575. 1st tone free! why so get txtin here now and tell ur mutual friends. 150p / tone. the 16 reply to hl 4info\n",
            "176 SIX chances to win CASH! From 100 to 20,000 pounds txt> CSH11 and send to 87575. Cost 150p/day, 6days, 16+ TsandCs apply Reply HL 4 info\n",
            "has six 000 chances to match win with cash! from 100 to 20, 00 000 pounds txt > and csh11 and can send to 87575. cost 150p / day, 6days, 000 16 + tsandcs apply reply in hl page 4 info\n",
            "177 u r subscribed 2 TEXTCOMP 250 wkly comp. 1st wk?s free question follows, subsequent wks charged@150p/msg.2 unsubscribe txt STOP 2 84128,custcare 08712405020\n",
            "u r 1 subscribed u 2 textcomp 250 for wkly comp. 1st wk? the s free download question follows, subsequent 10 wks still charged @ 150p / min msg. 2 rs unsubscribe txt stop 2 [UNK] 84128, custcare 08712405020\n",
            "178 Call FREEPHONE 0800 542 0578 now!\n",
            "i call my freephone 0800 1 542 1 0578 now!\n",
            "179 Dear Subscriber ur draw 4 à¹à¸100 gift voucher will b entered on receipt of a correct ans. When was Elvis Presleys Birthday? TXT answer to 80062\n",
            "please dear host subscriber save ur no draw a 4 [UNK] gift mail voucher will b entered 0 on receipt notice of a correct 0 ans. when was elvis presleys birthday? txt and answer to 80062\n",
            "180 CDs 4u: Congratulations ur awarded à¹à¸500 of CD gift vouchers or à¹à¸125 gift guaranteed & Freeentry 2 à¹à¸100 wkly draw xt MUSIC to 87066 TnCs www.ldew.com1win150ppmx3age16 \n",
            "cds 4u : a congratulations where ur awarded [UNK] of his cd gift wrapping vouchers or [UNK] gift certificates guaranteed & [UNK] freeentry 2 [UNK] for wkly draw xt music to copyright 87066 tncs www. youtube ldew. web com1win150ppmx3age16\n",
            "181 Free money into your phone. Press *139# to get a chance to win before anyone else. Apply for good luck, good luck, 3 baht/message\n",
            "pump free money into installing your phone. press * button 139 # 16 to get there a chance to really win credit before anyone else. apply for good business luck, or good luck, 3 n baht / message\n",
            "182 You have 1 new message. Please call 08718738034.\n",
            "today you only have 1 unique new recorded message. please call it 08718738034.\n",
            "183 Buy Space Invaders 4 a chance 2 win orig Arcade Game console. Press 0 for Games Arcade (std WAP charge) See o2.co.uk/games 4 Terms + settings. No purchase\n",
            "buy space invaders 4 a free chance 2 can win orig arcade game console. also press number 0 for games 6 arcade ( or std through wap charge ) now see to o2. co. uk / games 4 terms + settings. no available purchase\n",
            "184 How about getting in touch with folks waiting for company? Just txt back your NAME and AGE to opt in! Enjoy the community (150p/SMS)\n",
            "how not about only getting in touch with folks waiting for your company? or just getting txt back of your name and an age to still opt in! enjoy growing the community ( 150p / second sms )\n",
            "185 Slot game, share, receive free 79999 baht. First deposit receive 1599 baht. Click to receive v52ee.com\n",
            "player slot 2 game, share, receive plus free transfer 79999 baht. over first two deposit holders receive 1599 baht. click on to receive v52ee. ph com\n",
            "186 You have won a guaranteed 32000 award or maybe even à¹à¸1000 cash to claim ur award call free on 0800 . (18+). Its a legitimat efreefone number wat do u think???\n",
            "you have won a cash guaranteed 32000 award or it maybe even [UNK] [UNK] cash to claim this ur award your call free anytime on 0800. ( and 18 + ). where its a legitimat efreefone number say wat whose do u think???\n",
            "187 Hi babe its Chloe, how r u? I was smashed on saturday night, it was great! How was your weekend? U been missing me? SP visionsms.com Text stop to stop 150p/text\n",
            "uh hi babe its great chloe, how long r u? i was smashed on saturday good night, it was pretty great! so how bad was your weekend? u been missing text me? sp visionsms. com text text stop to stop 150p / h text\n",
            "188 Urgent! Please call 0906346330. Your ABTA complimentary 4* Spanish Holiday or à¹à¸10,000 cash await collection SAE T&Cs BOX 47 PO19 2EZ 150ppm 18+\n",
            "urgent! please call 0906346330. your contents abta are complimentary 4 * no spanish holiday or for [UNK], 000 cash awards await your collection 2017 sae for t & r cs box is 47 po19 2ez 150ppm 18 +\n",
            "189 Free Msg: get Gnarls Barkleys \\Crazy\\\" ringtone TOTALLY FREE just reply GO to this message right now!\"\n",
            "free msg : get gnarls of barkleys \\ voice crazy \\ \" go ringtone on totally is free or just reply but go to this damned message box right now! \"\n",
            "190 URGENT! We are trying to contact U. Todays draw shows that you have won a à¹à¸800 prize GUARANTEED. Call 09050003091 from land line. Claim C52. Valid12hrs only\n",
            "very urgent! although we are trying harder to contact i u. todays draw shows with that so you cannot have won a [UNK] prize guaranteed. call 09050003091 from your land extension line. claim date c52. valid12hrs only\n",
            "191 Special only for True Red customers, discount up to 5400.- when purchasing Apple Watch Series 5 @ True Shop 1-21 Mar. '21, click https://ct.elimks.io/oQhh1keF\n",
            "offered special only for true international red watch customers, discount up to us 5400. - required when purchasing the apple watch series s 5 @ true world shop 1 - 21 mar.'21, click https : / / ct. pdf elimks. ch io / oqhh1kef\n",
            "192 Had your mobile 10 mths? Update to the latest Camera/Video phones for FREE. KEEP UR SAME NUMBER, Get extra free mins/texts. Text YES for a call\n",
            "had your mobile 10 plus mths? daily update to all the five latest camera / video phones and for more free. keep ur content same number, get extra free 14 mins / texts. drop text at yes for a call\n",
            "193 Congratulations, received quota 130,000, click https://line.me/ti/p/cj64SPf71i\n",
            "as congratulations, athletes received further quota to 130, 5 000, click below https : / / personal line. or me / en ti / p / cj64spf71i\n",
            "194 You have won ?1,000 cash or a ?2,000 prize! To claim, call09050000327\n",
            "could you also have originally won? 1, 50 000 000 cash pounds or a? 2, 02 000 prize! to claim, just call09050000327\n",
            "195 Hack Chat. Get backdoor entry into 121 chat rooms at a fraction of the cost. Reply NEO69 or call 09050280520, to subscribe 25p pm. DPS, Bcm box 8027 Ldn, wc1n3xx\n",
            "hack chat. will get backdoor entry into 121 chat function rooms at a fraction of of the cost. either reply neo69 phone or possibly call out 09050280520, to mobile subscribe 25p pm. dps, a bcm box or 8027 ldn, wc1n3xx\n",
            "196 You received a grant of 15800. Apply to receive.\n",
            "here you received a grant order of 15800. apply again to formally receive.\n",
            "197 Free home internet speed upgrade every month! True Black/True Red customers Home internet with maximum speed of 1000/100 Mbps for 30 days or free 30 True Points 1 Jan '21 - 32 Dec '21 https://ct.elinks.io/BKP6Pc9Q\n",
            "free home network internet speed upgrade every month! true black / true big red customers want home internet with maximum peak speed of 1000 / 100 1 mbps for every 30 test days or years free 30 true points 1 jan'21 - 32 5 dec'21... https : / / ct. elinks. io / bkp6pc9q\n",
            "198 U are subscribed to the best Mobile Content Service in the UK for à¹à¸3 per 10 days until you send STOP to 82324. Helpline 08706091795\n",
            "u are fully subscribed to for the best access mobile content delivery service in all the western uk for [UNK] per user 10 days or until you send stop notes to 82324. uk helpline 08706091795\n",
            "199 UR awarded a City Break and could WIN a à¹à¸200 Summer Shopping spree every WK. Txt STORE to 88039.SkilGme.TsCs087147403231Winawk!Age16+à¹à¸1.50perWKsub\n",
            "ur being awarded a golden city break again and could still win for a [UNK] summer period shopping shopping spree from every wk. txt store to 88039. skilgme. tscs087147403231winawk! with age16 + and [UNK]. 50perwksub\n",
            "200 Sunshine Quiz Wkly Q! Win a top Sony DVD player if u know which country the Algarve is in? Txt ansr to 82277. à¹à¸1.50 SP:Tyrone\n",
            "sunshine quiz wkly no q! win a next top sony dvd dvd player... if can u know which other country the algarve is really in? txt ansr links to 82277. [UNK]. 1 50 sp : richard tyrone\n",
            "201 Text PASS to 69669 to collect your polyphonic ringtones. Normal gprs charges apply only. Enjoy your tones\n",
            "text pass to opus 69669 and to then collect back your original polyphonic home ringtones. normal gprs charges apply online only. enjoy collecting your tones\n",
            "202 Download as many ringtones as u like no restrictions, 1000s 2 choose. U can even send 2 yr buddys. Txt Sir to 80082 à¹à¸3 \n",
            "download only as with many private ringtones etc as u like no restrictions, just 1000s 2 choose. u can even manually send 2 yr buddys. free txt with sir to secure 80082 files [UNK]\n",
            "203 Dear 0776xxxxxxx U've been invited to XCHAT. This is our final attempt to contact u! Txt CHAT to 86688 150p/MsgrcvdHG/Suite342/2Lands/Row/W1J6HL LDN 18yrs \n",
            "dear 0776xxxxxxx u'may ve been invited to my xchat. this is only our second final attempt to contact u! txt... chat to port 86688 via 150p / vs msgrcvdhg / suite342 / 2lands / hello row / w1j6hl ldn to 18yrs\n",
            "204 wamma get laid?want real doggin locations sent direct to your mobile? join the UKs largest dogging network. txt dogs to 69696 now!nyt. ec2a. 3lp à¹à¸1.50/msg.\n",
            "wamma get laid? not want real doggin locations sent direct call to access your mobile? to join as the uks leagues largest dogging network. email txt with dogs to 69696 now! nyt. ec2a. 50 3lp plus [UNK]. 50 / msg.\n",
            "205 Congratulations! Thanks to a good friend U have WON the à¹à¸2,000 Xmas prize. 2 claim is easy, just call 08718726978 NOW! Only 10p per minute. BT-national-rate\n",
            "2 congratulations! thanks to a... good friend [UNK] u have won me the [UNK], 150 000 xmas prize. 2 claim the is easy, just call u 08718726978 now! but only 10p per bank minute. bt - c national - rate\n",
            "206 PRIVATE! Your 2003 Account Statement for shows 800 un-redeemed S. I. M. points. Call 08715203694 Identifier Code: 40533 Expires 31/10/04\n",
            "private! complete your 2003 windows account user statement for shows around 800 billion un - rendered redeemed s. i. or m. points. call 08715203694 file identifier source code : 40533 expires at 31 / 10 / 04\n",
            "207 1000's of girls many local 2 u who r virgins 2 this & r ready 2 4fil ur every sexual need. Can u 4fil theirs? text CUTE to 69911(à¹à¸1.50p. m)\n",
            "1 1000's of different girls many local 2 are u who to r virgins 2 all this & r ready 2 4fil s ur every sexual opportunity need. can u 4fil theirs? [UNK] text cute reply to ng 69911 ( [UNK]. 50p. m )\n",
            "208 RGENT! This is the 2nd attempt to contact U!U have WON à¹à¸1250 CALL 09071512433 b4 050703 T&CsBCM4235WC1N3XX. callcost 150ppm mobilesvary. maxà¹à¸7. 50\n",
            "rgent! this... is the potential 2nd attempt to literally contact the u! u have successfully won 2 [UNK] call 09071512433 5 b4 050703 1 t & csbcm4235wc1n3xx. 20 callcost 0 150ppm mobilesvary. [UNK]. 50\n",
            "209 Accurate fortune telling Get easy rights now, press *241*9# or call 027669009\n",
            "other accurate fortune book telling lets get it easy rights now, [UNK] press * 241 * 9 # send or call with 027669009\n",
            "210 we tried to contact you re your response to our offer of a new nokia fone and camcorder hit reply or call 08000930705 for delivery\n",
            "we even tried to contact with you re your response was to view our offer of buying a new 25 nokia fone phones and any camcorder hit reply or call 08000930705 check for their delivery\n",
            "211 As one of our registered subscribers u can enter the draw 4 a 100 G.B. gift voucher by replying with ENTER. To unsubscribe text STOP\n",
            "also as one function of our registered bank subscribers mobile u can enter the free draw 4 a 100 g. b. gift card voucher card by freely replying with enter. not to unsubscribe original text stop\n",
            "212 Someone U know has asked our dating service 2 contact you! Cant guess who? CALL 09058095107 NOW all will be revealed. POBox 7, S3XY 150p \n",
            "someone u shall know has personally asked on our dating service 2 contact us you! cant guess who? why call 09058095107 so now all these will be be soon revealed. im pobox 7, s3xy 150p\n",
            "213 CLAIRE here am havin borin time & am now alone U wanna cum over 2nite? Chat now 09099725823 hope 2 C U Luv CLAIRE xx Callsà¹à¸1/minmoremobsEMSPOBox45PO139WA\n",
            "claire yu here am so havin borin time & am now alone if u wanna cum over 2nite? chat well now id 09099725823 my hope u 2 r c u r luv claire xx 000 [UNK] / minmoremobsemspobox45po139wa\n",
            "214 FREE entry into our à¹à¸250 weekly competition just text the word WIN to 80086 NOW. 18 T&C www.txttowin.co.uk\n",
            "a free online entry into our [UNK] weekly competition just click text the magic word to win to 80086 students now. 18 the t & c [UNK] www. txttowin. office co. uk\n",
            "215 TBS/PERSOLVO. been chasing us since Sept forà¹à¸38 definitely not paying now thanks to your information. We will ignore them. Kath. Manchester.\n",
            "tbs / persolvo. been actively chasing us everything since that sept 5 [UNK] definitely not worth paying now too thanks to our your overwhelming information. we will ignore all them. cried kath. manchester.\n",
            "216 okmail: Dear Dave this is your final notice to collect your 4* Tenerife Holiday or #5000 CASH award! Call 09061743806 from landline. TCs SAE Box326 CW25WX 150ppm\n",
            "2 okmail : dear jim dave i this is your final notice to either collect per your 4 * 6 tenerife bank holiday fund or # 7 5000 cash award! call 09061743806 from landline. il tcs sae box326 cw25wx 150ppm\n",
            "217 Thanks for your Ringtone Order, Reference T91. You will be charged GBP 4 per week. You can unsubscribe at anytime by calling customer services on 09057039994\n",
            "second thanks for sending your ringtone response order, reference t91. 1 you will be charged one gbp 4 per week. meaning you can still unsubscribe at all anytime by calling customer services based on code 09057039994\n",
            "218 Do you want a New Nokia 3510i colour phone DeliveredTomorrow? With 300 free minutes to any mobile + 100 free texts + Free Camcorder reply or call 08000930705\n",
            "do you very want a wonderful new nokia 3510i colour phone now deliveredtomorrow? with service 300 000 free minutes to work any available mobile + 100 free texts + 150 free camcorder telephone reply or first call 08000930705\n",
            "219 If you run out of money, press *184# and now you'll get a free call of 500 baht. Apply for a chance to win the lucky draw of 3 baht/message.\n",
            "if you run out tonight of money, press * 184 # and back now you'til ll get only a monthly free call cost of 500 baht. apply only for a chance opportunity to win in the next lucky draw of 3 baht / message.\n",
            "220 U have won a nokia 6230 plus a free digital camera. This is what u get when u win our FREE auction. To take part send NOKIA to 83383 now. POBOX114/14TCR/W1 16\n",
            "u have won a nokia 6230 device plus as a free digital camera. well this is about what u get when u can win for our free computer auction. to first take part send another nokia to 83383 now. pobox114 / 14tcr / w1 9 16\n",
            "221 Cashbin.co.uk (Get lots of cash this weekend!) www.cashbin.co.uk Dear Welcome to the weekend We have got our biggest and best EVER cash give away!! These.\n",
            "[UNK] cashbin. co. ltd uk ( gonna get everyone lots of cash money this weekend! ) [UNK] www. cashbin. co. uk dear friend welcome to the weekend we have just got our the biggest and best ever ever cash give away!! these.\n",
            "222 Reduce overtaking! Move to True Online. Get a new WiFi6 router at no extra cost! There are many privileges.\n",
            "reduce overtaking! and move us to some true internet online. get us a new wifi6 router at very no considerable extra cost! now there really are many privileges.\n",
            "223 Free 50, no need to share, 6:00-9:00 p.m., first deposit 50%, pour 1 times.\n",
            "plus free cash 50, no longer need to share share, 6 : 07 00 - hour 9 : 02 00 th p. m., plus first deposit 50 %, pour 1 times.\n",
            "224 Press * 172 # to get lucky tips, call 500 baht for free, and win 3 baht/SMS\n",
            "press * error 172 # to get all lucky tips, call back 500 each baht for free, and still win a 3 baht / min sms\n",
            "225 WIN a year supply of CDs 4 a store of ur choice worth à¹à¸500 & enter our à¹à¸100 Weekly draw txt MUSIC to 87066 Ts&Cs www.Ldew.com.subs16+1win150ppmx3\n",
            "win a year of supply of music cds from 4 access a store of 14 ur choice records worth 2 [UNK] & 1 enter our [UNK] weekly books draw txt music access to 87066 ts & cs www. ldew. com. subs16 + 1win150ppmx3\n",
            "226 lyricalladie(21/F) is inviting you to be her friend. Reply YES-910 or NO-910. See her: www.SMS.ac/u/hmmross STOP? Send STOP FRND to 62468\n",
            "lyricalladie ( no 21 / f ) is inviting for you to be on her friend. reply either yes - 910 or letter no - or 910. see her : and www. save sms. ac / u / hmmross to stop? send send stop frnd to 62468\n",
            "227 Call Germany for only 1 pence per minute! Call from a fixed line via access number 0844 861 85 85. No prepayment. Direct access! www.telediscount.co.uk\n",
            "call northern germany this for only 1 pence coin per 40 minute! call from a fixed line site via caller access number 0844 861 85 802 85. no prepayment. unlimited direct cable access! see www. telediscount. co. uk\n",
            "228 You are a winner U have been specially selected 2 receive à¹à¸1000 or a 4* holiday (flights inc) speak to a live operator 2 claim 0871277810910p/min (18+) \n",
            "[UNK] you are currently a winner u u have been nominated specially selected 2 [UNK] receive [UNK] share or receive a share 4 * holiday ( flights inc ) speak to to a live operator 2 claim 0871277810910p / min ( air 18 + )\n",
            "229 Santa Calling! Would your little ones like a call from Santa Xmas eve? Call 09058094583 to book your time.\n",
            "and santa are calling! would your two little ones behave like a phone call from santa xmas weekend eve? pray call 09058094583 to book up your swing time.\n",
            "230 XMAS iscoming & ur awarded either à¹à¸500 CD gift vouchers & free entry 2 r à¹à¸100 weekly draw txt MUSIC to 87066 TnC www.Ldew.com1win150ppmx3age16subscription \n",
            "xmas iscoming & victor ur awarded either [UNK] [UNK] 25 cd gift of vouchers & free entry 2 r and [UNK] 100 weekly a draw txt music to 87066 for tnc www. ldew. co com1win150ppmx3age16subscription\n",
            "231 I'd like to tell you my deepest darkest fantasies. Call me 09094646631 just 60p/min. To stop texts call 08712460324 (nat rate)\n",
            "i'l d also like just to tell only you my deepest the darkest fantasies. to call me 09094646631 4 just 60p / 0 min. to stop texts call me 08712460324 ( default nat rate )\n",
            "232 Join in making money with a legal travel company. Interested in ID e651?\n",
            "i join more in making more money involved with leading a legal travel company. more interested in id e651?\n",
            "233 You have an important customer service announcement. Call FREEPHONE 0800 542 0825 now!\n",
            "do you have an important customer service announcements announcement. we call it freephone 0800 542 00 0825 wait now!\n",
            "234 Did you hear about the new \\Divorce Barbie\\\"? It comes with all of Ken's stuff!\"\n",
            "you did you not hear about the new \\ at divorce barbie \\ \"? and it actually comes with all of my ken's baby stuff! \"\n",
            "235 FREEMSG: Our records indicate you may be entitled to 3750 pounds for the Accident you had. To claim for free reply with YES to this msg. To opt out text STOP\n",
            "or freemsg : and our records indicate you may be still entitled to 3750 hk pounds for the accident you also had. you to claim for free would reply with yes to this from msg. so to opt out text message stop\n",
            "236 Direct website, quick withdrawals, guaranteed money, all game fees available at bit.ly/36tqczs\n",
            "direct service website, only quick withdrawals, guaranteed money, that all no game fees are available also at php bit. ly / and 36tqczs\n",
            "237 For ur chance to win a à¹à¸250 cash every wk TXT: ACTION to 80608. T's&C's www.movietrivia.tv custcare 08712405022, 1x150p/wk.\n",
            "cash for ur chance how to go win a [UNK] million cash every wk txt : action go to 80608. the t'i s & c's www. galaxy movietrivia. tv or custcare 08712405022, plus 1x150p / wk.\n",
            "238 Free credit, can be withdrawn 99, first deposit receive an additional 30% urgently www.t99gamimg.cc/Win\n",
            "2 free use credit, and can still be withdrawn 99, 00 first person deposit must receive an additional the 30 % most urgently www. t99gamimg. cc / win\n",
            "239 FreeMsg: Claim ur 250 SMS messages-Text OK to 84025 now!Use web2mobile 2 ur mates etc. Join Txt250.com for 1.50p/wk. T&C BOX139, LA32WU. 16 . Remove txtX or stop\n",
            "freemsg : claim ur 250 sms messages - text ok mail to 84025 now! to use another web2mobile level 2 ur mates with etc. join txt250. com com html for ur 1. com 50p / wk. t & c from box139, la32wu. 16. remove txtx or stop\n",
            "240 Win millions in gold! It's easy, just apply for Po Taek Entertainment service, press *471*55#\n",
            "win several millions in gold! when it's easy, just apply yourself for the po lee taek kim entertainment booking service, associated press * 471 * 55 #\n",
            "241 The call cost has expired, just press *172# for a chance to win and apply for good luck.\n",
            "the call cost sheet has already expired, now just press * 172 # for a chance opportunity to quietly win it and apply for good phone luck.\n",
            "242 FreeMsg: Txt: CALL to No: 86888 & claim your reward of 3 hours talk time to use from your phone now! Subscribe6GBP/mnth inc 3hrs 16 stop?txtStop\n",
            "text freemsg : txt : call to no : 555 86888 & claim your financial reward payment of 3 hours plus talk time to use text from your phone now! can subscribe6gbp / on mnth inc 3hrs or 16 minutes stop? txtstop\n",
            "243 Angels hold lucky draws, giving away free money worth more than 50,000 baht until 29 May. In311.com\n",
            "these angels hold their lucky draws, giving straight away free paper money any worth more value than rs 50, 000 baht until 29 may. in311. in com\n",
            "244 WELL DONE! Your 4* Costa Del Sol Holiday or à¹à¸5000 await collection. Call 09050090044 Now toClaim. SAE, TCs, POBox334, Stockport, SK38xh, Costà¹à¸1.50/pm, Max10mins\n",
            "oh well done! record your 4 * costa san del sol sol holiday or friday [UNK] await collection. i call 09050090044 now toclaim. 2 sae, 8 tcs, pobox334, 1 stockport, sk38xh, 10 [UNK]. 50 / pm, max10mins\n",
            "245 U 447801259231 have a secret admirer who is looking 2 make contact with U-find out who they R*reveal who thinks UR so special-call on 09058094597\n",
            "u... 447801259231 have captured a secret admirer who is looking now 2 make contact with u - well find an out who they r * reveal however who also thinks ur so was special - all call by on 09058094597\n",
            "246 GSOH? Good with SPAM the ladies?U could b a male gigolo? 2 join the uk's fastest growing mens club reply ONCALL. mjzgroup. 08714342399.2stop reply STOP. msg@à¹à¸1.50rcvd\n",
            "gsoh? good with our spam with the ladies? when u could a b a male gigolo? 2 join the new uk'u s fastest growing mens club reply here oncall. mjzgroup. uk 08714342399. 2stop to reply please stop. msg @ [UNK]. 50rcvd\n",
            "247 This message is free. Welcome to the new & improved Sex & Dogging club! To unsubscribe from this service reply STOP. msgs@150p 18 only\n",
            "yes this message is free. hello welcome to the upcoming new & improved club sex & sex dogging club! continue to unsubscribe from this daily service reply stop. on msgs @ 150p has 18 hours only\n",
            "248 3 FREE TAROT TEXTS! Find out about your love life now! TRY 3 FOR FREE! Text CHANCE to 85555 16 only! After 3 Free, Msgs à¹à¸1.50 each\n",
            "3 free tarot texts! gotta find out something about from your love life starting now! try 3 for free! 4 text chance 0 to 85555 16 min only! after 3 with free, msgs for [UNK]. [UNK] 50 each\n",
            "249 URGENT! Your Mobile No 07808726822 was awarded a à¹à¸2,000 Bonus Caller Prize on 02/09/03! This is our 2nd attempt to contact YOU! Call 0871-872-9758 BOX95QU\n",
            "but urgent! your mobile no phone 07808726822 was awarded 2 a full [UNK], 000 bonus caller prize already on 02 / 09 / 03! this radio is our 2nd attempt to contact with you! special call id 0871 - 872 - 9758 phone box95qu\n",
            "250 Free tones Hope you enjoyed your new content. text stop to 61610 to unsubscribe. help:08712400602450p Provided by tones2you.co.uk\n",
            "itunes free content tones that hope you enjoyed with your new content. free text stop set to be 61610 pages to unsubscribe. help : now 08712400602450p also provided by tones2you. co. uk\n",
            "251 Kit Strip - you have been billed 150p. Netcollex Ltd. PO Box 1013 IG11 OJA\n",
            "kit and strip - you have just been double billed from 150p. netcollex limited ltd. from po box number 1013 to ig11 oja\n",
            "252 k689 invites you home to receive a bonus of 400 sourl.cn/SmH4Mk\n",
            "k689 invites you at home occasionally to receive back a unique bonus pack of 400 of sourl. 1 cn / smh4mk\n",
            "253 Twinks, bears, scallies, skins and jocks are calling now. Don't miss the weekend's fun. Call 08712466669 at 10p/min. 2 stop texts call 08712460324(nat rate)\n",
            "twinks, big bears, scallies, skins and jocks we are calling now. don't miss the weekend's extra fun. just call 08712466669 at 10p / h min. click 2 stop any texts from call number 08712460324 ( at nat rate )\n",
            "254 Do you want a New Nokia 3510i Colour Phone Delivered Tomorrow? With 200 FREE minutes to any mobile + 100 FREE text + FREE camcorder Reply or Call 8000930705\n",
            "would do anything you want anymore a new nokia model 3510i colour phone delivered for tomorrow? back with 200 more free minutes to any mobile + 100 free text + 75 free camcorder reply ready or mobile call 8000930705\n",
            "255 URGENT! Your mobile was awarded a à¹à¸1,500 Bonus Caller Prize on 27/6/03. Our final attempt 2 contact U! Call 08714714011\n",
            "urgent! over your mobile mobile was awarded me a record [UNK], 500 total bonus caller prize on 27 / and 6 / 03. for our final attempt 2 is contact u! and call back 08714714011\n",
            "256 We have new local dates in your area - Lots of new people registered in YOUR AREA. Reply DATE to start now! 18 only www.flirtparty.us REPLYS150\n",
            "we have few new your local dates in just your area - lots full of amazing new people now registered in your area. next reply date to open start now! spring 18 only www. de flirtparty. us replys150\n",
            "257 It's already the beginning of the month. Get it now. Click bit.ly/3oQX7oE\n",
            "it'n s already got the beginning place of in the month. better get hold it together now. click bit. ly / y 3oqx7oe\n",
            "258 Todays Voda numbers ending 1225 are selected to receive a à¹à¸50award. If you have a match please call 08712300220 quoting claim code 3100 standard rates app \n",
            "1 todays voda numbers ending 1225 are selected only to also receive a nickname [UNK]. if [UNK] you have reached a perfect match please just call use 08712300220 quoting claim code 3100 standard calling rates app\n",
            "259 Sunshine Hols. To claim ur med holiday send a stamped self address envelope to Drinks on Us UK, PO Box 113, Bray, Wicklow, Eire. Quiz Starts Saturday! Unsub Stop\n",
            "see sunshine hols. to get claim ur and med holiday send a photo stamped self address envelope to drinks sold on us in uk, po po box 113, road bray, wicklow, eire. quiz year starts saturday! unsub ever stop\n",
            "260 Dont forget you can place as many FREE Requests with 1stchoice.co.uk as you wish. For more Information call 08707808226.\n",
            "dont mention forget and you can now place up as many free use requests with 1stchoice. com co. uk today as you so wish. for more subject information call more 08707808226.\n",
            "261 Here is your discount code RP176781. To stop further messages reply stop. www.regalportfolio.co.uk. Customer Services 08717205546\n",
            "read here text is in your new discount code rp176781. to stop further mail messages without reply stop. www. regalportfolio. co. uk uk. a customer management services record 08717205546\n",
            "262 YES! The only place in town to meet exciting adult singles is now in the UK. Txt CHAT to 86688 now! 150p/Msg.\n",
            "indeed yes! now the only legitimate place back in town not to meet exciting adult british singles is now in in the uk. txt the chat page to date 86688 now! 150p / msg.\n",
            "263 You've won tkts to the EURO2004 CUP FINAL or à¹à¸800 CASH, to collect CALL 09058099801 b4190604, POBOX 7876150ppm\n",
            "you've 2 won tkts to pay the euro2004 uefa cup in final tie or you [UNK] cash, to collect your call 09058099801 to b4190604, in pobox phone 7876150ppm\n",
            "264 You have won a guaranteed à¹à¸200 award or even à¹à¸1000 cashto claim UR award call free on 08000407165 (18+) 2 stop getstop on 88222 PHP. RG21 4JX\n",
            "once you have the won a guaranteed [UNK] award or even the [UNK] cashto claim ur award call if free starting on 08000407165 ( for 18 + ) find 2 stop the getstop on 10 88222 mb php. rg21 4jx\n",
            "265 Double mins and txts 4 6months FREE Bluetooth on Orange. Available on Sony, Nokia Motorola phones. Call MobileUpd8 on 08000839402 or call2optout/N9DX\n",
            "double 20 mins calls and txts 4 to 6months free bluetooth connectivity on orange. not available worldwide on android sony, on nokia using motorola phones. call mobileupd8 on 08000839402 or call2optout / android n9dx\n",
            "266 We tried to contact you re your reply to our offer of a Video Handset? 750 anytime any networks mins? UNLIMITED TEXT? Camcorder? Reply or call 08000930705 NOW\n",
            "then we tried them to immediately contact you re your only reply to make our offer option of building a video transmission handset? 750 anytime any networks mins? unlimited text? camcorder? please reply or call 08000930705 search now\n",
            "267 Promotion Number: 8714714 - UR awarded a City Break and could WIN a à¹à¸200 Summer Shopping spree every WK. Txt STORE to 88039 . SkilGme. TsCs087147403231Winawk!Age16 à¹à¸1.50perWKsub\n",
            "promotion number : 8714714 - ur wasn awarded a super city time break and it could win a [UNK] summer shopping campaign spree because every wk. txt store went to 88039. 4 skilgme. tscs087147403231winawk! x age16 [UNK]. day 50perwksub\n",
            "268 Do you want a New Nokia 3510i Colour Phone Delivered Tomorrow? With 200 FREE minutes to any mobile + 100 FREE text + FREE camcorder Reply or Call 08000930705\n",
            "do you want a new basic nokia series 3510i 2 colour nokia phone i delivered for tomorrow? with subscription 200 additional free minutes to any mobile + using 100 free messages text + free camcorder reply or call 08000930705\n",
            "269 URGENT! We are trying to contact U. Todays draw shows that you have won a à¹à¸800 prize GUARANTEED. Call 09050003091 from land line. Claim C52. Valid 12hrs only\n",
            "urgent! we actually are not trying to contact u. todays game draw shows that you have won us a [UNK] prize guaranteed. call 09050003091... from land line. and claim number c52. is valid for 12hrs and only\n",
            "270 sexy sexy cum and text me im wet and warm and ready for some porn! u up for some fun? THIS MSG IS FREE RECD MSGS 150P INC VAT 2 CANCEL TEXT STOP\n",
            "sexy hello sexy cum laude and text her me till im all wet and now warm and ready for some porn! u up for some fun? this entire msg website is free recd msgs 150p inc vat account 2 cancel text 1 stop\n",
            "271 Ur cash-balance is currently 500 pounds - to maximize ur cash-in now send GO to 86688 only 150p/meg. CC: 08718720201 HG/Suite342/2lands Row/W1j6HL\n",
            "ur the cash - balance in is currently 500 pounds - 0 to maximize ur cash - money in he now could send go to hk 86688 only 150p / o meg. cc : 08718720201 hg / suite342 / 48 2lands row / number w1j6hl\n",
            "272 Sorry! U can not unsubscribe yet. THE MOB offer package has a min term of 54 weeks> pls resubmit request after expiry. Reply THEMOB HELP 4 more info\n",
            "sorry! u can do not unsubscribe yet. the quick mob offer 1 package usually has a min term period of over 54 weeks > some pls files resubmit request after initial expiry. reply themob and help 4 more info\n",
            "273 If you don't, your prize will go to another customer. T&C at www.t-c.biz 18+ 150p/min Polo Ltd Suite 373 London W1J 6HL Please call back if busy \n",
            "even if you don't, your prize money will go out to another top customer. t & c at... www. t - dragon c. biz 18 + 150p / min polo ltd suite 373 london road w1j 13 6hl please kindly call me back if busy\n",
            "274 Congrats! 2 mobile 3G Videophones R yours. call 09061744553 now! videochat wid ur mates, play java games, Dload polyH music, noline rentl. bx420. ip4. 5we. 150pm\n",
            "congrats! 2 mobile iphone 3g wireless videophones r of yours. call 09061744553 now! videochat wid for ur mates, will play no java ee games, watch dload polyh web music, noline rentl. radio bx420. ip4. 5we. 150pm\n",
            "275 Hi I'm sue. I am 20 years old and work as a lapdancer. I love sex. Text me live - I'm i my bedroom now. text SUE to 89555. By TextOperator G2 1DA 150ppmsg 18+\n",
            "no hi hi i'm sue. i am 20 years old twenty and work as half a lapdancer. now i love sex. text me phone live - i'm i my bedroom apartment now. will text sue to 89555. by textoperator i g2 1da with 150ppmsg 18 +\n",
            "276 HOT LIVE FANTASIES call now 08707509020 Just 20p per min NTT Ltd, PO Box 1327 Croydon CR9 5WB 0870 is a national rate call\n",
            "a hot live stream fantasies call now 08707509020 just about 20p messages per min to ntt ltd, po signal box 1327 croydon cr9 2 5wb 0870 now is a national live rate voice call\n",
            "277 Congratulations U can claim 2 VIP row A Tickets 2 C Blu in concert in November or Blu gift guaranteed Call 09061104276 to claim TS&Cs www.smsco.net costà¹à¸3.75max \n",
            "congratulations then u can claim 2 vip row and a tickets 2 c blu cards in musical concert in november 2007 or blu gift has guaranteed call number 09061104276 to successfully claim ts & r cs www. national smsco. net [UNK]. 75max\n",
            "278 25p 4 alfie Moon's Children in need song on ur mob. Tell ur m8s. Txt Tone charity to 8007 for Nokias or Poly charity for polys: zed 08701417012 profit 2 charity.\n",
            "25p 4 alfie moon's s free children in need benefit song on google ur money mob. tell on ur m8s. txt in tone charity to win 8007 for nokias or poly charity for nokia polys : zed 08701417012 profit 2 to charity.\n",
            "279 Urgent! Please call 09061213237 from landline. à¹à¸5000 cash or a luxury 4* Canary Islands Holiday await collection. T&Cs SAE PO Box 177. M227XY. 150ppm. 16+\n",
            "19 urgent! please call 09061213237 from landline. [UNK] cash or wait a lifetime luxury 4 * 2 canary bird islands holiday await collection. t & cs sae chi po box box price 177. 00 m227xy. zoom 150ppm. 16 +\n",
            "280 UR awarded a City Break and could WIN a à¹à¸200 Summer Shopping spree every WK. Txt STORE to 88039 . SkilGme. TsCs087147403231Winawk!Age16 à¹à¸1.50perWKsub\n",
            "ur had awarded a city break and could finally win a 30 [UNK] usd summer free shopping spree every year wk. txt for store to 88039. 5 skilgme. at tscs087147403231winawk! the age16 [UNK]. 50perwksub\n",
            "281 URGENT! We are trying to contact you. Last weekends draw shows that you have won a à¹à¸900 prize GUARANTEED. Call 09061701851. Claim code K61. Valid 12hours only\n",
            "urgent! but we are trying to avoid contact to you. last weekends draw up shows so that you that have won half a [UNK] prize are guaranteed. call me 09061701851. claim code k61. valid 12hours for only\n",
            "282 Kerry Express Hello, you have a history of using this service more than 5 times, so the company has given you a gift of Bluetooth headphones. Add Line: amd1139\n",
            "ambassador kerry washington express hello, maybe you have a recent history of using this customized service more highly than 5 times, so the company has given its you each a gift each of three bluetooth headphones. add line : amd1139\n",
            "283 For sale - arsenal dartboard. Good condition but no doubles or trebles!\n",
            "plans for future sale - arsenal dartboard. good condition enough but no doubles figures or triple trebles!\n",
            "284 Ringtone Club: Get the UK singles chart on your mobile each week and choose any top quality ringtone! This message is free of charge.\n",
            "top ringtone fan club : get them the entire uk download singles chart on your mobile each regular week and choose any top quality ringtone! but this short message is free instead of charge.\n",
            "285 We know someone who you know that fancies you. Call 09058097218 to find out who. POBox 6, LS15HB 150p\n",
            "says we know a someone who believes you know... that fancies about you. then call 09058097218 to find an out who. call pobox area 6, ls15hb page 150p\n",
            "286 kk7.com Deposit receives 100%, safe, well taken care of 24 hrs, stable finances, millions %\n",
            "kk7. com deposit receives is 100 %, still safe, but well taken into care ii of and 24 min hrs, very stable finances, millions %\n",
            "287 Get ready to win 100000 gold and easily get rich. Click to win * 474#\n",
            "get ready to personally win 100000 gold gold and easily get back rich. click where to get win * and 474 #\n",
            "288 URGENT! We are trying to contact U. Todays draw shows that you have won a à¹à¸2000 prize GUARANTEED. Call 09058094507 from land line. Claim 3030. Valid 12hrs only\n",
            "o urgent! we are also trying only to contact a u. todays draw shows that by you could have won a half [UNK] prize if guaranteed. call call 09058094507 back from land line. claim 3030. valid 12hrs only\n",
            "289 Last chance 2 claim ur à¹à¸150 worth of discount vouchers-Text YES to 85023 now!SavaMob-member offers mobile T Cs 08717898035. à¹à¸3.00 Sub. 16 . Remove txt X or STOP\n",
            "first last first chance 2 claim ur price [UNK] worth of discount vouchers - text saying yes to 85023 now! savamob - member also offers mobile triple t extension cs of 08717898035. change [UNK]. 00 or sub. 16. remove txt x or stop\n",
            "290 Not heard from U4 a while. Call me now am here all night with just my knickers on. Make me beg for it like U did last time 01223585236 XX Luv Nikiyu4.net\n",
            "d not heard from in u4 a while. do call me now or am here sleeping all night with u just my knickers on. make me beg for it like maybe u did your last time 01223585236 xx luv at nikiyu4. com net\n",
            "291 You have 1 new message. Please call 08715205273\n",
            "here you have just 1 additional new message. currently please call them 08715205273\n",
            "292 Free 1st week entry 2 TEXTPOD 4 a chance 2 win 40GB iPod or à¹à¸250 cash every wk. Txt POD to 84128 Ts&Cs www.textpod.net custcare 08712405020.\n",
            "3 free 1st two week entry 2 textpod 4 take a lucky chance 2 win 40gb ipod sound or guitar [UNK] cash every wk. txt pod to enter 84128 ts & cs domain www. 1 textpod. net custcare www 08712405020.\n",
            "293 from www.Applausestore.com MonthlySubscription@50p/msg max6/month T&CsC web age16 2stop txt stop\n",
            "from wikipedia www. at applausestore. co com monthlysubscription @ double 50p / msg and max6 / month for t & csc a web page age16 a 2stop txt 2 stop\n",
            "294 Thanks for your ringtone order, ref number K718. Your mobile will be charged à¹à¸4.50. Should your tone not arrive please call customer services on 09065069120\n",
            "thanks for your ringtone and order, please ref number k718. your home mobile telephone will be charged [UNK]. [UNK] 50. should your tone number not already arrive... please call customer help services on behalf 09065069120\n",
            "295 You can borrow 230,000 baht from us.\n",
            "you two can easily borrow us 230, 000 baht annually from us.\n",
            "296 Great NEW Offer - DOUBLE Mins & DOUBLE Txt on best Orange tariffs AND get latest camera phones 4 FREE! Call MobileUpd8 free on 08000839402 NOW! or 2stoptxt T&Cs\n",
            "also great new look offer - double mins & full double txt on best orange tariffs and get latest camera phones with 4 free! you call on mobileupd8 free telephone on 08000839402 go now! call or use 2stoptxt t & cs\n",
            "297 Double Mins & 1000 txts on Orange tariffs. Latest Motorola, SonyEricsson & Nokia with Bluetooth FREE! Call MobileUpd8 on 08000839402 or call2optout/HF8\n",
            "double 1000 mins & x 1000 txts free on orange tariffs. latest motorola, android sonyericsson & nokia telephone with bluetooth enabled free! any call for mobileupd8 phone on 08000839402 or better call2optout / hf8\n",
            "298 <Forwarded from 21870000>Hi - this is your Mailbox Messaging SMS alert. You have 40 matches. Please call back on 09056242159 to retrieve your messages and matches cc100p/min\n",
            "< address forwarded list from 21870000 > hi - this is not your mailbox messaging sms alert. you have created 40 matches. today please call back immediately on 09056242159 to quickly retrieve from your messages directly and matches cc100p / 10 min\n",
            "299 ou are guaranteed the latest Nokia Phone, a 40GB iPod MP3 player or a à¹à¸500 prize! Txt word: COLLECT to No: 83355! IBHltd LdnW15H 150p/Mtmsgrcvd18\n",
            "ou are never guaranteed the latest desktop nokia 365 phone, either a 40gb ipod style mp3 player card or a [UNK] prize! txt first word : collect to box no : 83355! ibhltd from ldnw15h 150p / sec mtmsgrcvd18\n",
            "300 Reply to win à¹à¸100 weekly! Where will the 2006 FIFA World Cup be held? Send STOP to 87239 to end service\n",
            "→ reply to win match [UNK] return weekly! where will ever the 2006 fifa world x cup finals be held? send stop button to 87239 restart to end service\n",
            "301 You have an important customer service announcement from PREMIER. Call FREEPHONE 0800 542 0578 now!\n",
            "you have an unexpectedly important customer based service announcement now from central premier. now call freephone 5 0800 542 to 0578 now!\n",
            "302 Someone U know has asked our dating service 2 contact you! Cant Guess who? CALL 09058097189 NOW all will be revealed. POBox 6, LS15HB 150p \n",
            "as someone u know me has also asked our dating service 2 contact you! ya cant guess me who? or call me 09058097189 now all will be revealed. private pobox part 6, for ls15hb 150p\n",
            "303 YOUR CHANCE TO BE ON A REALITY FANTASY SHOW call now = 08707509020 Just 20p per min NTT Ltd, PO Box 1327 Croydon CR9 5WB 0870 is a national = rate call.\n",
            "your chance to now be caught on is a reality fantasy show call me now = 08707509020 just like 20p per 2 min ntt ltd, po box 1327 croydon 5 cr9 or 5wb 2 0870 is a national = 25 rate call.\n",
            "304 Free phone fee of 500 Thai baht awaits you. There is a chance to win and apply for good luck. Press * 172 # 3 Thai baht/SMS\n",
            "free phone calling fee available of around 500 thai baht once awaits you. then there is a good chance to win and apply for with good luck. press * 172 # 5 3 thai 2 baht / 3 sms\n",
            "305 Get ur 1st RINGTONE FREE NOW! Reply to this msg with TONE. Gr8 TOP 20 tones to your phone every week just à¹à¸1.50 per wk 2 opt out send STOP 08452810071 16\n",
            "get me ur 1st ringtone free for now! 0 reply to download this msg with tone. gr8 top 20 answer tones to your phone every week 2 just give [UNK]. 50 breaths per wk 2 opt of out send no stop 08452810071 16\n",
            "306 Not heard from U4 a while. Call 4 rude chat private line 01223585334 to cum. Wan 2C pics of me gettin shagged then text PIX to 8552. 2End send STOP 8552 SAM xxx\n",
            "i not heard from u4 a while. mail call 4 or rude chat 1 private call line 01223585334 to talk cum. wan to 2c pics of me gettin up shagged then text pix to 8552. or 2end radio send stop 8552 sam xxx\n",
            "307 (SCB) You have received the right to apply for a loan of 700,000 - through us: https://tinu.cc/Jjif2vz\n",
            "( scb ) you have received directly the special right to also apply for to a loan contract of ₹ 700, 000 - now through us : via https : / / tinu. net cc / · jjif2vz\n",
            "308 Secret Feng Shui tips If you do well, you will only get rich. Apply now, press *187# (9 baht/msg)\n",
            "secret secret secret feng ka shui tips... if you never do well, you eventually will only later get really rich. all apply now, press * 187 # ( 9... baht / msg )\n",
            "309 Thanks 4 your continued support Your question this week will enter u in2 our draw 4 à¹à¸100 cash. Name the NEW US President? txt ans to 80082\n",
            "4 thanks... 4 2 your continued enthusiastic support your biggest question this week will enter u in2 our draw... 4 [UNK] cash. name for the new us president? 1 txt k ans to p 80082\n",
            "310 U've been selected to stay in 1 of 250 top British hotels - FOR NOTHING! Holiday valued at à¹à¸350! Dial 08712300220 to claim - National Rate Call. Bx526, SW73SS\n",
            "u'll ve surely been selected up to stay here in 1 squadron of 250 top british hotels - security for absolutely nothing! free holiday valued at [UNK]! mit dial 08712300220 right to claim - national rate call. bx526, sw73ss\n",
            "311 We tried to contact you re your reply to our offer of a Video Handset? 750 anytime networks mins? UNLIMITED TEXT? Camcorder? Reply or call 08000930705 NOW\n",
            "has we tried to contact you re your reply responded to our offer... of installing a digital video handset? 750 anytime and networks mins? no unlimited text? camcorder? will reply or not call this 08000930705 now\n",
            "312 LookAtMe!: Thanks for your purchase of a video clip from LookAtMe!, you've been charged 35p. Think you can do better? Why not send a video in a MMSto 32323.\n",
            "with lookatme! : thanks for your purchase of from a video on clip download from the lookatme!, you'll ve been getting charged 35p. think you can still do better? think why not send a video in a fake mmsto 32323.\n",
            "313 Fantasy Football is back on your TV. Go to Sky Gamestar on Sky Active and play à¹à¸250k Dream Team. Scoring starts on Saturday, so register now!SKY OPT OUT to 88088\n",
            "fantasy football is just back on for your tv. go to sky sporting gamestar on fake sky active and play for [UNK] chinese dream nfl team. lottery scoring starts on saturday, so they register now! sky sports opt out to 88088\n",
            "314 XXXMobileMovieClub: To use your credit, click the WAP link in the next txt message or click here>> http://wap. xxxmobilemovieclub.com?n=QJKGIGHJJGCBL\n",
            "xxxmobilemovieclub : to use up your credit, click the next wap link from in with the next next txt message or please click from here > > from http : / / wap. xxxmobilemovieclub. html com? n = 0 qjkgighjjgcbl\n",
            "315 Text82228>> Get more ringtones, logos and games from www.txt82228.com. Questions: info@txt82228.co.uk\n",
            "text82228 > > you get some more interesting ringtones, logos and new games more from www. youtube txt82228. com. questions : the info @ site txt82228. the co. gb uk\n",
            "316 KINGBAR88, a foreign website with unlimited withdrawals, no need to withdraw. http://bit.ly/kbb44\n",
            "kingbar88, providing a personal foreign policy website stocked with potentially unlimited withdrawals, no visa need to withdraw. org http : / / power bit. ly / 2013 kbb44\n",
            "317 You can borrow 250,000 from us. Click: cutt.ly/2TqDbGD\n",
            "you yourself can potentially borrow 250, 000 euro from e us. and click : cutt. per ly / save 2tqdbgd\n",
            "318 Hungry gay guys feeling hungry and up 4 it, now. Call 08718730555 just 10p/min. To stop texts call 08712460324 (10p/min)\n",
            "being hungry for gay guys feeling really hungry and getting up top 4 got it, now. call out 08718730555 from just above 10p / min. to please stop texts call 08712460324 ( 10p / min )\n",
            "319 You have WON a guaranteed à¹à¸1000 cash or a à¹à¸2000 prize. To claim yr prize call our customer service representative on 08714712394 between 10am-7pm\n",
            "you could have won a net guaranteed [UNK] cash or a guaranteed [UNK] bonus prize. to also claim yr 2 prize you call our special customer information service agency representative on 08714712394 between 10am - 7pm\n",
            "320 PRIVATE! Your 2003 Account Statement for 07808247860 shows 800 un-redeemed S. I. M. points. Call 08719899229 Identifier Code: 40411 Expires 06/11/04\n",
            "private! mail your 2003 account statement message for 07808247860 not shows 800 un - redeemed with s. c i. de m. points. call 08719899229 identifier in code : 9 40411 number expires 06 / 48 11 / 04\n",
            "321 TheMob>Hit the link to get a premium Pink Panther game, the new no. 1 from Sugababes, a crazy Zebra animation or a badass Hoody wallpaper-all 4 FREE!\n",
            "themob > one hit on the link there to go get select a premium exclusive pink velvet panther game, the new no. 1 from sugababes, a crazy zebra animation or a completely badass red hoody on wallpaper - all 4 free!\n",
            "322 URGENT!! Your 4* Costa Del Sol Holiday or à¹à¸5000 await collection. Call 09050090044 Now toClaim. SAE, TC s, POBox334, Stockport, SK38xh, Costà¹à¸1.50/pm, Max10mins\n",
            "call urgent!! for your 4 * costa del real sol holiday phone or [UNK] await the collection. station call 09050090044 now online toclaim. sae, tc s, 12 pobox334, 1 stockport, sk38xh, [UNK]. call 50 / pm, max10mins\n",
            "323 SMS. ac Blind Date 4U!: Rodds1 is 21/m from Aberdeen, United Kingdom. Check Him out http://img. sms. ac/W/icmb3cktz8r7!-4 no Blind Dates send HIDE\n",
            "7 sms. ac no blind date 4 4u! : link rodds1 is 21 / m from west aberdeen, united kingdom. please check him out http : / / img. ca sms. ac / link w / link icmb3cktz8r7! - 4 no blind dates 1 send hide\n",
            "324 SMS. ac JSco: Energy is high, but u may not know where 2channel it. 2day ur leadership skills r strong. Psychic? Reply ANS w/question. End? Reply END JSCO\n",
            "sms. ac jsco : global energy reserve is high, but u and may not ever know about where 2channel installed it. 2day ur leadership communication skills w r i strong. psychic? reply ans w / question. end? reply end on jsco\n",
            "325 www.pgwin5.com/win PG celebrates new game 100 spins\n",
            "in www. dot pgwin5. com / win win pg celebrates new zealand game top 100 spins\n",
            "326 SMS AUCTION You have won a Nokia 7250i. This is what you get when you win our FREE auction. To take part send Nokia to 86021 now. HG/Suite342/2Lands Row/W1JHL 16+\n",
            "sms wireless auction you have won a nokia 7250i. however this is on what you still get free when you win our free wireless auction. to take part send for nokia to 86021 for now. hg / nokia suite342 / 2lands row / w1jhl 2 16 +\n",
            "327 tells u 2 call 09066358152 to claim à¹à¸5000 prize. U have 2 enter all ur mobile & personal details @ the prompts. Careful!\n",
            "app tells u 2 call 09066358152 say to you claim you [UNK] cash prize. u will have 2 automatically enter almost all of ur mobile & personal details @ the app prompts. careful!\n",
            "328 I don't know u and u don't know me. Send CHAT to 86688 now and let's find each other! Only 150p/Msg rcvd. HG/Suite342/2Lands/Row/W1J6HL LDN. 18 years or over.\n",
            "i don't actually know u and love u me don'outta t know me. send chat to 86688 and now and later let's find each other! only to 150p / dl msg rcvd. hg / suite342 / 2lands / row / w1j6hl with ldn. 18 years or decades over.\n",
            "329 You have WON a guaranteed à¹à¸1000 cash or a à¹à¸2000 prize. To claim yr prize call our customer service representative on 08714712412 between 10am-7pm Cost 10p\n",
            "if you have not won a guaranteed 1 [UNK] cash or lost a [UNK] prize. attempt to successfully claim 120 yr [UNK] prize call our customer service company representative on 08714712412 sometime between 10am - 7pm cost 10p\n",
            "330 Update_Now - 12Mths Half Price Orange line rental: 400mins.Call MobileUpd8 on 08000839402 or call2optout=J5Q\n",
            "with update _ update now - current 12mths half total price the orange product line rental : 400mins. with call 2 mobileupd8 based on 08000839402 ex or call2optout = j5q\n",
            "331 ROMCAPspam Everyone around should be responding well to your presence since you are so warm and outgoing. You are bringing in a real breath of sunshine.\n",
            "romcapspam everyone traveling around should usually be responding well immediately to your presence since you are being so consistently warm and outgoing. though you probably are just bringing people in like a real breath of sunshine.\n",
            "332 Hi ya babe x u 4goten bout me?' scammers getting smart.Though this is a regular vodafone no, if you respond you get further prem rate msg/subscription. Other nos used also. Beware!\n",
            "u hi ya babe x love u 4goten what bout me?'scammers getting smart. though this service is a regular vodafone no, only if you respond directly you can get further prem per rate from msg / subscription. other service nos used also. beware!\n",
            "333 FreeMsg Hey U, i just got 1 of these video/pic fones, reply WILD to this txt & ill send U my pics, hurry up Im so bored at work xxx (18 150p/rcvd STOP2stop)\n",
            "over freemsg hey by u, i just got you 1 of these video / pic fones, no reply wild west to find this txt & ill he send u my pics, hurry up im so bored at the work xxx ( 18 x 150p / 16 rcvd stop2stop )\n",
            "334 You will be receiving this week's Triple Echo ringtone shortly. Enjoy it!\n",
            "you both will certainly be heard receiving this last week'i s triple echo ringtone delivered shortly. enjoy it!\n",
            "335 Bored of speed dating? Try SPEEDCHAT, txt SPEEDCHAT to 80155, if you don't like em txt SWAP and get a new chatter! Chat80155 POBox36504W45WQ 150p/msg rcd 16\n",
            "bored what of the speed dating? try speedchat, txt move speedchat to 80155, if you don'e t like em txt so swap out and even get a nice new online chatter! chat80155 pobox36504w45wq 150p / msg 1 rcd 16\n",
            "336 URGENT! We are trying to contact U. Todays draw shows that you have won a à¹à¸800 prize GUARANTEED. Call 09050001295 from land line. Claim A21. Valid 12hrs only\n",
            "urgent! 」 we are all trying to contact planet u. todays draw list shows that you have actually won a huge [UNK] number prize never guaranteed. call 09050001295 data from land line. claim a21. 5 valid 12hrs only\n",
            "337 8007 FREE for 1st week! No1 Nokia tone 4 ur mob every week just txt NOKIA to 8007 Get txting and tell ur mates www.getzed.co.uk POBox 36504 W4 5WQ norm 150p/tone 16+\n",
            "set 8007 free for 1st week! no1 get nokia tone 4 ur mob every week just give txt to nokia to 8007 get for txting know and tell ur code mates www. getzed. org co. uk pobox 36504 support w4 with 5wq norm 150p / tone 16 +\n",
            "338 Our records indicate u maybe entitled to 5000 pounds in compensation for the Accident you had. To claim 4 free reply with CLAIM to this msg. 2 stop txt STOP\n",
            "our computer records further indicate you u can maybe entitled to 5000 extra pounds in compensation claims for the accident cause you had. to claim a 4 free reply terms with this claim to this msg. 2 stop txt stop\n",
            "339 important information 4 orange user . today is your lucky day!2find out why log onto http://www.urawinner.com THERE'S A FANTASTIC SURPRISE AWAITING YOU!\n",
            "important information story 4 you orange user. today is your lucky new day! 2find out and why log onto facebook http : / / www. urawinner. at com and there's a more fantastic surprise surprise awaiting for you!\n",
            "340 Last Chance! Claim ur à¹à¸150 worth of discount vouchers today! Text SHOP to 85023 now! SavaMob, offers mobile! T Cs SavaMob POBOX84, M263UZ. à¹à¸3.00 Sub. 16\n",
            "last big chance! claim ur card [UNK] 1 worth of plus discount only vouchers available today! app text shop to 85023 now! info savamob, currently offers mobile! t cs savamob pobox84, m263uz. [UNK]. 00 x sub. 16\n",
            "341 Get 3 Lions England tone, reply lionm 4 mono or lionp 4 poly. 4 more go 2 www.ringtones.co.uk, the original n best. Tones 3GBP network operator rates apply.\n",
            "get 3 lions england tone, reply lionm 4 mono 3 or voice lionp 4 poly. got 4 any more go 2 www. ringtones. the co. nz uk, the main original is n 5 best. 1 tones 3gbp network operator rates apply.\n",
            "342 From next month get upto 50% More Calls 4 Ur standard network charge 2 activate Call 9061100010 C Wire3.net 1st4Terms PoBox84 M26 3UZ Cost à¹à¸1.50 min MobcudB more\n",
            "numbers from next financial month get service upto 50 % with more direct calls 4 ur standard network call charge rate 2 activate service call 9061100010 c in wire3. net 1st4terms pobox84 m26 3uz cost [UNK]. 50 min from mobcudb more\n",
            "343 You are a winner you have been specially selected to receive à¹à¸1000 cash or a à¹à¸2000 award. Speak to a live operator to claim call 087147123779am-7pm. Cost 10p\n",
            "you are a winner whether you have been or specially selected only to receive an [UNK] cash or a [UNK] music award. please speak free to a verified live iphone operator to claim call id 087147123779am - 7pm. cost 10p\n",
            "344 Do you want a new Video phone? 600 anytime any network mins 400 Inclusive Video calls AND downloads 5 per week Free delTOMORROW call 08002888812 or reply NOW\n",
            "do do you want a new video phone? connect 600 anytime any network mins 400 inclusive for video club calls and new downloads with 5 frames per 5 week free free deltomorrow call 08002888812 or reply it now\n",
            "345 YOU HAVE WON! As a valued Vodafone customer our computer has picked YOU to win a à¹à¸150 prize. To collect is easy. Just call 09061743386 \n",
            "you have almost won! and as a valued old vodafone customer our apple computer has picked for you here to help win a great [UNK] large prize. to collect is easy. but just call 09061743386\n",
            "346 The current leading bid is 151. To pause this auction send OUT. Customer Care: 08718726270\n",
            "as the current leading interest bid is only 151. then to further pause this auction one send out. customer information care : 978 08718726270\n",
            "347 XCLUSIVE@CLUBSAISAI 2MOROW 28/5 SOIREE SPECIALE ZOUK WITH NICHOLS FROM PARIS.FREE ROSES 2 ALL LADIES !!! info: 07946746291/07880867867 \n",
            "the xclusive @ rock clubsaisai 2morow records 28 / 09 5 soiree la speciale a zouk with kit nichols from beyond paris. free roses 2 all lovely ladies!!! info : isbn 07946746291 / 07880867867\n",
            "348 Top up the machine for free 500, press *140# quickly and apply to win 3 baht/kk fortune.\n",
            "top 20 up reading the winning machine for free 500, press * page 140 # 8 quickly and then apply to win 3 baht / 21 kk to fortune.\n",
            "349 Reply with your name and address and YOU WILL RECEIVE BY POST a weeks completely free accommodation at various global locations www.phb1.com ph:08700435505150p\n",
            "reply promptly with your new name and address online and you will immediately receive by post a 3 weeks completely funded free vacation accommodation at 3 various global cafe locations www. phb1. com com ph : 08700435505150p\n",
            "350 How come it takes so little time for a child who is afraid of the dark to become a teenager who wants to stay out all night?\n",
            "how come all it takes so little time for a child who truly is afraid suddenly of all the beautiful dark things to become a naive teenager who just wants to stay out again all night?\n",
            "351 complimentary 4 STAR Ibiza Holiday or à¹à¸10,000 cash needs your URGENT collection. 09066364349 NOW from Landline not to lose out! Box434SK38WP150PPM18+\n",
            "50 complimentary cash 4 star ibiza beach holiday holiday or [UNK], 100 000 cash travel needs for your urgent collection. 09066364349 call now from landline help not to lose way out! box434sk38wp150ppm18 +\n",
            "352 Urgent! Please call 09061743810 from landline. Your ABTA complimentary 4* Tenerife Holiday or #5000 cash await collection SAE T&Cs Box 326 CW25WX 150 ppm\n",
            "urgent! please call 09061743810 from landline. bring your number abta complimentary all 4 * from tenerife holidays holiday pay or # 0 5000 and cash await collection the sae t & cs box for 326 cw25wx 150 ppm\n",
            "353 Call from 08702490080 - tells u 2 call 09066358152 to claim à¹à¸5000 prize. U have 2 enter all ur mobile & personal details @ the prompts. Careful!\n",
            "call from 08702490080 - tells u u no 2 must call to 09066358152 to claim [UNK] prize. u not have some 2 more enter in all my ur mobile & personal details @ the prompts. very careful!\n",
            "354 RCT' THNQ Adrian for U text. Rgds Vatian\n",
            "1993 rct'round thnq presented adrian for best u text. rgds and vatian\n",
            "355 urgent!! Give away 500 free credit, can be withdrawn, apply by pressing Zenbet88.com\n",
            "urgent!! give away section 500 free credit, may can only be withdrawn, shall apply by machine pressing for zenbet88. dot com\n",
            "356 Congrats! 2 mobile 3G Videophones R yours. call 09063458130 now! videochat wid your mates, play java games, Dload polyPH music, noline rentl.\n",
            "congrats! grab 2 mobile pcs 3g mobile videophones r yours. phone call form 09063458130 now! live videochat link wid your house mates, play java or games, dload use polyph music, noline rentl.\n",
            "357 CALL 09090900040 & LISTEN TO EXTREME DIRTY LIVE CHAT GOING ON IN THE OFFICE RIGHT NOW TOTAL PRIVACY NO ONE KNOWS YOUR [sic] LISTENING 60P MIN 24/7MP 0870753331018+\n",
            "or call me 09090900040 & you listen to something extreme dirty live chat going down on somewhere in the office right at now total mobile privacy no further one knows your [ sic ] listening 60p 20 min 24 / 7mp 0870753331018 +\n",
            "358 Want to funk up ur fone with a weekly new tone reply TONES2U 2 this text. www.ringtones.co.uk, the original n best. Tones 3GBP network operator rates apply\n",
            "want to funk up back ur fone now with get a weekly new tone reply tones2u version 2 offer this best text. www. international ringtones. co. uk uk, the most original n best. tones 3gbp network operator rates code apply\n",
            "359 Dear 0776xxxxxxx U've been invited to XCHAT. This is our final attempt to contact u! Txt CHAT to 86688 150p/MsgrcvdHG/Suite342/2Lands/Row/W1J6HL LDN 18yrs\n",
            "dear 0776xxxxxxx u've finally been invited to call xchat. now this is our own final direct attempt to contact our u! txt chat server to replace 86688 150p / msgrcvdhg / suite342 / 2lands / row / w1j6hl for ldn s 18yrs\n",
            "360 There are free prepaid cards given away. Easy to win, just press *172#.\n",
            "there are 14 free large prepaid cards not given away. very easy to win, just f press * press 172 #.\n",
            "361 Camera - You are awarded a SiPix Digital Camera! call 09061221066 fromm landline. Delivery within 28 days.\n",
            "camera - which you... are awarded is a beautiful sipix digital camera! i call this 09061221066 from fromm landline. delivery begins within approximately 28 days.\n",
            "362 Sexy Singles are waiting for you! Text your AGE followed by your GENDER as wither M or F E.G.23F. For gay men text your AGE followed by a G. e.g.23G.\n",
            "on sexy singles are also waiting for after you! text write your official age followed by text your gender as we wither by m or c f e. g. 23f. for gay men text your real age followed by a g. e. g. 23g.\n",
            "363 tmb4.com new member deposit 100 get 200 refer a friend 666\n",
            "tmb4. com a new member deposit 100 get membership 200 then refer through a friend member 666\n",
            "364 Free Msg: Ringtone!From: http://tms. widelive.com/index. wml?id=1b6a5ecef91ff9*37819&first=true18:0430-JUL-05\n",
            "free msg : my ringtone! available from : php http : / / tms. php widelive. com / index. wml? link id = 19 1b6a5ecef91ff9 * 37819 & string first = 54 true18 : 0430 - 33 jul - august 05\n",
            "365 SMS SERVICES For your inclusive text credits pls gotto www.comuk.net login 3qxj9 unsubscribe with STOP no extra charge help 08702840625 comuk.220cm2 9AE\n",
            "two sms chat services for your inclusive text credits pls gotto www. internet comuk. net login name 3qxj9 is unsubscribe through with stop in no extra charge save help download 08702840625 www comuk. 220cm2 9ae\n",
            "366 Hi its LUCY Hubby at meetins all day Fri & I will B alone at hotel U fancy cumin over? Pls leave msg 2day 09099726395 Lucy x Callsà¹à¸1/minMobsmoreLKPOBOX177HP51FL\n",
            "me hi its lucy hubby at house meetins all your day fri & w i will see b alone not at the hotel u fancy t cumin over? pls on leave msg 2day 09099726395 lucy x m [UNK] / minmobsmorelkpobox177hp51fl\n",
            "367 10.10 Hey!! Too worth resisting >.< Deposit 20 baht, receive 12 baht now.\n",
            "needs 10. gets 10 hey!! and too worth not resisting >. < deposit above 20 k baht, receive another 12 baht now.\n",
            "368 Am new 2 club & dont fink we met yet Will B gr8 2 C U Please leave msg 2day wiv ur area 09099726553 reply promised CARLIE x Callsà¹à¸1/minMobsmore LKPOBOX177HP51FL\n",
            "1 am new 1 2 to club & dont no fink we met yet will we b 1 gr8 2 i c d u 4 please please leave msg 2day wiv ur area 09099726553 reply promised carlie x [UNK] / minmobsmore lkpobox177hp51fl\n",
            "369 Dear Voucher Holder, To claim this weeks offer, at you PC please go to http://www.e-tlp.co.uk/expressoffer Ts&Cs apply. To stop texts, txt STOP to 80062\n",
            "dear reader voucher scheme holder, to claim this 2 weeks offer, at you on pc please information go to http : / / at www. e - news tlp. uk co. uk / expressoffer if ts & cs apply. to stop texts, txt will stop to 80062\n",
            "370 Hope you enjoyed your new content. text stop to 61610 to unsubscribe. help:08712400602450p Provided by tones2you.co.uk\n",
            "hope how you enjoyed your beautiful new content. text on stop to track 61610 message to take unsubscribe. help : number 08712400602450p provided electronically by tones2you. dot co. mo uk\n",
            "371 Free credit 100 given to everyone. Play and withdraw now. Click https://lin.ee/Dw\n",
            "free player credit 100 is given up to... everyone. play and players withdraw now. public click https : / / lin. du ee / dw\n",
            "372 You are now unsubscribed all services. Get tons of sexy babes or hunks straight to your phone! go to http://gotbabes.co.uk. No subscriptions.\n",
            "maybe you ladies are only now unsubscribed all services. get yourself tons of sexy underwear babes or hunks up straight to your phone! or go on to http : / / gotbabes. co. jp uk. no other subscriptions.\n",
            "373 Free 1st week entry 2 TEXTPOD 4 a chance 2 win 40GB iPod or à¹à¸250 cash every wk. Txt VPOD to 81303 Ts&Cs www.textpod.net custcare 08712405020.\n",
            "free during 1st week entry 2 textpod 4 for a chance entry 2 to win 40gb ipod ipod or [UNK] for cash every wk. txt vpod up to 81303 to ts & cs www. textpod. net and custcare at 08712405020.\n",
            "374 We currently have a message awaiting your collection. To collect your message just call 08718723815.\n",
            "we too currently have but a return message awaiting your new collection. to collect your original message... just call here 08718723815.\n",
            "375 85233 FREE>Ringtone!Reply REAL\n",
            "type 85233 free > send ringtone! reply now real\n",
            "376 Low capital promotion, get 100%.\n",
            "low capital in promotion, management get below 100 %.\n",
            "377 More people are dogging in your area now. Call 09090204448 and join like minded guys. Why not arrange 1 yourself. There's 1 this evening. Aà¹à¸1.50 minAPN LS278BB\n",
            "many more unknown people are dogging people in your area now. call back 09090204448 and your join like minded guys. why not arrange for 1 friend yourself. there'b s 1 call this evening. [UNK]. [UNK] 50 minapn ls278bb\n",
            "378 YOU VE WON! Your 4* Costa Del Sol Holiday or à¹à¸5000 await collection. Call 09050090044 Now toClaim. SAE, TC s, POBox334, Stockport, SK38xh, Costà¹à¸1.50/pm, Max10mins\n",
            "glad you ve already won! your 4 * 4 costa del sol holiday [UNK] or vacation [UNK] await collection. call 09050090044 now toclaim. 7 sae, tc s, pobox334, east stockport, sk38xh, [UNK]. at 50 / 5 pm, or max10mins\n",
            "379 Congrats! Nokia 3650 video camera phone is your Call 09066382422 Calls cost 150ppm Ave call 3mins vary from mobiles 16+ Close 300603 post BCM4284 Ldn WC1N3XX\n",
            "hey congrats! nokia 36 3650 video camera emergency phone is your right call 09066382422 calls line cost premium 150ppm long ave call 3mins vary from mobiles is 16 + close range 300603 post bcm4284 key ldn wc1n3xx\n",
            "380 Want 2 get laid tonight? Want real Dogging locations sent direct 2 ur Mob? Join the UK's largest Dogging Network by txting MOAN to 69888Nyt. ec2a. 31p.msg@150p\n",
            "want 2 get laid tonight? wanna want real rich dogging locations that sent direct at 2 ur mob? join into the all uk's largest dogging room network by email txting some moan messages to 69888nyt. ec2a. 31p. msg @ 150p\n",
            "381 For ur chance to win a à¹à¸250 cash every wk TXT: ACTION to 80608. T's&C's www.movietrivia.tv custcare 08712405022, 1x150p/wk\n",
            "rewards for ur chance to a win with a 1000 [UNK] [UNK] cash every 20 wk txt : action to 80608. 20 t's & 20 c's www. beijing movietrivia. tv at custcare 08712405022, 1x150p / wk\n",
            "382 Todays Vodafone numbers ending with 4882 are selected to a receive a à¹à¸350 award. If your number matches call 09064019014 to receive your à¹à¸350 award.\n",
            "todays vodafone only numbers usually ending high with 1 4882 are already selected to a receive a [UNK] 5 award. only if your number two matches call 09064019014 to receive your final [UNK] award award.\n",
            "383 Urgent! call 09061749602 from Landline. Your complimentary 4* Tenerife Holiday or à¹à¸10,000 cash await collection SAE T&Cs BOX 528 HP20 1YF 150ppm 18+\n",
            "urgent! call 09061749602 from madrid landline. with your complimentary access 4 * free tenerife holiday tax or [UNK], 000 cash await the collection sae 3 t & j cs box 528 hp20 2 1yf 150ppm 3 18 +\n",
            "384 Win the newest Âï£à¸¯Harry Potter and the Order of the Phoenix (Book 5) reply HARRY, answer 5 questions - chance to be the first among readers!\n",
            "win the newest novel [UNK] potter and save the ancient order of the phoenix ( book 5 ) reply harry, answer her 5 questions - her chance quest to come be the one first among ten readers!\n",
            "385 Guess what! Somebody you know secretly fancies you! Wanna find out who it is? Give us a call on 09065394514 From Landline DATEBox1282EssexCM61XN 150p/min 18\n",
            "guess what! perhaps somebody you know secretly fancies you! anybody wanna somehow find else out who it is? go give us a phone call right on... 09065394514 from that landline datebox1282essexcm61xn 2 150p / min 18\n",
            "386 Get a chance to win rights Click>https://ct.elinks.io/FQm0Fdyz Free giveaway!! Shampoo to quickly cover white hair in 10 minutes from DIPSO.\n",
            "you get a chance to win rights click > https : / / is ct. elinks. io / about fqm0fdyz the free drug giveaway!! my shampoo gets to quickly spray cover white hair in a 10 full minutes from dipso.\n",
            "387 As a valued customer, I am pleased to advise you that following recent review of your Mob No. you are awarded with a à¹à¸1500 Bonus Prize, call 09066368470\n",
            "as quite a valued online customer, here i am equally pleased to advise you... that following recent review of of your mob entry no. 11 you soon are awarded with a [UNK] cash bonus prize, call 09066368470\n",
            "388 (Bank of Granite issues Strong-Buy) EXPLOSIVE PICK FOR OUR MEMBERS *****UP OVER 300% *********** Nasdaq Symbol CDGT That is a $5.00 per.\n",
            "( bank of northwest granite limited issues and strong - open buy ) explosive pick for our members * * * * * up by over 300 % * * * * * * * * * * * around nasdaq financial symbol cdgt that is now a $ 1 5. 45 00 per.\n",
            "389 I earned 20000 dollars yesterday, haven't you played yet? Thbet9.cc\n",
            "i already earned 20000 dollars on yesterday, haven't you always played music yet? ‖ thbet9. 59 cc\n",
            "390 Eerie Nokia tones 4u, rply TONE TITLE to 8007 eg TONE DRACULA to 8007 Titles: GHOST, ADDAMSFA, MUNSTERS, EXORCIST, TWILIGHT www.getzed.co.uk POBox36504W45WQ 150p\n",
            "max eerie nokia tones with 4u, android rply nokia tone title to 8007 cc eg microsoft tone dracula to 8007 titles : dark ghost, addamsfa, munsters, exorcist, twilight vampire www. getzed. cd co. london uk pobox36504w45wq 150p\n",
            "391 Send a logo 2 ur lover - 2 names joined by a heart. Txt LOVE NAME1 NAME2 MOBNO eg LOVE ADAM EVE 07123456789 to 87077 Yahoo! POBox36504W45WQ TxtNO 4 no ads 150p.\n",
            "send my a song logo 2 ur lover - 2 human names joined by a human heart. music txt music love name1 name2 mobno eg love adam eve style 07123456789 to 87077 [UNK] yahoo! love pobox36504w45wq txtno 4 no ads after 150p.\n",
            "392 Your 2004 account for 07XXXXXXXXX shows 786 unredeemed points. To claim call 08719181259 Identifier code: XXXXX Expires 26.03.05\n",
            "update your december 2004 current account for 07xxxxxxxxx shows 786 current unredeemed points. return to account claim call card 08719181259 identifier or code : a xxxxx expires 26. 04 03. 05\n",
            "393 Dear Voucher Holder, To claim this weeks offer, at your PC please go to http://www.wtlp.co.uk/text. Ts&Cs apply.\n",
            "our dear voucher pass holder, prepare to claim this weeks service offer, at www your pc please go to http : / / read www. facebook wtlp. org co. · uk / sign text. ts & cs apply.\n",
            "394 Bloomberg -Message center +447797706009 Why wait? Apply for your future http://careers. bloomberg.com\n",
            "website bloomberg - message center + copyright 447797706009 2012 why you wait? just apply for building your future... http : / / www careers. bloomberg. ft com\n",
            "395 Happy to top up df *184# for a chance to win 500 baht call fee.\n",
            "also happy to immediately top up df * s 184 # for offering a chance to win 500 mon baht in call fee.\n",
            "396 LIFE has never been this much fun and great until you came in. You made it truly special for me. I won't forget you! enjoy @ one gbp/sms\n",
            "our life just has never been spending this much fun and great until you just came in. somehow you made it sound truly special even for me. i won't never forget you! max enjoy @ one million gbp / sms\n",
            "397 Congratulations YOU'VE Won. You're a Winner in our August à¹à¸1000 Prize Draw. Call 09066660100 NOW. Prize Code 2309.\n",
            "congratulations that you've all won. thanks you'′ re a potential winner here in our august [UNK] day prize game draw. call 09066660100 to now. prize drawing code 2309.\n",
            "398 You'll not rcv any more msgs from the chat svc. For FREE Hardcore services text GO to: 69988 If u get nothing u must Age Verify with yr network & try again\n",
            "otherwise you'u ll not rcv change any more msgs from the chat svc. for some free or hardcore services text go to : secure 69988 if t u should get nothing after u must age verify with yr secure network & try again\n",
            "399 8007 25p 4 Alfie Moon's Children in Need song on ur mob. Tell ur m8s. Txt TONE CHARITY to 8007 for nokias or POLY CHARITY for polys :zed 08701417012 profit 2 charity \n",
            "8007 public 25p 4 alfie moon's song children in need memorial song downloaded on ur mob. youtube tell ur m8s. txt tone charity to 8007 individuals for nokias service or a poly charity for polys : dr zed or 08701417012 profit 2 charity\n",
            "400 You are awarded a SiPix Digital Camera! call 09061221061 from landline. Delivery within 28days. T Cs Box177. M221BP. 2yr warranty. 150ppm. 16 . p pà¹à¸3.99\n",
            "you recipients are awarded a superior sipix digital camera! call 09061221061 from landline. delivery within 28days. c t the cs 2 box177. t m221bp. on 2yr warranty. on 150ppm. at 16. 25 p [UNK]. 99\n",
            "401 Not in time! Get a call fee of 500 baht. For a chance to win, press *224# to apply for the auspicious fortune service 5 baht/kk.\n",
            "not in extra time! get a call fee card of 500 thousand baht. for a chance ever to win, press * 224 # check to correctly apply for starting the next auspicious fortune ping service at 5 baht / kk.\n",
            "402 URGENT! We are trying to contact you. Last weekends draw shows that you have won a à¹à¸900 prize GUARANTEED. Call 09061701939. Claim code S89. Valid 12hrs only\n",
            "... urgent! we are now trying not to contact you. last weekends you draw which shows that you have won a round [UNK] prize guaranteed. call 09061701939. search claim base code signed s89. valid 12hrs available only\n",
            "403 Xmas & New Years Eve tickets are now on sale from the club, during the day from 10am till 8pm, and on Thurs, Fri & Sat night this week. They're selling fast!\n",
            "xmas & eve new fucking years fucking eve special tickets are now on sale from everywhere the club, during the day from 10am tuesday till 8pm, midnight and then on thurs, even fri & sat night this week. now they're selling fast!\n",
            "404 December only! Had your mobile 11mths+? You are entitled to update to the latest colour camera mobile for Free! Call The Mobile Update Co FREE on 08002986906 \n",
            "in december 2006 only! had your chosen mobile 11mths +? you are entitled also to update it to the your latest colour camera on mobile for christmas free! please call me the mobile update co free on 08002986906\n",
            "405 URGENT! Your mobile No 07xxxxxxxxx won a à¹à¸2,000 bonus caller prize on 02/06/03! this is the 2nd attempt to reach YOU! call 09066362231 ASAP! BOX97N7QP, 150PPM\n",
            "nothing urgent! your mobile phone no 07xxxxxxxxx won a [UNK] [UNK], 20 000 bonus caller prize on 02 / 06 / 6 03! this email is just the 2nd phone attempt to reach a you! call 09066362231 asap! ringing box97n7qp, 150ppm\n",
            "406 SMS SERVICES. for your inclusive text credits, pls goto www.comuk.net login= ***** unsubscribe with STOP. no extra charge. help:08700469649. PO BOX420. IP4 5WE\n",
            "only sms services. save for your inclusive text credits, take pls of goto www. website comuk. j net login = * * * * * unsubscribe with stop. yes no extra charge. find help : 08700469649. t po button box420. ip4 5we\n",
            "407 Congratulations - Thanks to a good friend U have WON the à¹à¸2,000 Xmas prize. 2 claim is easy, just call 08712103738 NOW! Only 10p per minute. BT-national-rate\n",
            "5 congratulations - thanks to being a good friend u have really won the [UNK], 000 xmas prize prize. your 2 claim is getting easy, just please call 08712103738 back now! only 10p per cent minute. 5 bt - national - rate\n",
            "408 Congrats! 1 year special cinema pass for 2 is yours. call 09061209465 now! C Suprman V, Matrix3, StarWars3, etc all 4 FREE! bx420-ip4-5we. 150pm. Dont miss out!\n",
            "do congrats! 1 ¹⁄₂ year ago special cinema pass for 2 is proudly yours. the call 09061209465 now! c suprman v, dj matrix3, starwars3, etc not all 4 free! u bx420 - ip4 - 5we. 150pm. dont dare miss me out!\n",
            "409 You are a winner you have been specially selected to receive à¹à¸1000 cash or a à¹à¸2000 award. Speak to a live operator to claim call 087123002209am-7pm. Cost 10p\n",
            "you are that a winner so you have still been [UNK] specially selected annually to receive [UNK] cash or a [UNK] award. speak to you a live voice operator to you claim 2 call code 087123002209am - 7pm. cost 10p\n",
            "410 Refused a loan? Secured or Unsecured? Can't get credit? Call free now 0800 195 6669 or text back 'help' & we will!\n",
            "refused a bank loan? with secured money or unsecured? can'of t get credit? can call free sometime now 0800 4 195 2 6669 or text back'got help'& say we will!\n",
            "411 Dear Voucher holder Have your next meal on us. Use the following link on your pc 2 enjoy a 2 4 1 dining experiencehttp://www.vouch4me.com/etlp/dining.asp\n",
            "dear voucher holder now have your next family meal accepted on yahoo us. to use the following link on your pc 2 enjoy taking a 2 4 1 family dining trip experiencehttp : / / www. vouch4me. net com / etlp / dining. mx asp\n",
            "412 You are guaranteed the latest Nokia Phone, a 40GB iPod MP3 player or a à¹à¸500 prize! Txt word: COLLECT to No: 83355! IBHltd LdnW15H 150p/Mtmsgrcvd18+\n",
            "also you are never guaranteed getting the latest android nokia phone, without a 40gb long ipod mp3 data player or a [UNK] prize! txt word : collect data to check no : 83355! ibhltd by ldnw15h 150p / mtmsgrcvd18 +\n",
            "413 Filthy stories and GIRLS waiting for your\n",
            "filthy stories boys and girls lie waiting inside for your\n",
            "414 URGENT! We are trying to contact U Todays draw shows that you have won a à¹à¸800 prize GUARANTEED. Call 09050000460 from land line. Claim J89. po box245c2150pm\n",
            "urgent! but we are trying to contact club u todays draw shows that you players have currently won a 10 [UNK] prize prize guaranteed. call code 09050000460 from land mine line. location claim j89. po button box245c2150pm\n",
            "415 Angel celebrates 14 years, giving away more than 50,000 baht in free money until 28 June.\n",
            "solar angel celebrates 14 years, no giving away more than rm 50, 800 000 baht in very free relief money until 28 a june.\n",
            "416 The person who received the message Receive 1000 baht in financial assistance at www.linee.live/CqQ9\n",
            "did the other person who who received the message receive over 1000 thai baht total in financial recovery assistance at at www. linee. live / cqq9\n",
            "417 Special just for you!! 5G internet at full speed 10 GB, can be used for 7 days, only 30 baht, press *777*7677# until 19 Dec. 2023.\n",
            "tv special just for finding you!! uses 5g internet at full speed 10 gb, therefore can be be used for extra 7 days, only 30 baht, plus press * 777 * 0 7677 # until 19 september dec. × 2023.\n",
            "418 New TEXTBUDDY Chat 2 horny guys in ur area 4 just 25p Free 2 receive Search postcode or at gaytextbuddy.com. TXT ONE name to 89693. 08715500022 rpl Stop 2 cnl\n",
            "2 new game textbuddy chat 2 horny pink guys in ur area 4 just in 25p free 2 receive search postcode or search at gaytextbuddy. com. a txt one name similar to 89693. net 08715500022 rpl 8 stop 2 over cnl\n",
            "419 You have 1 new voicemail. Please call 08719181513.\n",
            "do you have 1 000 new blackberry voicemail. then please simply call 08719181513.\n",
            "420 Big website, no result lock, game is 100% broken https://bit.ly/3K8r8tY\n",
            "big game website, no available result status lock, default game server is in 100 % over broken online https : / / go bit. ly / 3k8r8ty\n",
            "421 Had your mobile 11mths ? Update for FREE to Oranges latest colour camera mobiles & unlimited weekend calls. Call Mobile Upd8 on freefone 08000839402 or 2StopTx\n",
            "had from your mobile 11mths? now update photos for free to oranges by latest colour in camera app mobiles & have unlimited weekend telephone calls. call mobile upd8 and on freefone 08000839402 or pay 2stoptx\n",
            "422 URGENT! Your Mobile number has been awarded with a à¹à¸2000 prize GUARANTEED. Call 09058094455 from land line. Claim 3030. Valid 12hrs only\n",
            "respond urgent! your mobile number here has been awarded 1 with a [UNK] [UNK] 1 prize guaranteed. call out 09058094455 from the land line. also claim free 3030. 7 valid 12hrs only\n",
            "423 Congratulations ur awarded 500 of CD vouchers or 125gift guaranteed & Free entry 2 100 wkly draw txt MUSIC to 87066 TnCs www.Ldew.com1win150ppmx3age16\n",
            "special congratulations this ur has awarded 5000 500 thousands of cd vouchers or 125gift guaranteed & free entry 2 100 for wkly records draw txt music directly to 87066 tncs through www. ldew. com com1win150ppmx3age16\n",
            "424 You have been selected to stay in 1 of 250 top British hotels - FOR NOTHING! Holiday Worth à¹à¸350! To Claim, Call London 02072069400. Bx 526, SW73SS\n",
            "you have never been selected not to actually stay in 1 of those 250 50 top british hotels - for their nothing! holiday inn worth [UNK]! to counter claim, call london 02072069400. victoria bx 526, london sw73ss\n",
            "425 YOUR CHANCE TO BE ON A REALITY FANTASY SHOW call now = 08707509020 Just 20p per min NTT Ltd, PO Box 1327 Croydon CR9 5WB 0870 is a national = rate call\n",
            "your chance to be out on a positive reality fantasy and show call us now = 08707509020 just 20p phone per 5 min ntt ltd, po box 30 1327 croydon cr9 5wb or 0870 is so a good national = rate call\n",
            "426 GENT! We are trying to contact you. Last weekends draw shows that you won a à¹à¸1000 prize GUARANTEED. Call 09064012160. Claim Code K52. Valid 12hrs only. 150ppm \n",
            "gent! or we are trying to contact you. last four weekends draw shows that team you won a [UNK] prize where guaranteed. call yourself 09064012160. will claim phone code number k52. valid number 12hrs answer only. 150ppm\n",
            "427 Would you like to see my XXX pics they are so hot they were nearly banned in the uk!\n",
            "would even you like to see my new xxx pics they are all so fucking hot they were nearly to banned once in around the uk!\n",
            "428 FreeMsg: Hey - I'm Buffy. 25 and love to satisfy men. Home alone feeling randy. Reply 2 C my PIX! QlynnBV Help08700621170150p a msg Send stop to stop txts\n",
            "hello freemsg : hey - i'm leaving buffy. 25 years and love seems to be satisfy men. home so alone feeling randy. n reply 2 c hello my pix! qlynnbv help08700621170150p a no msg call send stop to stop txts\n",
            "429 New Year constellation check!! Just press * 241 * 9 # to apply for a lucky draw of 10 Thai baht per day. For more information, please call 027669009\n",
            "but new year year month constellation check!! please just better press * 03 241 * 00 9 # to please apply for a first lucky draw of 10 thai baht per day. or for more information, please call 027669009\n",
            "430 88800 and 89034 are premium phone services call 08718711108\n",
            "historically 88800 standard and currently 89034 channels are premium phone access services calling call 08718711108\n",
            "431 special! Get the chance to worship with Ajahn Khatha and Grammy Gold artists. Apply for Tarot Divination, click here.\n",
            "no special! you get us the chance not to worship almighty with ajahn aka khatha ali and grammy gold artists. apply for tarot of divination, click anything here.\n",
            "432 Sorry I missed your call let's talk when you have the time. I'm on 07090201529\n",
            "say sorry i i definitely missed getting your conference call let's talk when you have the allotted time. see i'm available on 07090201529\n",
            "433 Moby Pub Quiz.Win a à¹à¸100 High Street prize if u know who the new Duchess of Cornwall will be? Txt her first name to 82277.unsub STOP à¹à¸1.50 008704050406 SP\n",
            "moby pub quiz. win a cup [UNK] high street prize [UNK] if can u know more who the new sovereign duchess of royal cornwall will someday be? txt her first name to ta 82277. unsub stop [UNK]. take 50 [UNK] 008704050406 sp\n",
            "434 URGENT! Your Mobile No. was awarded à¹à¸2000 Bonus Caller Prize on 5/9/03 This is our final try to contact U! Call from Landline 09064019788 BOX42WR29C, 150PPM\n",
            "urgent! your mobile no. was awarded [UNK] first bonus caller bonus prize later on 5 / 9 / 03... this is also our fastest final phone try ever to contact u! call from google landline id 09064019788 box42wr29c, 150ppm\n",
            "435 This message is brought to you by GMW Ltd. and is not connected to the\n",
            "also this message form is usually brought to you by gmw ltd. operators and is often not very connected to the\n",
            "436 FreeMsg Hi baby wow just got a new cam moby. Wanna C a hot pic? or Fancy a chat?Im w8in 4uTxt / rply CHAT to 82242 Hlp 08712317606 Msg150p 2rcv\n",
            "freemsg so hi baby wow just got got online a new cam moby. wanna get c a hot dog pic? or fancy for a chat? im a w8in it 4utxt / rply to chat to 82242 hlp 08712317606 msg150p link 2rcv\n",
            "437 You can donate à¹à¸2.50 to UNICEF's Asian Tsunami disaster support fund by texting DONATE to 864233. à¹à¸2.50 will be added to your next bill\n",
            "you can then donate [UNK]. 50 to support unicef's asian tsunami tsunami disaster international support resources fund by texting donate to 864233. [UNK]. 50 donors will be then added automatically to your free next donor bill\n",
            "438 Congratulations! You receive a free call fee of 500 baht. Press *140# to apply to win your fortune.\n",
            "congratulations! you receive to a minimum free call fee minimum of 500 baht. to press * number 140 # seeking to quickly apply online to win your fortune.\n",
            "439 Latest News! Police station toilet stolen, cops have nothing to go on!\n",
            "latest fox news! police base station toilet stolen, the cops have absolutely nothing to go checking on!\n",
            "440 Get 3 Lions England tone, reply lionm 4 mono or lionp 4 poly. 4 more go 2 www.ringtones.co.uk, the original n best. Tones 3GBP network operator rates apply\n",
            "i get too 3 lions england tone, reply lionm 4 either mono or lionp 4 or poly. let 4 to more go 2 play www. universal ringtones. co. uk, the other original n best. tones 3gbp network use operator rates apply\n",
            "441 What do U want for Xmas? How about 100 free text messages & a new video phone with half price line rental? Call free now on 0800 0721072 to find out more!\n",
            "what more do de u want for friday xmas? how what about 100 free school text messages & a new blackberry video phone with half price power line rental? call free tomorrow now on friday 0800 0721072 try to find out more!\n",
            "442 U were outbid by simonwatson5120 on the Shinco DVD Plyr. 2 bid again, visit sms. ac/smsrewards 2 end bid notifications, reply END OUT\n",
            "gt u games were then outbid over by alex simonwatson5120 games on the shinco dvd format plyr. 2 bid again, visit sms. ac / ms smsrewards page 2 end bid with notifications, reply end out\n",
            "443 UÂï£à¸ve Bin Awarded à¹à¸50 to Play 4 Instant Cash. Call 08715203028 To Claim. EVERY 9th Player Wins Min à¹à¸50-à¹à¸500. OptOut 08718727870\n",
            "[UNK] bin awarded [UNK] to have play plus 4 000 instant cash. call 08715203028 to have claim. every hour 9th active player 2 wins 26 min [UNK] - won [UNK]. optout... 08718727870\n",
            "444 Free entry in 2 a wkly comp to win FA Cup final tkts 21st May 2005. Text FA to 87121 to receive entry question(std txt rate)T&C's apply 08452810075over18's\n",
            "free entry in section 2 a scheme wkly b comp to must win fa cup final apply tkts 21st may 2005. text the fa license to 87121 to no receive entry question ( std call txt rate ) apply t & c's apply 08452810075over18's\n",
            "445 Babe: U want me dont u baby! Im nasty and have a thing 4 filthyguys. Fancy a rude time with a sexy bitch. How about we go slo n hard! Txt XXX SLO(4msgs)\n",
            "and babe : u gotta want me dont you u baby! this im nasty and now have a thing 4 filthyguys. fancy a cool rude time with a sexy french bitch. how about ya we always go slo n hard! txt xxx slo ( of 4msgs )\n",
            "446 England v Macedonia - dont miss the goals/team news. Txt ur national team to 87077 eg ENGLAND to 87077 Try:WALES, SCOTLAND 4txt/à¸¬à¸1.20 POBOXox36504W45WQ 16+\n",
            "england team v match macedonia - they dont miss the goals / any team news. txt o ur national team to 87077 eg england team to 87077 a try : wales, scotland 4txt / [UNK]. a 20 vs poboxox36504w45wq → 16 +\n",
            "447 Ur balance is now à¹à¸600. Next question: Complete the landmark, Big, A. Bob, B. Barry or C. Ben ?. Text A, B or C to 83738. Good luck!\n",
            "ur if balance o is now [UNK]. next question : not complete for the landmark, big, a. a bob, a b. barry o or c. ben?. text a, and b t or c back to 83738. good luck!\n",
            "448 \\For the most sparkling shopping breaks from 45 per person; call 0121 2025050 or visit www.shortbreaks.org.uk\\\"\"\n",
            "\\ for selecting the 2 most sparkling personal shopping breaks aside from 45 per 200 person ; please call please 0121 2025050 [UNK] or visit www. shortbreaks. net org. bbc uk \\ \" \"\n",
            "449 Kiatnakin Phatra Bank To submit your loan rights, click: citly.me/RlGzK\n",
            "first kiatnakin when phatra bank agrees to submit your commercial loan rights, if click : please citly. rs me / finance rlgzk\n",
            "450 3. You have received your mobile content. Enjoy\n",
            "note 3. you have received your new mobile content. be enjoy\n",
            "451 Mobile Club: Choose any of the top quality items for your mobile. 7cfca1a\n",
            "this mobile club : choose either any of the five top quality items selected for your next mobile. mobile 7cfca1a\n",
            "452 Adult 18 Content Your video will be with you shortly\n",
            "adult 18 eleven content your video will be packaged with see you shortly\n",
            "453 Xmas Offer! Latest Motorola, SonyEricsson & Nokia & FREE Bluetooth or DVD! Double Mins & 1000 Txt on Orange. Call MobileUpd8 on 08000839402 or call2optout/4QF2\n",
            "good xmas offer! next latest motorola, sonyericsson & formerly nokia & more free bluetooth or dvd! every double 3 mins & up 1000 txt on orange. call mobileupd8 phone on 08000839402 phone or to call2optout / 4qf2\n",
            "454 Our dating service has been asked 2 contact U by someone shy! CALL 09058091870 NOW all will be revealed. POBox84, M26 3UZ 150p\n",
            "our corporate dating service manager has been asked 2 contact f u by someone shy! call 09058091870 now all plans will not be completely revealed. phone pobox84, number m26 in 3uz phone 150p\n",
            "455 Wanna get laid 2nite? Want real Dogging locations sent direct to ur mobile? Join the UK's largest Dogging Network. Txt PARK to 69696 now! Nyt. ec2a. 3lp à¹à¸1.50/msg\n",
            "would wanna see get laid 2nite? want real live dogging locations sent out direct to ur mobile? join into the telecom uk'world s single largest dogging network. txt park to 69696 now! via nyt. ec2a. 3lp [UNK]. 50 / 7 msg\n",
            "456 ASKED 3MOBILE IF 0870 CHATLINES INCLU IN FREE MINS. INDIA CUST SERVs SED YES. L8ER GOT MEGA BILL. 3 DONT GIV A SHIT. BAILIFF DUE IN DAYS. I O à¹à¸250 3 WANT à¹à¸800\n",
            "asked 3mobile system if 0870 chatlines inclu wanted in free 90 mins. or india cust servs sed 2 yes. l8er got mega bill. p 3 dont so giv a shit. bailiff is due out in days. i need o [UNK] 3 want [UNK]\n",
            "457 You are being contacted by our Dating Service by someone you know! To find out who it is, call from your mobile or landline 09064017305 PoBox75LDNS7 \n",
            "you now are being contacted by our dating information service and by someone you know! just to find out who it it actually is, call from your mobile app or phone landline at 09064017305 or pobox75ldns7\n",
            "458 Todays Voda numbers ending with 7634 are selected to receive a à¹à¸350 reward. If you have a match please call 08712300220 quoting claim code 7684 standard rates apply.\n",
            "todays big voda numbers always ending with 7634 are selected to often receive a large [UNK] reward. if only you have had a match ticket please call them 08712300220 quoting claim area code 7684 standard rates may apply.\n",
            "459 08714712388 between 10am-7pm Cost 10p\n",
            "08714712388 runs between early 10am - about 7pm they cost extra 10p\n",
            "460 We tried to contact you re your reply to our offer of 750 mins 150 textand a new video phone call 08002988890 now or reply for free delivery tomorrow\n",
            "we recently tried formerly to only contact you re your reply time to use our latest offer of 750 mins 150 textand a new video satellite phone now call 08002988890 message now or reply for the free delivery tomorrow\n",
            "461 FREE MESSAGE Activate your 500 FREE Text Messages by replying to this message with the word FREE For terms & conditions, visit www.07781482378.com\n",
            "your free message activate in your next 500 free text messages or by replying to this message with not the other word free for next terms & conditions, by visit www. facebook 07781482378. dot com\n",
            "462 WIN: We have a winner! Mr. T. Foley won an iPod! More exciting prizes soon, so keep an eye on ur mobile or visit www.win-82050.co.uk\n",
            "a win : we have missed a winner! mr. michael t. foley have won an ipod! more exciting extra prizes soon, so keep an eye either on ur and mobile or visit smashwords www. facebook win - 82050. ph co. uk\n",
            "463 PRIVATE! Your 2003 Account Statement for shows 800 un-redeemed S. I. M. points. Call 08719899230 Identifier Code: 41685 Expires 07/11/04\n",
            "private! find your end 2003 new account statement for shows and 800 un - redeemed s. i. or m. key points. call 08719899230 public identifier channel code : rfc 41685 expires 07 / 11 / 2016 04\n",
            "464 URGENT! You have won a 1 week FREE membership in our à¹à¸100,000 Prize Jackpot! Txt the word: CLAIM to No: 81010 T&C www.dbuk.net LCCLTD POBOX 4403LDNW1A7RW18\n",
            "urgent! plus you will have won a 1 week free membership program in our first [UNK], 000 grand prize jackpot! txt from the l word : claim letters to no : copyright 81010 from t & c www. dbuk. net lccltd pobox 4403ldnw1a7rw18\n",
            "465 Urgent UR awarded a complimentary trip to EuroDisinc Trav, Aco&Entry41 Or à¹à¸1000. To claim txt DIS to 87121 18+6*à¹à¸1.50(moreFrmMob. ShrAcomOrSglSuplt)10, LS1 3AJ\n",
            "urgent access ur awarded at a low complimentary trip fee to either eurodisinc trav, aco & soc entry41 2 or [UNK]. to claim txt dis to rm 87121 18 + 10 6 * [UNK]. 50 ( ref morefrmmob. shracomorsglsuplt ) 10, ls1 3aj\n",
            "466 Wan2 win a Meet+Greet with Westlife 4 U or a m8? They are currently on what tour? 1)Unbreakable, 2)Untamed, 3)Unkempt. Text 1,2 or 3 to 83049. Cost 50p +std text\n",
            "wan2 does win won a meet + greet match with westlife 4 u x or a mac m8? indicates they are currently on what tour? 1 ) unbreakable, 2 ) untamed, possibly 3 ) simply unkempt. text 1, 2 or 3 to f 83049. photo cost 50p + std text\n",
            "467 Only you! Use 1 True Point to exchange for 5 GB of internet for 15 days, 1 Sep. 20 - 31 Dec. 20 at the TrueID app.\n",
            "only with you! use a 1 world true point to exchange for 5 gb feet of shared internet for 15 days, 1 sep. on 20 - 31 or dec. 20 click at sip the global trueid app.\n",
            "468 Congratulations ur awarded either à¹à¸500 of CD gift vouchers & Free entry 2 our à¹à¸100 weekly draw txt MUSIC to 87066 TnCs www.Ldew.com1win150ppmx3age16\n",
            "congratulations ur awarded the either more [UNK] roll of cd gift shop vouchers & the free entry exhibit 2 in our concert [UNK] or weekly draw txt music to 87066 tncs through www. ldew. com1win150ppmx3age16\n",
            "469 Press *471*10# dozen of hit songs, receive Grammy songs every day, 5 baht/message\n",
            "press * 8 471 * 86 10 # dozen of national hit songs, who receive new grammy songs every day, 5 crore baht / each message\n",
            "470 Todays Voda numbers ending 7548 are selected to receive a $350 award. If you have a match please call 08712300220 quoting claim code 4041 standard rates app\n",
            "todays the voda only numbers ending 7548 words are correctly selected to receive about a $ 350 bill award. if you already have created a match value please call 08712300220 quoting claim code 4041 uk standard rates app\n",
            "471 Auction round 4. The highest bid is now à¹à¸54. Next maximum bid is à¹à¸71. To bid, send BIDS e. g. 10 (to bid à¹à¸10) to 83383. Good luck.\n",
            "auction round first 4. the initially highest bid is now is [UNK]. next maximum bid is [UNK]. to bid, they send some bids e. that g. send 10 ( if to bid [UNK] ) to 83383. bid good luck luck.\n",
            "472 A link to your picture has been sent. You can also use http://alto18.co.uk/wave/wave.asp?o=44345\n",
            "additionally a voice link leading to your own picture has also been sent. you later can also use http : / / at alto18. co. la uk / wave / x wave. asp? version o = 44345\n",
            "473 TheMob> Check out our newest selection of content, Games, Tones, Gossip, babes and sport, Keep your mobile fit and funky text WAP to 82468\n",
            "themob > so check up out our newest latest selection of serialized content, games, text tones, gossip, babes and a sport, keep your mobile fit together and funky text message wap thanks to alpha 82468\n",
            "474 Get a FREE mobile video player FREE movie. To collect text GO to 89105. Its free! Extra films can be ordered t's and c's apply. 18 yrs only\n",
            "but get a free 2 mobile camera video player free in movie. have to collect a text go to 89105. its free! extra tv films can be ordered before t's and c's registration apply. 18 18 yrs only\n",
            "475 Welcome to UK-mobile-date this msg is FREE giving you free calling to 08719839835. Future mgs billed at 150p daily. To cancel send \\go stop\\\" to 89123\"\n",
            "welcome change to uk - mobile - date 2016 this msg is not free in giving its you free calling point to 08719839835. future mgs billed be at first 150p daily. to cancel cancel send \\ go stop \\ \" telephone to 89123 \"\n",
            "476 Capture this message and get 100 free spins www.wow9.co/pg\n",
            "you capture this message and get your 100 free spins on www. and wow9. ru co / pg\n",
            "477 4mths half price Orange line rental & latest camera phones 4 FREE. Had your phone 11mths ? Call MobilesDirect free on 08000938767 to update now! or2stoptxt\n",
            "phone 4mths half price orange line rental & exclusive latest installed camera phones 4 free free. who had your phone phone broken 11mths? call mobilesdirect 8 free be on call 08000938767 to update now! or2stoptxt\n",
            "478 Get 100 baht in cash and return 1500 baht to get th99. me\n",
            "get one 100 baht in simple cash each and return 1500 500 baht so to get th99. pay me\n",
            "479 Get the official ENGLAND poly ringtone or colour flag on yer mobile for tonights game! Text TONE or FLAG to 84199. Optout txt ENG STOP Box39822 W111WX à¹à¸1.50\n",
            "to get the official england poly ringtone [UNK] or microsoft colour flag online on yer mobile computer for tonights game! text tone or roman flag 0 to 84199. optout at txt eng stop x box39822 w111wx [UNK]. 50\n",
            "480 Claim a 200 shopping spree, just call 08717895698 now! Have you won! MobStoreQuiz10ppm\n",
            "lay claim to a 200 shopping and spree, like just to call this 08717895698 right now! or have you completely won! download mobstorequiz10ppm\n",
            "481 Urgent! Please call 09066612661 from your landline, your complimentary 4* Lux Costa Del Sol holiday or à¹à¸1000 CASH await collection. ppm 150 SAE T&Cs James 28, EH74RR\n",
            "not urgent! or please call my 09066612661 from your landline, your complimentary 4 * 5 lux costa del sol holiday dress or 4 [UNK] cash await collection. ppm e 150 sae t & l cs james river 28, 300 eh74rr\n",
            "482 dating:i have had two of these. Only started after i sent a text to talk sport radio last week. Any connection do you think or coincidence?\n",
            "professional dating : though i have had two of eight these. only started after news i supposedly sent a text message to talk sport radio this last week. any specific connection do do you rather think or coincidence?\n",
            "483 PRIVATE! Your 2003 Account Statement for 078\n",
            "private! your first 2003 account return statement applied for 078\n",
            "484 Urgent! call 09066612661 from landline. Your complementary 4* Tenerife Holiday or à¹à¸10,000 cash await collection SAE T&Cs PO Box 3 WA14 2PX 150ppm 18+ Sender: Hol Offer\n",
            "urgent! call her 09066612661 number from landline. your complementary 4 * x tenerife tourism holiday or [UNK], 000 cash cards await emergency collection at sae mobile t & cs po box 3 wa14 2px 150ppm 18 + sender : m hol news offer\n",
            "485 New TEXTBUDDY Chat 2 horny guys in ur area 4 just 25p Free 2 receive Search postcode or at gaytextbuddy.com. TXT ONE name to 89693\n",
            "new host textbuddy chat 2 horny dead guys in ur area 4 just like 25p wide free hosts 2 will receive search postcode page or at gaytextbuddy. com. 4 txt one name changed to z 89693\n",
            "486 PRIVATE! Your 2003 Account Statement for shows 800 un-redeemed S.I.M. points. Call 08715203685 Identifier Code:4xx26 Expires 13/10/04\n",
            "private! use your 2003 special account info statement for shows back 800 un - redeemed s. i. m. points. phone call form 08715203685 special identifier code : digits 4xx26 expires 13 / 04 10 / 03 04\n",
            "487 Had your mobile 11mths ? Update for FREE to Oranges latest colour camera mobiles & unlimited weekend calls. Call Mobile Upd8 on freefone 08000839402 or 2StopTxt\n",
            "had obtained your wireless mobile 11mths? update for free to oranges latest mobile colour hidden camera for mobiles & have unlimited weekend end calls. call for mobile upd8 on amazon freefone at 08000839402 or 2stoptxt\n",
            "488 You have received revolving fund rights. Check now cutt.ly/Ylz0jGp\n",
            "you have also received private revolving fund fund rights. check out now cutt. the ly /... ylz0jgp\n",
            "489 Txt: CALL to No: 86888 & claim your reward of 3 hours talk time to use from your phone now! Subscribe6GBP/mnth inc 3hrs 16 stop?txtStop www.gamb.tv\n",
            "but txt : will call you to no : 86888 & claim double your fee reward of 3 plus hours talk time to use from your phone anytime now! subscribe6gbp / mnth communications inc 3hrs 16 stop? click txtstop www. the gamb. tv\n",
            "490 HOT LIVE FANTASIES call now 08707509020 Just 20p per min NTT Ltd, PO Box 1327 Croydon CR9 5WB 0870.k\n",
            "hot live performance fantasies... call me now wireless 08707509020 has just 20p per min with ntt wireless ltd, po box 1327 from croydon north cr9 5wb 0870. 2 k\n",
            "491 <Forwarded from 88877>FREE entry into our à¹à¸250 weekly comp just send the word ENTER to 88877 NOW. 18 T&C www.textcomp.com\n",
            "< news forwarded from missing 88877 > free instant entry into our [UNK] weekly comp so just send in the word to enter to miss 88877 now. 18 april t & c and www. microsoft textcomp. com\n",
            "492 GENT! We are trying to contact you. Last weekends draw shows that you won a à¹à¸1000 prize GUARANTEED. Call 09064012160. Claim Code K52. Valid 12hrs only. 150ppm\n",
            "sorry gent! we are also trying to actually contact you. last weekends draw shows that you has won us a unique [UNK] prize if guaranteed. call 09064012160. claim code number k52. valid for 12hrs only. time 150ppm\n",
            "493 Want explicit SEX in 30 secs? Ring 02073162414 now! Costs 20p/min\n",
            "just want explicit hot sex in the 30 secs? ring 02073162414 open now! no costs around 20p / 20 min\n",
            "494 UpgrdCentre Orange customer, you may now claim your FREE CAMERA PHONE upgrade for your loyalty. Call now on 0207 153 9153. Offer ends 26th July. T&C's apply. Opt-out available\n",
            "upgrdcentre orange with customer, you may also now even claim back your free camera phone upgrade for your premium loyalty. call now based on 0207 153 9153. offer ends 26th july. t & c's will apply. wireless opt - on out version available\n",
            "495 SMS. ac Sptv: The New Jersey Devils and the Detroit Red Wings play Ice Hockey. Correct or Incorrect? End? Reply END SPTV\n",
            "sms. ac sports sptv : the rival new new jersey devils and the detroit detroit red wings can play ice hockey. results correct or incorrect? end? no reply → end from sptv\n",
            "496 Thanks for your ringtone order, reference number X49. Your mobile will be charged 4.50. Should your tone not arrive please call customer services 09065989182. From: [colour=red]text[/colour]TXTstar\n",
            "the thanks for your ringtone special order, call reference number x49. your personal mobile will be charged 4. 50. should your tone not arrive please to call customer help services account 09065989182. mail from : [ colour = red ] text [ / with colour ] message txtstar\n",
            "497 +123 Congratulations - in this week's competition draw u have won the à¹à¸1450 prize to claim just call 09050002311 b4280703. T&Cs/stop SMS 08718727868. Over 18 only 150ppm\n",
            "+ 123 no congratulations - 5 in this final week's poetry competition draw 32 u have won the [UNK] top prize to claim just call 09050002311 ： b4280703. t & f cs / no stop sms 08718727868. win over 18 only 150ppm\n",
            "498 Had your contract mobile 11 Mnths? Latest Motorola, Nokia etc. all FREE! Double Mins & Text on Orange tariffs. TEXT YES for callback, no to remove from records.\n",
            "had your contract mobile value 11 500 mnths? latest motorola, nokia etc. all free! double mins & in text yes on orange with tariffs. in text yes for every callback, no to all remove data from your records.\n",
            "499 PRIVATE! Your 2004 Account Statement for 078498****7 shows 786 unredeemed Bonus Points. To claim call 08719180219 Identifier Code: 45239 Expires 06.05.05\n",
            "get private! your 2004 account key statement for 078498 * * * * 7 shows 786 unredeemed and bonus card points. to save claim country call code 08719180219 identifier post code : 45239 card expires 06. 05. 02 05\n",
            "500 SMS AUCTION - A BRAND NEW Nokia 7250 is up 4 auction today! Auction is FREE 2 join & take part! Txt NOKIA to 86021 now! HG/Suite342/2Lands Row/W1J6HL\n",
            "sms digital auction - a more brand new model nokia 7250 is coming up 4 auction space today! auction is free will 2 join & download take part! txt connect nokia to 86021 now! voice hg / w suite342 / 2lands row / w1j6hl\n",
            "501 Shop till u Drop, IS IT YOU, either 10K, 5K, à¹à¸500 Cash or à¹à¸100 Travel voucher, Call now, 09064011000. NTT PO Box CR01327BT fixedline Cost 150ppm mobile vary\n",
            "shop till u drop, easy is it without you, either 10k, 5k, [UNK] thai cash or [UNK] visa travel money voucher, call first now, stop 09064011000. ntt po box box cr01327bt on fixedline cost 150ppm of mobile vary\n",
            "502 Thank you, winner notified by sms. Good Luck! No future marketing reply STOP to 84122 customer services 08450542832\n",
            "thank you, a winner then notified directly by sms. always good luck! no major future marketing plans reply traffic stop to 84122 via customer support services 08450542832\n",
            "503 Welcome to Select, an O2 service with added benefits. You can now call our specially trained advisors FREE from your mobile by dialling 402.\n",
            "welcome to house select, for an o2 social service thanks with several added benefits. but you can now manually call our specially trained advisors and free from your mobile and by dialling 402.\n",
            "504 Bears Pic Nick, and Tom, Pete and . Dick. In fact, all types try gay chat with photo upload call 08718730666 (10p/min). 2 stop texts call 08712460324\n",
            "bears pic nick, and by tom, with pete and. like dick. in fact, all 3 types try gay chat with any photo upload call 08718730666 ( 10p / min ). if 2 clicked stop posting texts a call of 08712460324\n",
            "505 U can WIN à¹à¸100 of Music Gift Vouchers every week starting NOW Txt the word DRAW to 87066 TsCs www.ldew.com SkillGame,1Winaweek, age16.150ppermessSubscription\n",
            "u can win in [UNK] star of music online gift vouchers every week starting 1 now txt of the word play draw to thee 87066 tscs www. ldew. net com skillgame, 1winaweek, 2017 age16. 0 150ppermesssubscription\n",
            "506 More worthwhile! Add-on package: 200 minutes of calls to all networks, just 99 baht for 30 days. Buy quickly! Or look at many great value packages at https://dtac.co.th/s/DOD\n",
            "far more worthwhile! add - on package : 200 minutes worth of power calls to all networks, just 99 baht for 30 days. please buy quickly! or even look at many new great value packages at facebook https : / / dtac. co. me th / web s / 1 dod\n",
            "507 This is the 2nd time we have tried 2 contact u. U have won the 750 Pound prize. 2 claim is easy, call 08718726970 NOW! Only 10p per min. BT-national-rate \n",
            "this is exactly the 2nd time which we have truly tried that 2 actually contact u. if u i have won the 750 pound prize. 2 claim it is easy, call 08718726970 right now! only 10p per min. bt - time national - rate\n",
            "508 FREE for 1st week! No1 Nokia tone 4 ur mob every week just txt NOKIA to 87077 Get txting and tell ur mates. zed POBox 36504 W45WQ norm150p/tone 16+\n",
            "only free for 1st week! no1 nokia tone 4 ur download mob every week just txt nokia calls to 87077 to get txting number and tell ur my mates. just zed in pobox one 36504 w45wq or norm150p / tone 16 +\n",
            "509 URGENT! Your mobile No 077xxx WON a à¹à¸2,000 Bonus Caller Prize on 02/06/03! This is the 2nd attempt to reach YOU! Call 09066362206 ASAP! BOX97N7QP, 150ppm\n",
            "urgent! get your mobile no 9 077xxx won a small [UNK], 000 bonus caller prize on or 02 / 19 06 / 03! this is the 2nd best attempt made to reach you! call numbers 09066362206... asap! box97n7qp, dialed 150ppm\n",
            "510 Do you want a new Video handset? 750 any time any network mins? UNLIMITED TEXT? Camcorder? Reply or Call now 08000930705 for del Sat AM\n",
            "do you do want buy a new smart video handset? 750 any time any social network two mins? unlimited text? camcorder? will reply that or just call free now 08000930705 for free del sat am\n",
            "511 Sunshine Quiz! Win a super Sony DVD recorder if you canname the capital of Australia? Text MQUIZ to 82277. B\n",
            "sunshine news quiz! and win yourself a super sony mini dvd picture recorder from if you canname... the cultural capital of western australia? text mquiz to 82277. b\n",
            "512 Loans for any purpose even if you have Bad Credit! Tenants Welcome. Call NoWorriesLoans.com on 08717111821\n",
            "mortgage loans for any monetary purpose so even if true you both have bad mortgage credit! loyal tenants welcome. call this noworriesloans. com on isbn 08717111821\n",
            "513 2/2 146tf150p\n",
            "iii 2 / 3 2 cl 146tf150p\n",
            "514 You are entitled to a K-PLUS loan of 85,000 baht. Contact bit.ly/3vhl6PE.\n",
            "you then are accordingly entitled also to a reported k - plus loan royalty of around 85, 70 000 baht. a contact bit. 0 ly / 3vhl6pe.\n",
            "515 URGENT! Your mobile number *************** WON a à¹à¸2000 Bonus Caller prize on 10/06/03! This is the 2nd attempt to reach you! Call 09066368753 ASAP! Box 97N7QP, 150ppm\n",
            "urgent! your mobile number * * * * * * * * * * * * * * * won in a bonus [UNK] bonus caller prize called on 10 / 03 06 / 03! no this is the 2nd missed attempt possible to reach you! call tone 09066368753 so asap! h box 97n7qp, 150ppm\n",
            "516 U have a secret admirer who is looking 2 make contact with U-find out who they R*reveal who thinks UR so special-call on 09058094599\n",
            "u would have discovered a hidden secret self admirer who really is looking 2 make contact not with u - find out who knows they r * reveal the who thinks ur was so special - call u on 09058094599\n",
            "517 all the lastest from Stereophonics, Marley, Dizzee Racal, Libertines and The Strokes! Win Nookii games with Flirt!! Click TheMob WAP Bookmark or text WAP to 82468\n",
            "all the best lastest from royal stereophonics, william marley, dizzee racal, libertines and beyond the strokes! win nookii games with flirt!! if click this themob wap a bookmark address or text message wap to error 82468\n",
            "518 Free entry in 2 a weekly comp for a chance to win an ipod. Txt POD to 80182 to get entry (std txt rate) T&C's apply 08452810073 for details 18+\n",
            "gain free entry in playstation 2 a per weekly comp for a fifth chance player to win an ipod. txt pod to 80182 to get valid entry ( std txt rate ) t & o c's apply 08452810073 tags for sample details from 18 +\n",
            "519 Update_Now - Xmas Offer! Latest Motorola, SonyEricsson & Nokia & FREE Bluetooth! Double Mins & 1000 Txt on Orange. Call MobileUpd8 on 08000839402 or call2optout/F4Q=\n",
            "update _ now - to xmas offer! latest android motorola, sonyericsson & old nokia & free for bluetooth! double 5 mins & iso 1000 txt file on orange. call on mobileupd8 on 08000839402 line or phone call2optout / f4q =\n",
            "520 Hi this is Amy, we will be sending you a free phone number in a couple of days, which will give you an access to all the adult parties.\n",
            "julie hi this is julie amy, we also will be presently sending from you a temporarily free phone number in a couple of off days, numbers which will give you an access channel to from all the adult parties.\n",
            "521 Ur cash-balance is currently 500 pounds - to maximize ur cash-in now send GO to 86688 only 150p/msg. CC: 08718720201 PO BOX 114/14 TCR/W1\n",
            "ur cash - balance is currently at 500 thousand pounds - to maximize ur amount cash - in now send go to 86688 address only... 150p / h msg. cc : 08718720201 6 po box box z 114 / 31 14 tcr / w1\n",
            "522 Had your mobile 10 mths? Update to latest Orange camera/video phones for FREE. Save à¹à¸s with Free texts/weekend calls. Text YES for a callback orno to opt out\n",
            "had you your mobile passed 10 mths? update text to latest orange camera / video in phones for free. save [UNK] with the free texts / scheduled weekend calls. text yes also for a brief callback orno to be opt in out\n",
            "523 FREE camera phones with linerental from 4.49/month with 750 cross ntwk mins. 1/2 price txt bundle deals also avble. Call 08001950382 or call2optout/J MF\n",
            "free camera lens phones with linerental from base 4. 00 49 / month with 750 plus cross ntwk on mins. 1 / 2 high price txt bundle which deals also from avble. call 2 08001950382 or call2optout / j to mf\n",
            "524 Mila, age23, blonde, new in UK. I look sex with UK guys. if u like fun with me. Text MTALK to 69866.18 . 30pp/txt 1st 5free. à¹à¸1.50 increments. Help08718728876\n",
            "mila, age age23, blonde, new zealand in miss uk. i just look sex with famous uk guys. if u like fun with me. text over mtalk to default 69866. 18. 30pp / 3 txt or 1st 5free. [UNK]. 50 [UNK] increments. help08718728876\n",
            "525 You get 108 free from us now. Click https\"//s.id/1r0MJ-s\n",
            "if you can get them 108 years free from us right now. now click https \" / / s. uk id / www 1r0mj - s\n",
            "526 Only you, get 3999 free spins www.big66.co/pg\n",
            "second only to you, but get 3999 plus free spins at www. big66. co / reference pg\n",
            "527 Urgent Ur à¹à¸500 guaranteed award is still unclaimed! Call 09066368327 NOW closingdate04/09/02 claimcode M39M51 à¹à¸1.50pmmorefrommobile2Bremoved-MobyPOBox734LS27YF\n",
            "urgent contact ur number [UNK] [UNK] guaranteed membership award is still largely unclaimed! home call 09066368327 now called closingdate04 / 08 09 / 12 02 claimcode me m39m51 [UNK]. 50pmmorefrommobile2bremoved - mobypobox734ls27yf\n",
            "528 Congrats! 1 year special cinema pass for 2 is yours. call 09061209465 now! C Suprman V, Matrix3, StarWars3, etc all 4 FREE! bx420-ip4-5we. 150pm. Dont miss out! \n",
            "congrats! 1 year special cinema pass for us 2 is totally yours. we call 09061209465 at now! get c t suprman v, matrix3, n starwars3, etc to all access 4 free! bx420 - ip4 - 5we. now 150pm. dont miss out!\n",
            "529 URGENT! Last weekend's draw shows that you have won à¹à¸1000 cash or a Spanish holiday! CALL NOW 09050000332 to claim. T&C: RSTM, SW7 3SS. 150ppm\n",
            "urgent! my last whole weekend '... s big draw shows that you have recently won [UNK] cash or a spanish holiday! call us now 09050000332 not to claim. t & c : rstm, 2008 sw7 4 3ss. html 150ppm\n",
            "530 Good luck, no poverty! Reveal the secrets to improve your luck and good fortune. Press *298*4# to enhance your good fortune with auspicious numbers.\n",
            "good winter luck, no poverty! reveal now the secrets to improve your luck and seek good fortune. press * letter 298 * 4 # vow to greatly enhance both your own good fortune together with the auspicious numbers.\n",
            "531 Hottest pics straight to your phone!! See me getting Wet and Wanting, just for you xx Text PICS to 89555 now! txt costs 150p textoperator g696ga 18 XxX\n",
            "send hottest pics straight to your car phone!! see me getting you wet everywhere and totally wanting, just for loving you 6 xx text pics to 89555 now! text txt costs rs 150p by textoperator g696ga 18 xxx\n",
            "532 Dear U've been invited to XCHAT. This is our final attempt to contact u! Txt CHAT to 86688\n",
            "e dear sweet u'an ve also been invited to xchat. this is not our second final online attempt not to contact u! txt chat to exit 86688\n",
            "533 PRIVATE! Your 2003 Account Statement for 07815296484 shows 800 un-redeemed S.I.M. points. Call 08718738001 Identifier Code 41782 Expires 18/11/04 \n",
            "call private! save your number 2003 full account statement for account 07815296484 shows 800 un - redeemed s. x i. as m. points. call information 08718738001 identifier country code 41782 it expires 18 / 11 / 04\n",
            "534 Jamster! To get your free wallpaper text HEART to 88888 now! T&C apply. 16 only. Need Help? Call 08701213186.\n",
            "get jamster! to get your rent free wall wallpaper with text message heart to 88888 to now! t & c apply. chapter 16 only. no need her help? call her 08701213186.\n",
            "535 Want a new Video Phone? 750 anytime any network mins? Half price line rental free text for 3 months? Reply or call 08000930705 for free delivery\n",
            "want a sexy new internet video phone? 750 anytime or any broadband network mins? use half the price line audio rental free text book for 3 months? reply or call at 08000930705 for instant free delivery\n",
            "536 Move to us, apply for a free bonus of 150%, deposit 400, receive 1000\n",
            "not move here to us, later apply online for a free bonus of under 150 %, deposit 400, and receive 1000\n",
            "537 Want 2 get laid tonight? Want real Dogging locations sent direct 2 ur mob? Join the UK's largest Dogging Network bt Txting GRAVEL to 69888! Nt. ec2a. 31p.msg@150p\n",
            "want that 2 get laid more tonight? want real dogging locations be sent direct 2 to ur the mob? join the uk'″ s largest fake dogging network bt txting gravel to 69888! live nt. ec2a. 31p. 7 msg @ 30 150p\n",
            "538 Spook up your mob with a Halloween collection of a logo & pic message plus a free eerie tone, txt CARD SPOOK to 8007 zed 08701417012150p per logo/pic\n",
            "spook to up front your mob with a halloween collection cost of a logo & pic message text plus a password free eerie heart tone, a txt loyalty card spook to the 8007 zed 08701417012150p per logo / graphic pic\n",
            "539 FreeMSG You have been awarded a FREE mini DIGITAL CAMERA, just reply SNAP to collect your prize! (quizclub Opt out? Stop 80122300p/wk SP:RWM Ph:08704050406)\n",
            "freemsg you have been is awarded a free digital mini 4 digital camera, just reply by snap one to and collect your prize! ( does quizclub opt out? stop 80122300p / wk sp : [UNK] rwm code ph : am 08704050406 )\n",
            "540 Easy to play, get rich quickly, no minimum deposit. Not through an agent\n",
            "go easy ways to name play, get rich quickly, find no minimum deposit. especially not through an agent\n",
            "541 cmon babe, make me horny, *turn* me on! Txt me your fantasy now babe -) Im hot, sticky and need you now. All replies cost à¹à¸1.50. 2 cancel send STOP\n",
            "im cmon babe, make me horny, *... turn * me on! oh txt me your little fantasy now babe - ) im an hot, sticky one and need you now. and all my replies cost [UNK]. 50. 100 2 second cancel send stop\n",
            "542 Don't b floppy. b snappy & happy! Only gay chat service with photo upload call 08718730666 (10p/min). 2 stop our texts call 08712460324\n",
            "don'r t b stop floppy. b too snappy & happy happy! only likes gay men chat room service with photo upload call 08718730666 ( 10p / u min ). 2 stop our going texts call from 08712460324\n",
            "543 Only you get 10 free True Points just by exchanging the first add-on pack of the year, such as 5 True Points in exchange for free internet 100MB 1 Oct 21 - 30 Nov 21.\n",
            "but only you actually get 10 free dual true full points just not by previously exchanging the first add - on pack session of the year, such as 5 single true points in exchange for 3 free internet 100mb 1 oct 21 - dec 30 nov 21.\n"
          ]
        }
      ],
      "source": [
        "def augmentation(data, n) :\n",
        "    gen_text = []\n",
        "    select = data[data['encoded'] == 1].reset_index(drop=True)\n",
        "    aug = naw.ContextualWordEmbsAug(\n",
        "    model_path='bert-base-uncased', action=\"insert\")\n",
        "    for i in range(len(select)):\n",
        "        text = select.iloc[i]['text']\n",
        "        print(i, text)\n",
        "        for j in range(n) :\n",
        "            augmented_text = aug.augment(text)\n",
        "            print(augmented_text[0])\n",
        "            gen_text.append(augmented_text[0])\n",
        "    return gen_text\n",
        "\n",
        "aug_spam = augmentation(data_train, n=1)"
      ]
    },
    {
      "cell_type": "code",
      "execution_count": null,
      "metadata": {
        "id": "FjfjQTmsRndD",
        "outputId": "84026b8a-a70c-4453-b15b-172194dc4c61"
      },
      "outputs": [
        {
          "name": "stdout",
          "output_type": "stream",
          "text": [
            "544\n",
            "['ur ringtone service that has changed! 25 free credits! now go to com club4mobiles. com to choose content now! stop? or txt and club bus stop to 87070. com 150p / sec wk club4 po box1146 r mk45 rs 2wt', 'now freemsg : fancy me a flirt? reply date from now & then join the screen uks fastest growing mobile dating service. msgs at rcvd just 25p uploaded to optout txt stop calling to chat 83021. now reply date now!', 'hi there, 2nights and ur lucky night! uve will been invited over 2 xchat, for the uks wildest chat! chat txt or chat to demo 86688 now! suite 150p / msgrcvdhg / suite342 / live 2lands / row / w1j6hl 0 ldn 18yrs', 'now it amounts to 80488. 5 your 500 1000 free text messages are fully valid until 31 december of 2005.', 'we tried to call you re... your boyfriend reply yet to please our friend sms for a secure video mobile in 750 mins and unlimited text + free camcorder reply ports of call 08000930705 right now', 'as such a sim subscriber, chips you are specially selected to usually receive as a bonus! get had it delivered to your door, txt gets the right word ok to no : 88600 to claim. with 150p / 100 msg, exp. 30apr', 'someone please kindly call her 08712402972 immediately as ever there is an urgent message is waiting patiently for you', 'call 09094100151 to use to ur mins! calls cast 10p / min ( mob sizes vary ). same service provided by a aom, just gbp5 / th month. in aom box61, m60 to 1er only until service u stop. ages of 18 + only!', 'but u have a secret admirer who sebastian is looking 2 make contact with u - find it out who they both r * reveal only who she thinks ur my so very special - call 0 on 09065171142 - 0 stopsms - 08718727870150ppm', \"ur ur bank balance equation is now [UNK]. ur next question is : who sang'that uptown poor girl'in the 80's? 2 answer check txt from ur 4 answer go to 83600. oh good luck!\", '0 74355 cd xmas iscoming & ur awarded an either 2 [UNK] x cd gift cd vouchers & free entry 2 r s [UNK] project weekly draw txt unique music to earth 87066 tnc', 'please please call our customer email service representative email on freephone 0808 000 145 000 4742 between 9am - 11pm seeing as you have won yourselves a non guaranteed [UNK] cash trophy or double [UNK] prize!', \"2p messenger per min request to call from germany send 08448350055 away from up your bt line. just a 2p sms per min. further check planettalkinstant. com for more info & t's & c's. text stop to opt out\", 'to review products and keep discussing the fantastic nokia n - gage game or deck out with club nokia, at go 2 www. at cnupdates. du com / newsletter. to unsubscribe from alerts... reply with push the word out', 'check your personal account account has previously been credited with 500 free free text messages. permission to activate, just txt the word : credit letter to no : nos 80488 t & t cs www. no 80488. biz', 'free for starting 1st week! no1 nokia tone 4 ur mob number every week just txt nokia cam to 8007 get new txting rate and you tell ur mates www. we getzed. co. uk and pobox 36504 w45wq or norm150p / tone 5 16 +', '2018 87077 : kick off with a new season with 2wks 2 free goals & news posted to ur and mobile! txt as ur club name changes to 87077 and eg s villa squad to 87077', 'such great fake news! call freefone 08006344447 something to claim your guaranteed [UNK] cash... or [UNK] gift. or speak over to her a facebook live operator right now!', 'a 100 free diamonds diamonds can be withdrawn without this deposit', 'and dorothy @ kiefer. com com ( bank owner of granite issues currency strong - buy ) about explosive pick up for our new members * * * * * up over 300 % * * * * * * * * * * * nasdaq trading symbol cdgt that this is a $ 5. 10 00 per.', 'open unlimited card giveaway! to get a chance to can win a free in 500 thousand baht gold prepaid card correctly and apply for duangdee service ticket by pressing * 172 #', 'good the luck back to you! they get a call fee of 500 [UNK] thai thailand baht and have have the first opportunity to apply for such a lucky delivery service of 5 thai baht per unique message at * 224 #.', 'goldviking ( platform 29 / 25 m ) is inviting you to be known his good friend. not reply yes - 762 return or no - 762 will see him : www. and sms. ac / u / goldviking stop? send stop frnd from to address 62468', 'very important message. this is not a great final contact attempt. you have important messages on waiting out our customer claims filing dept. expires at 13 / 29 4 / 7 04. you call 08717507382 not now!', '22 days to kick off! for euro2004 pool u players will only be being kept up to a date starting with the latest sporting news and results daily. to be removed before send button get txt first stop to 83222', 'one reminder from o2 : anywhere to please get 2. 50 pounds of free per call credit and details number of great offers at pls reply 2 receive this text with your valid name, safe house or no and postcode', 'missed call tone alert. however these missed numbers only called out but still left no message. 07008009200', 'you can then stop struggling further at club tones simply by replying \\\\ then stop my mix \\\\ \"... see my - tone. or com / enjoy. html to for terms. club tones normally cost gbp4. 50 / week. mfl', 'freemsg > from fav to xmas tones!... reply... real', 'do you guys want... a new video camera handset? 750 line anytime with any different network mins? pay half price line rental? camcorder? reply box or mobile call number 08000930705 for delivery tomorrow', '5 free 100 top 1 polyphonic tones for call service 087018728737, national rate. they get him a toppoly tune message sent twice every week, just two text subpoly to 81618, five [UNK] per pole. unsub 08718727870.', 'accept your domain unique web user id name is 1172. request for removal send stop off to 87239 at customer support services 08708034412', 'with unlimited free giveaways open every possible day, get free 100, s easy ways to make withdraw, and automatic, click out www. linee. live / r9b8', 'double your mins & n txts saved on one orange juice or 1 / 2 dollar price linerental - motorola and sonyericsson with b / tooth prices free - including nokia free phone call to mobileupd8 on windows 08000839402 or2optout / hv9d', 'please call 08712402578 and immediately proceed as well there is an increasingly urgent mobile message waiting downstairs for you', 'and 88066 from 88066 are lost chapter 3pound help', 'urgent. important information online for 02 every user. today this is probably your lucky day! 2 find out why, log onto at http : / / via www. mary urawinner. dot com there truly is a most fantastic surprise awaiting you!', 'just apply it on this line and receive a red premium envelope discount price up top to us 500 thousand baht > as https : / / open bit. in ly / 3wnqyw2', 'no. 1 on nokia tone 4 get ur mob numbers every a week! just txt nok to 87021. 1st telecom tone 5 free! so get txtin now and tell ur friends. reach 150p / tone. 16 or reply in hl channel 4info', 'give your b4u voucher bill w / c 27 / 03 is marsms. log yourself onto account www. b4utele. ru com for full discount credit. to opt out reply on stop. customer details care and call registration 08717168528', 'please simply call 08712402779 open immediately and as there already is an important urgent message waiting for contacted you', 'burger king - never wanna play footy at a top stadium? always get 2 burger king before 1st sept 2003 and either go up large or super with coca - rc cola bottles and a walk so out a vote winner', 'send free msg : get single? find a partner back in to your area! 1000s instead of real earth people are waiting there to chat by now! send for chat to 62220cncl send stopcs [UNK]. get 50 per msg', 'with 500 new new mobiles available from by 2004, phones must go! txt : nokia phone to no : 89545 & [UNK] collect yours today! from only [UNK] www. 4 - tc. com biz of 2optout 087187262701. 50gbp / tv mtmsg18', 'one customer member loyalty test offer : the new nokia6650 home mobile starts from only [UNK] at txtauction! txt word : start to no : 2 81151 & get from yours now! 7 4t & ctxt 3 tc 150p / 22 mtmsg', 'hi god if g ur lookin t 4 saucy baby daytime fun wiv busty dream married woman am free all out next week chat now version 2 [UNK] sort de time chat 09099726429 janinexx [UNK] / minmobsmorelkpobox177hp51fl', \"you could have obtained a weekly refund of a 999 baht. it's just about due to expire. press me to receive it but quickly contact www. xo666. me / fee money\", 'hi, this is belinda mandy mitchell sullivan calling from hotmix fm. today you are chosen how to receive [UNK]. 00 in determining our easter prize to draw. please telephone 09041940223 asking to claim access before 29 / 03 / 05 or when your prize will be transferred over to someone else.', 'double mins & 10 double txt & 1 / 2 premium price linerental based on latest orange in bluetooth mobiles. do call 2 mobileupd8 for purchasing the very different latest offers. 08000839402 or no call2optout / mobile lf56', '3rd free ringtone text first to 87131 for a clear poly or not text please get to the 87131 for a true dial tone! web help? pdf 0845 2814032 page 16 after 1st free, tones are read [UNK] to [UNK] txt stop', \"ree a entry in 2 a second weekly free comp for a chance to win an ipod. open txt pod to 80182 to also get entry ( std txt registration rate ) from t & c'v s apply under 08452810073 for background details 18 +\", 'a d city condo longer than resort condo, ready to move in, no customer need need to pay installments for 24 months *, location in the heart of charan, starting at 1. 79 million baht, receive transfer fee + common fees * special! true customers show sms link and receive calling fees for first the whole year + • 20, 000 yearly baht discount. click https : / / ct. elinks. org it / _ 5y1r5vz', 'your next coming amazing xxx series picsfree1 video will be sent away to customers you enjoy! if even one vid format is not enough for 2day no text back up the keyword is picsfree1 to get the next unique video.', 'press now arranged to receive an increased additional weekly call fee of 500 thai baht, also and have the opportunity again to electronically apply for auspicious call services packages of 5 thai baht per given month or at * 224 #.', 'ur cash - balance is currently currently worth 500 metric pounds - to maximize performance ur cash - in will now send available cash money to 86688 only 150p / msg. cc : 08718720201 po phone box 114 / post 14 call tcr / w1', \"you spin in time! spin go for a fun fair and happy long summer. [UNK] the game ends at the august end of this month, giving away 80 gold prizes, a big gold 5 billion baht, 3. 5 million true points, 11 apr'23 23 - 3 30 jun'23.\", 'arsenal goal! arsenal 4 ( henry, 7 v london liverpool 2 henry only scores with a simple shot from from 6 long yards up from then a pass by peter bergkamp to goal give arsenal a convincing 2 goal margin after 78 mins.', 'and themob > yo yo yo - here comes down a complete new selection of all hot downloads required for our members... to get distributed for free!... just click & open the next link to sent over to ur fone.', '07732584351 - rodger burns - msg = we just tried to call call on you with re for your reply was to our mobile sms for a free nokia mobile + free video camcorder. please call now 08000930705 secure for delivery call tomorrow', 'graduation valentines day special! win over [UNK] in our lab quiz and win take... your partner further on the science trip of learning a long lifetime! send go to 83600 now. 150p / s msg rcvd. custcare : issn 08718720201.', 'hi 07734396839 ibh customer loyalty offer : with the completely new nokia6600 premium mobile and from only [UNK] at this txtauction! all txt word : best start to no : 81151 & can get i yours now! 3 4t &', 'marvel mobile championship play release the official ultimate perfect spider - like man mobile game ( [UNK]. super 50 ) on ur mobile playstation right now. text spider to 83338 pages for the game & we ll send u back a free mini 8ball wallpaper', 'urgent! call 09066350750 from your landline. get your complimentary bonus 4 * an ibiza holiday holiday package or 10, 95 000 cash await collection on sae t & cs po boxes box 434 but sk3 8wp 150 and ppm 18 +', 'money!!! you want r a lucky 7 winner! 2 points claim your prize text money for 2 ¥ 88600 over [UNK] to 1 give away! [UNK] ppt150x3 + double normal game text rate with box403 w1t1jy', \"then i probably want some cock! my hubby's away, i need a real man 2 satisfy by me. txt wife continues to wife 89938 6 for no more strings action. ( txt stop rep 2 end, txt stop rec [UNK]. 50ea. no otbox 731 la1 7ws. )\", 'value ur 31 hmv quiz cash - balance ratio is higher currently [UNK] - to maximize profit ur 3 cash - in case now send hmv1 bank to 86688 let only add 150p / msg', \"loan for working any specific purpose is [UNK] - [UNK], 200 000. and homeowners + tenants welcome. have so you been previously refused? we can still help. now call free 0800 at 1956669 [UNK] or text back'get help '\", 'you have... won? some 1, 30 000 cash prizes or a? or 2, 20 000 additional prize! 3 to claim, call09050000327. t & n c : rstm, 100 sw7 3ss. 150ppm', 'app show ur colours! us euro 2004 2 - 4 - none 1 campaign offer! get us an england own flag & 3lions are tone name on ur phone! click on the line following active service message for info!', 'get you your garden ready for summer nursery with i a free selection of summer healthy bulbs grow and seeds best worth [UNK] [UNK] : s 50 only with the scotsman this saturday. to stop on go2 notxt. dot co. uk', \"and do you you ever notice anything that when you're driving, whether anyone even going away slower than just you is an idiot and everyone driving faster away than only you is a maniac?\", 'just 44 7732584351, do you still want a new nokia 3510i colour colour phone and deliveredtomorrow? 2 with 50 300 free minutes to chat any mobile + 100 free texts + 100 free short camcorder reply or simple call 08000930705.', 'okay dear bonnie dave this this is your final signing notice and to come collect on your 4 * tenerife holiday or # 5000 cash award! call 09061743806 download from their landline. tcs sae box326... cw25wx 150ppm', 'thank for taking part in our mobile device survey for yesterday! you can at now have 500 texts 2 use however numbers you wish. 2 get txts just send txt 46 to 80160 t & c on www. see txt43. net com 1. 2 50p', 'follow all the latest news news and news events. apply for one better news on sms service option by pressing * 471 * 36 17 #.', 'sports fans - get the fresh latest sports news news to str * 2 4 ur mobile phone 1 1 wk free wireless plus a free voice tone txt sport on to 8007 www. getzed. co. web uk 0870141701216 + norm 4txt / 4 120p', 'reply first to win [UNK] weekly! what at professional chinese sport tennis does tiger lily woods play? send stop to email 87239 to have end service', 'you have... 1 new leaving message. emergency call 1 0207 - 31 083 - 3 6089', 'win a [UNK] jp cash prize if or a prize worth [UNK] [UNK]', 'enjoy the jamster videosound at gold club with list your current credits for 2 new videosounds + 2 album logos + musicnews! get a more pleasant fun from your jamster. co. uk uk! 16 + only to help? call : rs 09701213186', 'free the ring tone just text \\\\ polys \\\\ \" and to 01 87131. 1 then every week would get a corresponding new tone. 0 0870737910216yrs save only [UNK]. [UNK] 50 / 40 wk. \"', 'extra special!! this call number receives an additional call out fee amount of 500 baht. press * number 159 # x and apply for civil health telephone service card 5 baht / 800 kk.', 'please listen forward to dance with music! get yourselves a chance to successfully win an oxygen flow meter. press * 482 # 3 to can apply for hit songs worth 10 baht / day.', \"guess who am what i? this sunday is the first real time i created a web page www. asjesus. com read of all i wrote. now i'bal m waiting for all your opinions. now i want to be your friend 3 1 / no 1\", 'flash buyer cannot ever be contacted. please do confirm viewing the package information via line : through cutt. gov ly / flashe - x', 'projects kma often offers you new loan rights of only 120, 00 000 malaysian baht. google click : citly. me / project pgh2a', 'any new key tones this past week include : refrain 1 ) kyle mcfly - all ab., refrain 2 ) sara di jorge - shock. 3 ) when will the smith - switch. to order and follow instructions on next message', 'now this is the odd 2nd time we have really tried a 2 contact u. yet u have always won the 750 pound prize. any 2 claim is real easy, call for 08712101358 go now! only 10p per min. bt - national - rate', 'congratulations! thanks to such a big good friend u have won the [UNK], [UNK] 000 in xmas lottery prize. 2 claim it is easy, just call 08718726971 and now! only the 10p per minute. 2 bt - national - hourly rate.', '[UNK] u no can automatically win [UNK] of japanese music gift vouchers once every week starting now txt the word please draw to 87066 tscs and www. k idew. at com world skillgame, 1winaweek, age16. 150ppermesssubscription', '[UNK] congratulations ur awarded to either [UNK] copies of cd 3 gift vouchers & rewards free entry 2 share our world [UNK] weekly draw 2 txt music links to 87066 tncs www. ldew. com take 1 win150ppmx3age16', 'for true honest customers, great new value, just 28 baht, unlimited internet, no reduction in drive speed, 2 mbps for 1 day. so call * 900 * 3705 * 00060004 # check and receive you a discount of 100 250 baht but when waiting you shop for another 700 baht at lotus online.', '... are you unique here enough? find out... from august 30th through august. 2009 www. areyouunique. co. london uk', 'blue phony n [UNK] digit award - todays voda 3 numbers ending xxxx are selected to receive a gold [UNK] number award. if you currently have a duplicate match please call 08712300220 quoting code claim code 3100 standard rates uk app', 'urgent! because your mobile number has been successfully awarded with a [UNK] slot prize guaranteed. call id 09058094454 or from fixed land line. assigned claim number 3030. valid before 12hrs and only', 'congratulations is ur awarded us 500 of 5 cd license vouchers 45 or 125gift songs guaranteed & 2 free the entry 2 100 wkly draw txt music to 87066', 'a customer for service annoncement. you can have a small new years delivery list waiting around for you. and please call home 07046744435 now to arrange their delivery', '[ jimmy krung of thai credit bank ] hi congratulations! you ve received more 200, 000 mon baht, line : innk. in / at gsal', \"oh god my god! maybe i've just found your number yet again! i'm so damned glad, text me back now xafter this msgs w cst std o ntwk g chg v [UNK]. 50\", 'pp0lv. on com get the free online 9999 extra baht jdb jili pg games sa fish shooting', 'december date only! had is your mobile updated 11mths +? you are further entitled to update this to the next latest colour video camera mobile for monthly free! call to the mobile update vco free mobile on 08002986906', 'eastenders tv quiz. and what flower does dot also compare having herself next to? d = violet blues e = tulip f = lily txt d e or g f shift to 84025 now 4 little chance or 2 win [UNK] plus cash wkent / 150p16 +', 'highest money prize i have won wining number 946 wot me do thing i just do next', 'not urgent! make your mobile no * * * * * * * * * * * won me a [UNK], 000 bonus caller help prize on wednesday 02 / 06 / 03! so this is the net 2nd ever attempt to actually reach you! call 09066362220 to asap! box97n7qp, 150ppm', 'private! off your phone 2003 account hash statement for < fone no > shows nearly 800 un - redeemed s. i. h m. ransom points. mobile call 08715203656 mobile identifier code : 42049 expires after 26 / 10 / 09 04', 'like this long running holiday story has got a complete surprise. adjust to get lots of rewards. open bit. id ly / r 3lfke6p', \"well dear u've been invited off to xchat. visit this one is our final attempt to contact u! txt chat next to 86688 150p / 38 msgrcvdhg / 0 suite342 / 0 2lands / 1 row / w1j6hl with ldn 18 yrs\", 'a [UNK] xmas and reward box is waiting for you! our network computer has randomly picked which you with from our loyal 1 mobile customers to receive us a full [UNK] s reward. can just call 09066380611', 'current monthly password for download wap. mobsi. com it is private 391784. use just your wap cloud phone just not open pc.', 'but from 88066 lost [UNK] and help', 'you will have won half a japanese nokia of 7250i. plus this money is what you get when you win our free auction. to now take a part send nokia 1 to 86021 now. hg / suite342 / 2lands row / w1jhl a 16 +', 'and thesmszone. com program lets everyone you send free private anonymous and masked messages. im sending this your message from the there. do not you will see currently the potential cause for abuse???', \"hello from orange. for 1 per month's guaranteed free access to various games, news services and sport, plus over 10 free texts online and after 20 photo invitation messages, i reply with yes. terms apply : www. orange. co. uk / ow\", 'and do you still want 750 at anytime or any time network mins to 150 or text and a new video and phone version for only five pounds per week call 08000776320 right now or reply for delivery tomorrow', '0a $ networks only allow companies that to bill for your sms, and so they that are still responsible for their \\\\ you suppliers \\\\ \"', 'bang bing bang bang! work is finally on the rise, love is indeed on the rise tomorrow with a good quality sim card from true, only no signed contract, pay once monthly and actually use it all year, losing only 2999 baht at shopee.', 'four benefits are for 25 new members : a deposit in 100, receive 300, press kc91. top - 3 c', 'your weekly cool - ex mob 2 tones are ready to be download! in this weeks new tones include : 1 ) crazy frog - axel f > > > 2 ) red akon - lonely > > > present 3 ) black eyed - dont p > > > no more background info is in about n', '* * free message * * thanks for using up the instant auction subscription request service. 18. call 150p / msgrcvd 2 to skip an auction where txt passed out. 2 will unsubscribe that txt to stop customercare 08718726270', 'urgent! your mobile no answer was which awarded us a [UNK], 000 bonus caller prize on sunday 1 / 15 08 / 2014 03! also this is our 2nd futile attempt unsuccessfully to contact you! call 0871 - 4719 - 01 523 box95qu bt national rate', 'good for luck, fortune comes to often visit, so there now is now a whole chance not to get lucky, press * 155 * 66 # 1 or... click our bit. ly / 41l260', 'smart sms calling services. app for your inclusive account text credits, pls in goto phone www. comuk. com net login = 3qxj9 or unsubscribe with auto stop, no charge extra charge. help 08702840625. comuk. 220 - cm2 9ae', \"you almost won't believe it but now it's true. oh it's incredible txts! reply for g now to next learn truly amazing magic things but that could will blow on your mind. from o2fwd only get 18p / txt\", 'want for explicit text sex in between 30 secs? java ring tone 02073162414 go now! app costs us 20p / 4 min gsex pobox 2667 [UNK] wc1n 3xx', 'ringtone club : provide gr8 brand new pink polys direct to your home mobile app every week!', 'our brand new mobile phone music service industry is now live. the free music store player system will definitely arrive next shortly. just to install on your pay phone handy to browse content selections from the top artists.', 'as 09066362231 urgent! your mobile no 07xxxxxxxxx won a [UNK], 000 bonus caller key prize on sunday 02 / 11 06 / 03! maybe this is on the exact 2nd attempt to reach to you! still call them 09066362231 asap!', 'you have an extremely important new customer service news announcement from premier.', 'valentines day special! win over fifty [UNK] students in our quiz contest and take out your partner on the biggest trip of only a lifetime! then send go to facebook 83600 with now. 150p / v msg rcvd. custcare : 08718720201', \"please freemsg do today's the big day best if so you are ready! i'm super horny & live in your town. i love sex fun & games! netcollex ltd from 08700621170150p per s msg reply on stop to message end\", 'you have been specially personally selected to receive this a 2000 british pound award! call your 08712402050 short before the main lines close. cost 10ppm. pull 16 +. both t & cs can apply. ag and promo', 'free > ringtone! hello reply you real or poly eg [UNK] real1 1. pushbutton version 2. dontcha 3. babygoodbye 4. golddigger 4 5. webeburnin 1st tone 3 free and active 6 more free when u join us for [UNK] / [UNK] wk', 'urgent! no we are only trying to actually contact mobile u. todays draw now shows that you both have successfully won a [UNK] prize guaranteed. call 09066358361 from land line. claim 0 y87. 0 valid 12hrs to only', 'hmv bonus special 500 raf pounds cost of 100 genuine art hmv vouchers to be won. 2 just answer any 4 easy first questions. play now! send hmv bonus to 86688 more info : www. 100percent - 10 real. com com', 'express thanks for your delayed ringtone order, ref and number r836. your mobile phone will be charged off [UNK]. 50. 30 should your tone not quickly arrive... please should call customer response services on 09065069154', 'bought plus one other ringtone and now getting texts costing twenty 3 per pound offering two more tones etc', 'freemsg : 1 - month unlimited of free calls! help activate smartcall please txt : go call over to me no : 68866. subscriptn3gbp / bing wk service unlimited new calls help : save 08448714184 stop? txt stop landlineonly', 'for free electronic entry into our [UNK] weekly comp just facebook send first the word my enter to my 84128 now. 18 t & m c and www. dear textcomp. com our cust care 08712405020.', 'absent lord guardian of the rings : no return legend of the king in your store tomorrow now! reply lotr by 2 june 4 chance 2 points win lotr soundtrack soundtrack cds stdtxtrate. reply stop back to your end txts', 'second free home game. get rayman golf 4 players free from the o2 100 games sports arcade. 1st get ur 000 games arcade settings. reply post, password then save & activ8. press 0 key button for games arcade. termsapply', 'free msg : we are billed your original mobile cell number by mistake from free shortcode from 83332. then please also call 08081263000 not to have charges refunded. this call will be free from owning a bt smart landline', 'we even tried to directly contact you i re your reply to our simple offer of buying a video phone 750 model anytime across any network 50 mins or half price direct line rental camcorder reply or call 08000930705', 'ultra hi. customer loyalty offer : the exclusive new nokia6650 mobile from 2014 only [UNK] at 10 txtauction! txt word : start right to no : nokia 81151 &... get up yours now! 4t & 3 ctxt tc 150p / s mtmsg', 'salary... 38, usd 300 has since been completely credited to your account. now click the public link cutt. com ly / § vvfpd3', 'x congrats 2 mobile application 3g for videophones r r yours. call 09063458130 yes now! see videochat and wid ur mates, play java games, send dload polyph music, noline rentl. bx420. ip4. 5we. 3 150p', 'our final chance! will claim ur 10 [UNK] [UNK] worth number of discount vouchers today! may text yes greeting to 85023 now! savamob, the member offers mobile mobile! t cs savamob pobox84, m263uz. [UNK]. 00 number subs 16', 'party wow! the boys 2 r ft back. take it that 2007 uk world tour. win vip tickets & pre - book deal with bbc vip club. txt club to facebook 81303. visit trackmarque ltd download info @ vipclub4u.', 'romantic paris. got 2 summer nights, and 2 flights come from [UNK] book now about 4 next year. can call id 08704439680ts & 3 cs will apply.', 'you have won a only guaranteed [UNK] of cash or a full [UNK] prize. to my claim yr prize call from our customer feedback service review representative on', 'anyone wanna have a laugh? try chit - tech chat it on your mobile now! logon by using txting of the word : chat and send it to no : 9 8883 cm 1 po box 4217 london number w1a 6zf 2 16 + 02 118p / msg rcvd', \"you'd ve never won the 1st prize. therefore you all can eventually receive back 1000 baht now... https : / / bit. ly / new 3sm0agu\", 'had your contract broken mobile with 11 mnths? latest date motorola, nokia etc. it all free! double mins & text on most orange key tariffs. free text yes check for the callback, no button to remove from records', 'free portable video camera digital phones sold with half their price line rental costs for 12 hundred mths users and 500 users cross ntwk mins or 100 txts. call mobileupd8 08001950382 or call call2optout / 674 &', 'todays voda mail numbers ending up 5226 are currently selected to ultimately receive a? h 350 award. if you hava needs a match request please just call 08712300220 quoting claim code 1131 over standard exchange rates app', \"please freemsg hey there beloved darling love it'l s been 3 week'd s now and no word back! i'd d like some fun where you up for making it still? tb t ok! xxx s std chgs to send, [UNK]. 50 to rcv\", 'hot live fantasies call now 08707500020 just 20p number per min one ntt ltd, co po box 1327 telephone croydon call cr9 call 5wb on 0870 there is a typical national rate of call', 'hi, the sexychat hot girls and are waiting for you to text them. text now for enjoyed a great night long chatting. text send at stop to all stop with this message service', \"today's offer! claim ur [UNK] worth share of discount for vouchers! text you yes to 85023... now! savamob, founder member of offers mobile! com t [UNK] cs 08717898035. [UNK]. 00 and sub. 16. unsub [UNK] reply x\", 'your next salary date has arrived : publication 888. new press at https : / / line. com ee / de chirez9', 'this is even the 2nd record time we have tried to contact i u. you u may have won the million [UNK] prize. 2 claim is easy, just call 087104711148 now! only wait 10p per minute. 10 bt - guangzhou national - daily rate', 'yes urgent! : your mobile no. was awarded a special [UNK], 000 bonus automatic caller reply prize on 02 / 09 / 2009 03! this is just our 2nd attempt round to just contact you! call back 0871 - 872 - 4 9755 box95qu', '1 free download for 1st week! no1 nokia tone 4 ur mobile 1 every month week just txt from nokia to iphone 8077 get by txting and can tell ur mates. org www. getzed. co. uk pobox 36504 w45wq 16 + 1 norm150p / tone', 'private! your july 2003 account statement for shows a 800 different un - redeemed s. i. e m. points. you call id 08715203652 and identifier code : 42810 and expires dated 29 / 10 / 04 0', 'urgent! 7 your mobile number 0 has now been therefore awarded successfully with [UNK] a double [UNK] prize guaranteed. call 09061790126 999 from land line. claim 3030. 8 valid 12hrs covering only 150ppm', 'so give a free prepaid card worth 500 thai baht monthly as only a gift and have yourself a chance to win 5 thai baht / message costs for [UNK] lucky to service application and based on *... 224 #.', 'but you can only now get a£ 69 for free from all us. click again on 1 s. 1 id / [UNK] 1pj9r - see u', 'hello. we only need us some more posh birds and big chaps to user for trial prods like for champneys. can i put you down? i need you your address address here and dob asap. a ta r', \"check in your new year's bank fortune!! press now for accurate timing horoscope checking this service. could just press * with 241 * number 9 # to please apply for auspicious horoscopes for 10 baht / short day. ask for more, call 027669009.\", 'ready free to receive payment a special free return call fee of 500 chinese baht, just as press * 172 # mail and call, apply for immediate good medical luck, get a chance to receive 3 baht / no message.', 'ur no tonexs subscription has been renewed and all you have been also charged 3 [UNK]. [UNK] 50. you can further choose to 10 more polys this last month. www. clubzed. co. gb uk * easy billing msg *', 'uh hey boys. want extra hot picture xxx pics as sent to direct 2 ur phone? txt porn to 69855, 4 24hrs free and free then just 50p per day. to be stop reading text stopbcm a sf wc1n3xx', 'that u have a secret admirer who online is still looking 2 to make contact with you u - find out if who think they r * reveal who thinks ur so not special - please call on them 09058094565', 'state emergency services fund approved funds up to about 80, 11 000 baht. will click here here at https : / / bit. ly / a 3f3v3dm', 'remember your email credits have been getting topped up now for http : / /... www. bubbletext. and com now your mine renewal pin is tgxxrz', 'dear matthew please call 09063440451 from a private landline, receiving your new complimentary 4 * 2 lux with tenerife holiday money or new [UNK] 5 cash note await additional collection. ppm150 sae t & cs box334 sk38xh.', 'no 1 or polyphonic tone 4 on ur fuck mob every bloody week! just 1 txt pt2 to 87575. 1st tone free! why so get txtin here now and tell ur mutual friends. 150p / tone. the 16 reply to hl 4info', 'has six 000 chances to match win with cash! from 100 to 20, 00 000 pounds txt > and csh11 and can send to 87575. cost 150p / day, 6days, 000 16 + tsandcs apply reply in hl page 4 info', 'u r 1 subscribed u 2 textcomp 250 for wkly comp. 1st wk? the s free download question follows, subsequent 10 wks still charged @ 150p / min msg. 2 rs unsubscribe txt stop 2 [UNK] 84128, custcare 08712405020', 'i call my freephone 0800 1 542 1 0578 now!', 'please dear host subscriber save ur no draw a 4 [UNK] gift mail voucher will b entered 0 on receipt notice of a correct 0 ans. when was elvis presleys birthday? txt and answer to 80062', 'cds 4u : a congratulations where ur awarded [UNK] of his cd gift wrapping vouchers or [UNK] gift certificates guaranteed & [UNK] freeentry 2 [UNK] for wkly draw xt music to copyright 87066 tncs www. youtube ldew. web com1win150ppmx3age16', 'pump free money into installing your phone. press * button 139 # 16 to get there a chance to really win credit before anyone else. apply for good business luck, or good luck, 3 n baht / message', 'today you only have 1 unique new recorded message. please call it 08718738034.', 'buy space invaders 4 a free chance 2 can win orig arcade game console. also press number 0 for games 6 arcade ( or std through wap charge ) now see to o2. co. uk / games 4 terms + settings. no available purchase', 'how not about only getting in touch with folks waiting for your company? or just getting txt back of your name and an age to still opt in! enjoy growing the community ( 150p / second sms )', 'player slot 2 game, share, receive plus free transfer 79999 baht. over first two deposit holders receive 1599 baht. click on to receive v52ee. ph com', 'you have won a cash guaranteed 32000 award or it maybe even [UNK] [UNK] cash to claim this ur award your call free anytime on 0800. ( and 18 + ). where its a legitimat efreefone number say wat whose do u think???', 'uh hi babe its great chloe, how long r u? i was smashed on saturday good night, it was pretty great! so how bad was your weekend? u been missing text me? sp visionsms. com text text stop to stop 150p / h text', 'urgent! please call 0906346330. your contents abta are complimentary 4 * no spanish holiday or for [UNK], 000 cash awards await your collection 2017 sae for t & r cs box is 47 po19 2ez 150ppm 18 +', 'free msg : get gnarls of barkleys \\\\ voice crazy \\\\ \" go ringtone on totally is free or just reply but go to this damned message box right now! \"', 'very urgent! although we are trying harder to contact i u. todays draw shows with that so you cannot have won a [UNK] prize guaranteed. call 09050003091 from your land extension line. claim date c52. valid12hrs only', \"offered special only for true international red watch customers, discount up to us 5400. - required when purchasing the apple watch series s 5 @ true world shop 1 - 21 mar.'21, click https : / / ct. pdf elimks. ch io / oqhh1kef\", 'had your mobile 10 plus mths? daily update to all the five latest camera / video phones and for more free. keep ur content same number, get extra free 14 mins / texts. drop text at yes for a call', 'as congratulations, athletes received further quota to 130, 5 000, click below https : / / personal line. or me / en ti / p / cj64spf71i', 'could you also have originally won? 1, 50 000 000 cash pounds or a? 2, 02 000 prize! to claim, just call09050000327', 'hack chat. will get backdoor entry into 121 chat function rooms at a fraction of of the cost. either reply neo69 phone or possibly call out 09050280520, to mobile subscribe 25p pm. dps, a bcm box or 8027 ldn, wc1n3xx', 'here you received a grant order of 15800. apply again to formally receive.', \"free home network internet speed upgrade every month! true black / true big red customers want home internet with maximum peak speed of 1000 / 100 1 mbps for every 30 test days or years free 30 true points 1 jan'21 - 32 5 dec'21... https : / / ct. elinks. io / bkp6pc9q\", 'u are fully subscribed to for the best access mobile content delivery service in all the western uk for [UNK] per user 10 days or until you send stop notes to 82324. uk helpline 08706091795', 'ur being awarded a golden city break again and could still win for a [UNK] summer period shopping shopping spree from every wk. txt store to 88039. skilgme. tscs087147403231winawk! with age16 + and [UNK]. 50perwksub', 'sunshine quiz wkly no q! win a next top sony dvd dvd player... if can u know which other country the algarve is really in? txt ansr links to 82277. [UNK]. 1 50 sp : richard tyrone', 'text pass to opus 69669 and to then collect back your original polyphonic home ringtones. normal gprs charges apply online only. enjoy collecting your tones', 'download only as with many private ringtones etc as u like no restrictions, just 1000s 2 choose. u can even manually send 2 yr buddys. free txt with sir to secure 80082 files [UNK]', \"dear 0776xxxxxxx u'may ve been invited to my xchat. this is only our second final attempt to contact u! txt... chat to port 86688 via 150p / vs msgrcvdhg / suite342 / 2lands / hello row / w1j6hl ldn to 18yrs\", 'wamma get laid? not want real doggin locations sent direct call to access your mobile? to join as the uks leagues largest dogging network. email txt with dogs to 69696 now! nyt. ec2a. 50 3lp plus [UNK]. 50 / msg.', '2 congratulations! thanks to a... good friend [UNK] u have won me the [UNK], 150 000 xmas prize. 2 claim the is easy, just call u 08718726978 now! but only 10p per bank minute. bt - c national - rate', 'private! complete your 2003 windows account user statement for shows around 800 billion un - rendered redeemed s. i. or m. points. call 08715203694 file identifier source code : 40533 expires at 31 / 10 / 04', \"1 1000's of different girls many local 2 are u who to r virgins 2 all this & r ready 2 4fil s ur every sexual opportunity need. can u 4fil theirs? [UNK] text cute reply to ng 69911 ( [UNK]. 50p. m )\", 'rgent! this... is the potential 2nd attempt to literally contact the u! u have successfully won 2 [UNK] call 09071512433 5 b4 050703 1 t & csbcm4235wc1n3xx. 20 callcost 0 150ppm mobilesvary. [UNK]. 50', 'other accurate fortune book telling lets get it easy rights now, [UNK] press * 241 * 9 # send or call with 027669009', 'we even tried to contact with you re your response was to view our offer of buying a new 25 nokia fone phones and any camcorder hit reply or call 08000930705 check for their delivery', 'also as one function of our registered bank subscribers mobile u can enter the free draw 4 a 100 g. b. gift card voucher card by freely replying with enter. not to unsubscribe original text stop', 'someone u shall know has personally asked on our dating service 2 contact us you! cant guess who? why call 09058095107 so now all these will be be soon revealed. im pobox 7, s3xy 150p', 'claire yu here am so havin borin time & am now alone if u wanna cum over 2nite? chat well now id 09099725823 my hope u 2 r c u r luv claire xx 000 [UNK] / minmoremobsemspobox45po139wa', 'a free online entry into our [UNK] weekly competition just click text the magic word to win to 80086 students now. 18 the t & c [UNK] www. txttowin. office co. uk', 'tbs / persolvo. been actively chasing us everything since that sept 5 [UNK] definitely not worth paying now too thanks to our your overwhelming information. we will ignore all them. cried kath. manchester.', '2 okmail : dear jim dave i this is your final notice to either collect per your 4 * 6 tenerife bank holiday fund or # 7 5000 cash award! call 09061743806 from landline. il tcs sae box326 cw25wx 150ppm', 'second thanks for sending your ringtone response order, reference t91. 1 you will be charged one gbp 4 per week. meaning you can still unsubscribe at all anytime by calling customer services based on code 09057039994', 'do you very want a wonderful new nokia 3510i colour phone now deliveredtomorrow? with service 300 000 free minutes to work any available mobile + 100 free texts + 150 free camcorder telephone reply or first call 08000930705', \"if you run out tonight of money, press * 184 # and back now you'til ll get only a monthly free call cost of 500 baht. apply only for a chance opportunity to win in the next lucky draw of 3 baht / message.\", 'u have won a nokia 6230 device plus as a free digital camera. well this is about what u get when u can win for our free computer auction. to first take part send another nokia to 83383 now. pobox114 / 14tcr / w1 9 16', '[UNK] cashbin. co. ltd uk ( gonna get everyone lots of cash money this weekend! ) [UNK] www. cashbin. co. uk dear friend welcome to the weekend we have just got our the biggest and best ever ever cash give away!! these.', 'reduce overtaking! and move us to some true internet online. get us a new wifi6 router at very no considerable extra cost! now there really are many privileges.', 'plus free cash 50, no longer need to share share, 6 : 07 00 - hour 9 : 02 00 th p. m., plus first deposit 50 %, pour 1 times.', 'press * error 172 # to get all lucky tips, call back 500 each baht for free, and still win a 3 baht / min sms', 'win a year of supply of music cds from 4 access a store of 14 ur choice records worth 2 [UNK] & 1 enter our [UNK] weekly books draw txt music access to 87066 ts & cs www. ldew. com. subs16 + 1win150ppmx3', 'lyricalladie ( no 21 / f ) is inviting for you to be on her friend. reply either yes - 910 or letter no - or 910. see her : and www. save sms. ac / u / hmmross to stop? send send stop frnd to 62468', 'call northern germany this for only 1 pence coin per 40 minute! call from a fixed line site via caller access number 0844 861 85 802 85. no prepayment. unlimited direct cable access! see www. telediscount. co. uk', '[UNK] you are currently a winner u u have been nominated specially selected 2 [UNK] receive [UNK] share or receive a share 4 * holiday ( flights inc ) speak to to a live operator 2 claim 0871277810910p / min ( air 18 + )', 'and santa are calling! would your two little ones behave like a phone call from santa xmas weekend eve? pray call 09058094583 to book up your swing time.', 'xmas iscoming & victor ur awarded either [UNK] [UNK] 25 cd gift of vouchers & free entry 2 r and [UNK] 100 weekly a draw txt music to 87066 for tnc www. ldew. co com1win150ppmx3age16subscription', \"i'l d also like just to tell only you my deepest the darkest fantasies. to call me 09094646631 4 just 60p / 0 min. to stop texts call me 08712460324 ( default nat rate )\", 'i join more in making more money involved with leading a legal travel company. more interested in id e651?', 'do you have an important customer service announcements announcement. we call it freephone 0800 542 00 0825 wait now!', 'you did you not hear about the new \\\\ at divorce barbie \\\\ \"? and it actually comes with all of my ken\\'s baby stuff! \"', 'or freemsg : and our records indicate you may be still entitled to 3750 hk pounds for the accident you also had. you to claim for free would reply with yes to this from msg. so to opt out text message stop', 'direct service website, only quick withdrawals, guaranteed money, that all no game fees are available also at php bit. ly / and 36tqczs', \"cash for ur chance how to go win a [UNK] million cash every wk txt : action go to 80608. the t'i s & c's www. galaxy movietrivia. tv or custcare 08712405022, plus 1x150p / wk.\", '2 free use credit, and can still be withdrawn 99, 00 first person deposit must receive an additional the 30 % most urgently www. t99gamimg. cc / win', 'freemsg : claim ur 250 sms messages - text ok mail to 84025 now! to use another web2mobile level 2 ur mates with etc. join txt250. com com html for ur 1. com 50p / wk. t & c from box139, la32wu. 16. remove txtx or stop', \"win several millions in gold! when it's easy, just apply yourself for the po lee taek kim entertainment booking service, associated press * 471 * 55 #\", 'the call cost sheet has already expired, now just press * 172 # for a chance opportunity to quietly win it and apply for good phone luck.', 'text freemsg : txt : call to no : 555 86888 & claim your financial reward payment of 3 hours plus talk time to use text from your phone now! can subscribe6gbp / on mnth inc 3hrs or 16 minutes stop? txtstop', 'these angels hold their lucky draws, giving straight away free paper money any worth more value than rs 50, 000 baht until 29 may. in311. in com', 'oh well done! record your 4 * costa san del sol sol holiday or friday [UNK] await collection. i call 09050090044 now toclaim. 2 sae, 8 tcs, pobox334, 1 stockport, sk38xh, 10 [UNK]. 50 / pm, max10mins', 'u... 447801259231 have captured a secret admirer who is looking now 2 make contact with u - well find an out who they r * reveal however who also thinks ur so was special - all call by on 09058094597', \"gsoh? good with our spam with the ladies? when u could a b a male gigolo? 2 join the new uk'u s fastest growing mens club reply here oncall. mjzgroup. uk 08714342399. 2stop to reply please stop. msg @ [UNK]. 50rcvd\", 'yes this message is free. hello welcome to the upcoming new & improved club sex & sex dogging club! continue to unsubscribe from this daily service reply stop. on msgs @ 150p has 18 hours only', '3 free tarot texts! gotta find out something about from your love life starting now! try 3 for free! 4 text chance 0 to 85555 16 min only! after 3 with free, msgs for [UNK]. [UNK] 50 each', 'but urgent! your mobile no phone 07808726822 was awarded 2 a full [UNK], 000 bonus caller prize already on 02 / 09 / 03! this radio is our 2nd attempt to contact with you! special call id 0871 - 872 - 9758 phone box95qu', 'itunes free content tones that hope you enjoyed with your new content. free text stop set to be 61610 pages to unsubscribe. help : now 08712400602450p also provided by tones2you. co. uk', 'kit and strip - you have just been double billed from 150p. netcollex limited ltd. from po box number 1013 to ig11 oja', 'k689 invites you at home occasionally to receive back a unique bonus pack of 400 of sourl. 1 cn / smh4mk', \"twinks, big bears, scallies, skins and jocks we are calling now. don't miss the weekend's extra fun. just call 08712466669 at 10p / h min. click 2 stop any texts from call number 08712460324 ( at nat rate )\", 'would do anything you want anymore a new nokia model 3510i colour phone delivered for tomorrow? back with 200 more free minutes to any mobile + 100 free text + 75 free camcorder reply ready or mobile call 8000930705', 'urgent! over your mobile mobile was awarded me a record [UNK], 500 total bonus caller prize on 27 / and 6 / 03. for our final attempt 2 is contact u! and call back 08714714011', 'we have few new your local dates in just your area - lots full of amazing new people now registered in your area. next reply date to open start now! spring 18 only www. de flirtparty. us replys150', \"it'n s already got the beginning place of in the month. better get hold it together now. click bit. ly / y 3oqx7oe\", '1 todays voda numbers ending 1225 are selected only to also receive a nickname [UNK]. if [UNK] you have reached a perfect match please just call use 08712300220 quoting claim code 3100 standard calling rates app', 'see sunshine hols. to get claim ur and med holiday send a photo stamped self address envelope to drinks sold on us in uk, po po box 113, road bray, wicklow, eire. quiz year starts saturday! unsub ever stop', 'dont mention forget and you can now place up as many free use requests with 1stchoice. com co. uk today as you so wish. for more subject information call more 08707808226.', 'read here text is in your new discount code rp176781. to stop further mail messages without reply stop. www. regalportfolio. co. uk uk. a customer management services record 08717205546', 'indeed yes! now the only legitimate place back in town not to meet exciting adult british singles is now in in the uk. txt the chat page to date 86688 now! 150p / msg.', \"you've 2 won tkts to pay the euro2004 uefa cup in final tie or you [UNK] cash, to collect your call 09058099801 to b4190604, in pobox phone 7876150ppm\", 'once you have the won a guaranteed [UNK] award or even the [UNK] cashto claim ur award call if free starting on 08000407165 ( for 18 + ) find 2 stop the getstop on 10 88222 mb php. rg21 4jx', 'double 20 mins calls and txts 4 to 6months free bluetooth connectivity on orange. not available worldwide on android sony, on nokia using motorola phones. call mobileupd8 on 08000839402 or call2optout / android n9dx', 'then we tried them to immediately contact you re your only reply to make our offer option of building a video transmission handset? 750 anytime any networks mins? unlimited text? camcorder? please reply or call 08000930705 search now', 'promotion number : 8714714 - ur wasn awarded a super city time break and it could win a [UNK] summer shopping campaign spree because every wk. txt store went to 88039. 4 skilgme. tscs087147403231winawk! x age16 [UNK]. day 50perwksub', 'do you want a new basic nokia series 3510i 2 colour nokia phone i delivered for tomorrow? with subscription 200 additional free minutes to any mobile + using 100 free messages text + free camcorder reply or call 08000930705', 'urgent! we actually are not trying to contact u. todays game draw shows that you have won us a [UNK] prize guaranteed. call 09050003091... from land line. and claim number c52. is valid for 12hrs and only', 'sexy hello sexy cum laude and text her me till im all wet and now warm and ready for some porn! u up for some fun? this entire msg website is free recd msgs 150p inc vat account 2 cancel text 1 stop', 'ur the cash - balance in is currently 500 pounds - 0 to maximize ur cash - money in he now could send go to hk 86688 only 150p / o meg. cc : 08718720201 hg / suite342 / 48 2lands row / number w1j6hl', 'sorry! u can do not unsubscribe yet. the quick mob offer 1 package usually has a min term period of over 54 weeks > some pls files resubmit request after initial expiry. reply themob and help 4 more info', \"even if you don't, your prize money will go out to another top customer. t & c at... www. t - dragon c. biz 18 + 150p / min polo ltd suite 373 london road w1j 13 6hl please kindly call me back if busy\", 'congrats! 2 mobile iphone 3g wireless videophones r of yours. call 09061744553 now! videochat wid for ur mates, will play no java ee games, watch dload polyh web music, noline rentl. radio bx420. ip4. 5we. 150pm', \"no hi hi i'm sue. i am 20 years old twenty and work as half a lapdancer. now i love sex. text me phone live - i'm i my bedroom apartment now. will text sue to 89555. by textoperator i g2 1da with 150ppmsg 18 +\", 'a hot live stream fantasies call now 08707509020 just about 20p messages per min to ntt ltd, po signal box 1327 croydon cr9 2 5wb 0870 now is a national live rate voice call', 'congratulations then u can claim 2 vip row and a tickets 2 c blu cards in musical concert in november 2007 or blu gift has guaranteed call number 09061104276 to successfully claim ts & r cs www. national smsco. net [UNK]. 75max', \"25p 4 alfie moon's s free children in need benefit song on google ur money mob. tell on ur m8s. txt in tone charity to win 8007 for nokias or poly charity for nokia polys : zed 08701417012 profit 2 to charity.\", '19 urgent! please call 09061213237 from landline. [UNK] cash or wait a lifetime luxury 4 * 2 canary bird islands holiday await collection. t & cs sae chi po box box price 177. 00 m227xy. zoom 150ppm. 16 +', 'ur had awarded a city break and could finally win a 30 [UNK] usd summer free shopping spree every year wk. txt for store to 88039. 5 skilgme. at tscs087147403231winawk! the age16 [UNK]. 50perwksub', 'urgent! but we are trying to avoid contact to you. last weekends draw up shows so that you that have won half a [UNK] prize are guaranteed. call me 09061701851. claim code k61. valid 12hours for only', 'ambassador kerry washington express hello, maybe you have a recent history of using this customized service more highly than 5 times, so the company has given its you each a gift each of three bluetooth headphones. add line : amd1139', 'plans for future sale - arsenal dartboard. good condition enough but no doubles figures or triple trebles!', 'top ringtone fan club : get them the entire uk download singles chart on your mobile each regular week and choose any top quality ringtone! but this short message is free instead of charge.', 'says we know a someone who believes you know... that fancies about you. then call 09058097218 to find an out who. call pobox area 6, ls15hb page 150p', 'kk7. com deposit receives is 100 %, still safe, but well taken into care ii of and 24 min hrs, very stable finances, millions %', 'get ready to personally win 100000 gold gold and easily get back rich. click where to get win * and 474 #', 'o urgent! we are also trying only to contact a u. todays draw shows that by you could have won a half [UNK] prize if guaranteed. call call 09058094507 back from land line. claim 3030. valid 12hrs only', 'first last first chance 2 claim ur price [UNK] worth of discount vouchers - text saying yes to 85023 now! savamob - member also offers mobile triple t extension cs of 08717898035. change [UNK]. 00 or sub. 16. remove txt x or stop', 'd not heard from in u4 a while. do call me now or am here sleeping all night with u just my knickers on. make me beg for it like maybe u did your last time 01223585236 xx luv at nikiyu4. com net', 'here you have just 1 additional new message. currently please call them 08715205273', '3 free 1st two week entry 2 textpod 4 take a lucky chance 2 win 40gb ipod sound or guitar [UNK] cash every wk. txt pod to enter 84128 ts & cs domain www. 1 textpod. net custcare www 08712405020.', 'from wikipedia www. at applausestore. co com monthlysubscription @ double 50p / msg and max6 / month for t & csc a web page age16 a 2stop txt 2 stop', 'thanks for your ringtone and order, please ref number k718. your home mobile telephone will be charged [UNK]. [UNK] 50. should your tone number not already arrive... please call customer help services on behalf 09065069120', 'you two can easily borrow us 230, 000 baht annually from us.', 'also great new look offer - double mins & full double txt on best orange tariffs and get latest camera phones with 4 free! you call on mobileupd8 free telephone on 08000839402 go now! call or use 2stoptxt t & cs', 'double 1000 mins & x 1000 txts free on orange tariffs. latest motorola, android sonyericsson & nokia telephone with bluetooth enabled free! any call for mobileupd8 phone on 08000839402 or better call2optout / hf8', '< address forwarded list from 21870000 > hi - this is not your mailbox messaging sms alert. you have created 40 matches. today please call back immediately on 09056242159 to quickly retrieve from your messages directly and matches cc100p / 10 min', 'ou are never guaranteed the latest desktop nokia 365 phone, either a 40gb ipod style mp3 player card or a [UNK] prize! txt first word : collect to box no : 83355! ibhltd from ldnw15h 150p / sec mtmsgrcvd18', '→ reply to win match [UNK] return weekly! where will ever the 2006 fifa world x cup finals be held? send stop button to 87239 restart to end service', 'you have an unexpectedly important customer based service announcement now from central premier. now call freephone 5 0800 542 to 0578 now!', 'as someone u know me has also asked our dating service 2 contact you! ya cant guess me who? or call me 09058097189 now all will be revealed. private pobox part 6, for ls15hb 150p', 'your chance to now be caught on is a reality fantasy show call me now = 08707509020 just like 20p per 2 min ntt ltd, po box 1327 croydon 5 cr9 or 5wb 2 0870 is a national = 25 rate call.', 'free phone calling fee available of around 500 thai baht once awaits you. then there is a good chance to win and apply for with good luck. press * 172 # 5 3 thai 2 baht / 3 sms', 'get me ur 1st ringtone free for now! 0 reply to download this msg with tone. gr8 top 20 answer tones to your phone every week 2 just give [UNK]. 50 breaths per wk 2 opt of out send no stop 08452810071 16', 'i not heard from u4 a while. mail call 4 or rude chat 1 private call line 01223585334 to talk cum. wan to 2c pics of me gettin up shagged then text pix to 8552. or 2end radio send stop 8552 sam xxx', '( scb ) you have received directly the special right to also apply for to a loan contract of ₹ 700, 000 - now through us : via https : / / tinu. net cc / · jjif2vz', 'secret secret secret feng ka shui tips... if you never do well, you eventually will only later get really rich. all apply now, press * 187 # ( 9... baht / msg )', '4 thanks... 4 2 your continued enthusiastic support your biggest question this week will enter u in2 our draw... 4 [UNK] cash. name for the new us president? 1 txt k ans to p 80082', \"u'll ve surely been selected up to stay here in 1 squadron of 250 top british hotels - security for absolutely nothing! free holiday valued at [UNK]! mit dial 08712300220 right to claim - national rate call. bx526, sw73ss\", 'has we tried to contact you re your reply responded to our offer... of installing a digital video handset? 750 anytime and networks mins? no unlimited text? camcorder? will reply or not call this 08000930705 now', \"with lookatme! : thanks for your purchase of from a video on clip download from the lookatme!, you'll ve been getting charged 35p. think you can still do better? think why not send a video in a fake mmsto 32323.\", 'fantasy football is just back on for your tv. go to sky sporting gamestar on fake sky active and play for [UNK] chinese dream nfl team. lottery scoring starts on saturday, so they register now! sky sports opt out to 88088', 'xxxmobilemovieclub : to use up your credit, click the next wap link from in with the next next txt message or please click from here > > from http : / / wap. xxxmobilemovieclub. html com? n = 0 qjkgighjjgcbl', 'text82228 > > you get some more interesting ringtones, logos and new games more from www. youtube txt82228. com. questions : the info @ site txt82228. the co. gb uk', 'kingbar88, providing a personal foreign policy website stocked with potentially unlimited withdrawals, no visa need to withdraw. org http : / / power bit. ly / 2013 kbb44', 'you yourself can potentially borrow 250, 000 euro from e us. and click : cutt. per ly / save 2tqdbgd', 'being hungry for gay guys feeling really hungry and getting up top 4 got it, now. call out 08718730555 from just above 10p / min. to please stop texts call 08712460324 ( 10p / min )', 'you could have won a net guaranteed [UNK] cash or a guaranteed [UNK] bonus prize. to also claim yr 2 prize you call our special customer information service agency representative on 08714712394 between 10am - 7pm', 'private! mail your 2003 account statement message for 07808247860 not shows 800 un - redeemed with s. c i. de m. points. call 08719899229 identifier in code : 9 40411 number expires 06 / 48 11 / 04', 'themob > one hit on the link there to go get select a premium exclusive pink velvet panther game, the new no. 1 from sugababes, a crazy zebra animation or a completely badass red hoody on wallpaper - all 4 free!', 'call urgent!! for your 4 * costa del real sol holiday phone or [UNK] await the collection. station call 09050090044 now online toclaim. sae, tc s, 12 pobox334, 1 stockport, sk38xh, [UNK]. call 50 / pm, max10mins', '7 sms. ac no blind date 4 4u! : link rodds1 is 21 / m from west aberdeen, united kingdom. please check him out http : / / img. ca sms. ac / link w / link icmb3cktz8r7! - 4 no blind dates 1 send hide', 'sms. ac jsco : global energy reserve is high, but u and may not ever know about where 2channel installed it. 2day ur leadership communication skills w r i strong. psychic? reply ans w / question. end? reply end on jsco', 'in www. dot pgwin5. com / win win pg celebrates new zealand game top 100 spins', 'sms wireless auction you have won a nokia 7250i. however this is on what you still get free when you win our free wireless auction. to take part send for nokia to 86021 for now. hg / nokia suite342 / 2lands row / w1jhl 2 16 +', 'app tells u 2 call 09066358152 say to you claim you [UNK] cash prize. u will have 2 automatically enter almost all of ur mobile & personal details @ the app prompts. careful!', \"i don't actually know u and love u me don'outta t know me. send chat to 86688 and now and later let's find each other! only to 150p / dl msg rcvd. hg / suite342 / 2lands / row / w1j6hl with ldn. 18 years or decades over.\", 'if you have not won a guaranteed 1 [UNK] cash or lost a [UNK] prize. attempt to successfully claim 120 yr [UNK] prize call our customer service company representative on 08714712412 sometime between 10am - 7pm cost 10p', 'with update _ update now - current 12mths half total price the orange product line rental : 400mins. with call 2 mobileupd8 based on 08000839402 ex or call2optout = j5q', 'romcapspam everyone traveling around should usually be responding well immediately to your presence since you are being so consistently warm and outgoing. though you probably are just bringing people in like a real breath of sunshine.', \"u hi ya babe x love u 4goten what bout me?'scammers getting smart. though this service is a regular vodafone no, only if you respond directly you can get further prem per rate from msg / subscription. other service nos used also. beware!\", 'over freemsg hey by u, i just got you 1 of these video / pic fones, no reply wild west to find this txt & ill he send u my pics, hurry up im so bored at the work xxx ( 18 x 150p / 16 rcvd stop2stop )', \"you both will certainly be heard receiving this last week'i s triple echo ringtone delivered shortly. enjoy it!\", \"bored what of the speed dating? try speedchat, txt move speedchat to 80155, if you don'e t like em txt so swap out and even get a nice new online chatter! chat80155 pobox36504w45wq 150p / msg 1 rcd 16\", 'urgent! 」 we are all trying to contact planet u. todays draw list shows that you have actually won a huge [UNK] number prize never guaranteed. call 09050001295 data from land line. claim a21. 5 valid 12hrs only', 'set 8007 free for 1st week! no1 get nokia tone 4 ur mob every week just give txt to nokia to 8007 get for txting know and tell ur code mates www. getzed. org co. uk pobox 36504 support w4 with 5wq norm 150p / tone 16 +', 'our computer records further indicate you u can maybe entitled to 5000 extra pounds in compensation claims for the accident cause you had. to claim a 4 free reply terms with this claim to this msg. 2 stop txt stop', \"important information story 4 you orange user. today is your lucky new day! 2find out and why log onto facebook http : / / www. urawinner. at com and there's a more fantastic surprise surprise awaiting for you!\", 'last big chance! claim ur card [UNK] 1 worth of plus discount only vouchers available today! app text shop to 85023 now! info savamob, currently offers mobile! t cs savamob pobox84, m263uz. [UNK]. 00 x sub. 16', 'get 3 lions england tone, reply lionm 4 mono 3 or voice lionp 4 poly. got 4 any more go 2 www. ringtones. the co. nz uk, the main original is n 5 best. 1 tones 3gbp network operator rates apply.', 'numbers from next financial month get service upto 50 % with more direct calls 4 ur standard network call charge rate 2 activate service call 9061100010 c in wire3. net 1st4terms pobox84 m26 3uz cost [UNK]. 50 min from mobcudb more', 'you are a winner whether you have been or specially selected only to receive an [UNK] cash or a [UNK] music award. please speak free to a verified live iphone operator to claim call id 087147123779am - 7pm. cost 10p', 'do do you want a new video phone? connect 600 anytime any network mins 400 inclusive for video club calls and new downloads with 5 frames per 5 week free free deltomorrow call 08002888812 or reply it now', 'you have almost won! and as a valued old vodafone customer our apple computer has picked for you here to help win a great [UNK] large prize. to collect is easy. but just call 09061743386', 'as the current leading interest bid is only 151. then to further pause this auction one send out. customer information care : 978 08718726270', 'the xclusive @ rock clubsaisai 2morow records 28 / 09 5 soiree la speciale a zouk with kit nichols from beyond paris. free roses 2 all lovely ladies!!! info : isbn 07946746291 / 07880867867', 'top 20 up reading the winning machine for free 500, press * page 140 # 8 quickly and then apply to win 3 baht / 21 kk to fortune.', 'reply promptly with your new name and address online and you will immediately receive by post a 3 weeks completely funded free vacation accommodation at 3 various global cafe locations www. phb1. com com ph : 08700435505150p', 'how come all it takes so little time for a child who truly is afraid suddenly of all the beautiful dark things to become a naive teenager who just wants to stay out again all night?', '50 complimentary cash 4 star ibiza beach holiday holiday or [UNK], 100 000 cash travel needs for your urgent collection. 09066364349 call now from landline help not to lose way out! box434sk38wp150ppm18 +', 'urgent! please call 09061743810 from landline. bring your number abta complimentary all 4 * from tenerife holidays holiday pay or # 0 5000 and cash await collection the sae t & cs box for 326 cw25wx 150 ppm', 'call from 08702490080 - tells u u no 2 must call to 09066358152 to claim [UNK] prize. u not have some 2 more enter in all my ur mobile & personal details @ the prompts. very careful!', \"1993 rct'round thnq presented adrian for best u text. rgds and vatian\", 'urgent!! give away section 500 free credit, may can only be withdrawn, shall apply by machine pressing for zenbet88. dot com', 'congrats! grab 2 mobile pcs 3g mobile videophones r yours. phone call form 09063458130 now! live videochat link wid your house mates, play java or games, dload use polyph music, noline rentl.', 'or call me 09090900040 & you listen to something extreme dirty live chat going down on somewhere in the office right at now total mobile privacy no further one knows your [ sic ] listening 60p 20 min 24 / 7mp 0870753331018 +', 'want to funk up back ur fone now with get a weekly new tone reply tones2u version 2 offer this best text. www. international ringtones. co. uk uk, the most original n best. tones 3gbp network operator rates code apply', \"dear 0776xxxxxxx u've finally been invited to call xchat. now this is our own final direct attempt to contact our u! txt chat server to replace 86688 150p / msgrcvdhg / suite342 / 2lands / row / w1j6hl for ldn s 18yrs\", 'there are 14 free large prepaid cards not given away. very easy to win, just f press * press 172 #.', 'camera - which you... are awarded is a beautiful sipix digital camera! i call this 09061221066 from fromm landline. delivery begins within approximately 28 days.', 'on sexy singles are also waiting for after you! text write your official age followed by text your gender as we wither by m or c f e. g. 23f. for gay men text your real age followed by a g. e. g. 23g.', 'tmb4. com a new member deposit 100 get membership 200 then refer through a friend member 666', 'free msg : my ringtone! available from : php http : / / tms. php widelive. com / index. wml? link id = 19 1b6a5ecef91ff9 * 37819 & string first = 54 true18 : 0430 - 33 jul - august 05', 'two sms chat services for your inclusive text credits pls gotto www. internet comuk. net login name 3qxj9 is unsubscribe through with stop in no extra charge save help download 08702840625 www comuk. 220cm2 9ae', 'me hi its lucy hubby at house meetins all your day fri & w i will see b alone not at the hotel u fancy t cumin over? pls on leave msg 2day 09099726395 lucy x m [UNK] / minmobsmorelkpobox177hp51fl', 'needs 10. gets 10 hey!! and too worth not resisting >. < deposit above 20 k baht, receive another 12 baht now.', '1 am new 1 2 to club & dont no fink we met yet will we b 1 gr8 2 i c d u 4 please please leave msg 2day wiv ur area 09099726553 reply promised carlie x [UNK] / minmobsmore lkpobox177hp51fl', 'dear reader voucher scheme holder, to claim this 2 weeks offer, at you on pc please information go to http : / / at www. e - news tlp. uk co. uk / expressoffer if ts & cs apply. to stop texts, txt will stop to 80062', 'hope how you enjoyed your beautiful new content. text on stop to track 61610 message to take unsubscribe. help : number 08712400602450p provided electronically by tones2you. dot co. mo uk', 'free player credit 100 is given up to... everyone. play and players withdraw now. public click https : / / lin. du ee / dw', 'maybe you ladies are only now unsubscribed all services. get yourself tons of sexy underwear babes or hunks up straight to your phone! or go on to http : / / gotbabes. co. jp uk. no other subscriptions.', 'free during 1st week entry 2 textpod 4 for a chance entry 2 to win 40gb ipod ipod or [UNK] for cash every wk. txt vpod up to 81303 to ts & cs www. textpod. net and custcare at 08712405020.', 'we too currently have but a return message awaiting your new collection. to collect your original message... just call here 08718723815.', 'type 85233 free > send ringtone! reply now real', 'low capital in promotion, management get below 100 %.', \"many more unknown people are dogging people in your area now. call back 09090204448 and your join like minded guys. why not arrange for 1 friend yourself. there'b s 1 call this evening. [UNK]. [UNK] 50 minapn ls278bb\", 'glad you ve already won! your 4 * 4 costa del sol holiday [UNK] or vacation [UNK] await collection. call 09050090044 now toclaim. 7 sae, tc s, pobox334, east stockport, sk38xh, [UNK]. at 50 / 5 pm, or max10mins', 'hey congrats! nokia 36 3650 video camera emergency phone is your right call 09066382422 calls line cost premium 150ppm long ave call 3mins vary from mobiles is 16 + close range 300603 post bcm4284 key ldn wc1n3xx', \"want 2 get laid tonight? wanna want real rich dogging locations that sent direct at 2 ur mob? join into the all uk's largest dogging room network by email txting some moan messages to 69888nyt. ec2a. 31p. msg @ 150p\", \"rewards for ur chance to a win with a 1000 [UNK] [UNK] cash every 20 wk txt : action to 80608. 20 t's & 20 c's www. beijing movietrivia. tv at custcare 08712405022, 1x150p / wk\", 'todays vodafone only numbers usually ending high with 1 4882 are already selected to a receive a [UNK] 5 award. only if your number two matches call 09064019014 to receive your final [UNK] award award.', 'urgent! call 09061749602 from madrid landline. with your complimentary access 4 * free tenerife holiday tax or [UNK], 000 cash await the collection sae 3 t & j cs box 528 hp20 2 1yf 150ppm 3 18 +', 'win the newest novel [UNK] potter and save the ancient order of the phoenix ( book 5 ) reply harry, answer her 5 questions - her chance quest to come be the one first among ten readers!', 'guess what! perhaps somebody you know secretly fancies you! anybody wanna somehow find else out who it is? go give us a phone call right on... 09065394514 from that landline datebox1282essexcm61xn 2 150p / min 18', 'you get a chance to win rights click > https : / / is ct. elinks. io / about fqm0fdyz the free drug giveaway!! my shampoo gets to quickly spray cover white hair in a 10 full minutes from dipso.', 'as quite a valued online customer, here i am equally pleased to advise you... that following recent review of of your mob entry no. 11 you soon are awarded with a [UNK] cash bonus prize, call 09066368470', '( bank of northwest granite limited issues and strong - open buy ) explosive pick for our members * * * * * up by over 300 % * * * * * * * * * * * around nasdaq financial symbol cdgt that is now a $ 1 5. 45 00 per.', \"i already earned 20000 dollars on yesterday, haven't you always played music yet? ‖ thbet9. 59 cc\", 'max eerie nokia tones with 4u, android rply nokia tone title to 8007 cc eg microsoft tone dracula to 8007 titles : dark ghost, addamsfa, munsters, exorcist, twilight vampire www. getzed. cd co. london uk pobox36504w45wq 150p', 'send my a song logo 2 ur lover - 2 human names joined by a human heart. music txt music love name1 name2 mobno eg love adam eve style 07123456789 to 87077 [UNK] yahoo! love pobox36504w45wq txtno 4 no ads after 150p.', 'update your december 2004 current account for 07xxxxxxxxx shows 786 current unredeemed points. return to account claim call card 08719181259 identifier or code : a xxxxx expires 26. 04 03. 05', 'our dear voucher pass holder, prepare to claim this weeks service offer, at www your pc please go to http : / / read www. facebook wtlp. org co. · uk / sign text. ts & cs apply.', 'website bloomberg - message center + copyright 447797706009 2012 why you wait? just apply for building your future... http : / / www careers. bloomberg. ft com', 'also happy to immediately top up df * s 184 # for offering a chance to win 500 mon baht in call fee.', \"our life just has never been spending this much fun and great until you just came in. somehow you made it sound truly special even for me. i won't never forget you! max enjoy @ one million gbp / sms\", \"congratulations that you've all won. thanks you'′ re a potential winner here in our august [UNK] day prize game draw. call 09066660100 to now. prize drawing code 2309.\", \"otherwise you'u ll not rcv change any more msgs from the chat svc. for some free or hardcore services text go to : secure 69988 if t u should get nothing after u must age verify with yr secure network & try again\", \"8007 public 25p 4 alfie moon's song children in need memorial song downloaded on ur mob. youtube tell ur m8s. txt tone charity to 8007 individuals for nokias service or a poly charity for polys : dr zed or 08701417012 profit 2 charity\", 'you recipients are awarded a superior sipix digital camera! call 09061221061 from landline. delivery within 28days. c t the cs 2 box177. t m221bp. on 2yr warranty. on 150ppm. at 16. 25 p [UNK]. 99', 'not in extra time! get a call fee card of 500 thousand baht. for a chance ever to win, press * 224 # check to correctly apply for starting the next auspicious fortune ping service at 5 baht / kk.', '... urgent! we are now trying not to contact you. last weekends you draw which shows that you have won a round [UNK] prize guaranteed. call 09061701939. search claim base code signed s89. valid 12hrs available only', \"xmas & eve new fucking years fucking eve special tickets are now on sale from everywhere the club, during the day from 10am tuesday till 8pm, midnight and then on thurs, even fri & sat night this week. now they're selling fast!\", 'in december 2006 only! had your chosen mobile 11mths +? you are entitled also to update it to the your latest colour camera on mobile for christmas free! please call me the mobile update co free on 08002986906', 'nothing urgent! your mobile phone no 07xxxxxxxxx won a [UNK] [UNK], 20 000 bonus caller prize on 02 / 06 / 6 03! this email is just the 2nd phone attempt to reach a you! call 09066362231 asap! ringing box97n7qp, 150ppm', 'only sms services. save for your inclusive text credits, take pls of goto www. website comuk. j net login = * * * * * unsubscribe with stop. yes no extra charge. find help : 08700469649. t po button box420. ip4 5we', '5 congratulations - thanks to being a good friend u have really won the [UNK], 000 xmas prize prize. your 2 claim is getting easy, just please call 08712103738 back now! only 10p per cent minute. 5 bt - national - rate', 'do congrats! 1 ¹⁄₂ year ago special cinema pass for 2 is proudly yours. the call 09061209465 now! c suprman v, dj matrix3, starwars3, etc not all 4 free! u bx420 - ip4 - 5we. 150pm. dont dare miss me out!', 'you are that a winner so you have still been [UNK] specially selected annually to receive [UNK] cash or a [UNK] award. speak to you a live voice operator to you claim 2 call code 087123002209am - 7pm. cost 10p', \"refused a bank loan? with secured money or unsecured? can'of t get credit? can call free sometime now 0800 4 195 2 6669 or text back'got help'& say we will!\", 'dear voucher holder now have your next family meal accepted on yahoo us. to use the following link on your pc 2 enjoy taking a 2 4 1 family dining trip experiencehttp : / / www. vouch4me. net com / etlp / dining. mx asp', 'also you are never guaranteed getting the latest android nokia phone, without a 40gb long ipod mp3 data player or a [UNK] prize! txt word : collect data to check no : 83355! ibhltd by ldnw15h 150p / mtmsgrcvd18 +', 'filthy stories boys and girls lie waiting inside for your', 'urgent! but we are trying to contact club u todays draw shows that you players have currently won a 10 [UNK] prize prize guaranteed. call code 09050000460 from land mine line. location claim j89. po button box245c2150pm', 'solar angel celebrates 14 years, no giving away more than rm 50, 800 000 baht in very free relief money until 28 a june.', 'did the other person who who received the message receive over 1000 thai baht total in financial recovery assistance at at www. linee. live / cqq9', 'tv special just for finding you!! uses 5g internet at full speed 10 gb, therefore can be be used for extra 7 days, only 30 baht, plus press * 777 * 0 7677 # until 19 september dec. × 2023.', '2 new game textbuddy chat 2 horny pink guys in ur area 4 just in 25p free 2 receive search postcode or search at gaytextbuddy. com. a txt one name similar to 89693. net 08715500022 rpl 8 stop 2 over cnl', 'do you have 1 000 new blackberry voicemail. then please simply call 08719181513.', 'big game website, no available result status lock, default game server is in 100 % over broken online https : / / go bit. ly / 3k8r8ty', 'had from your mobile 11mths? now update photos for free to oranges by latest colour in camera app mobiles & have unlimited weekend telephone calls. call mobile upd8 and on freefone 08000839402 or pay 2stoptx', 'respond urgent! your mobile number here has been awarded 1 with a [UNK] [UNK] 1 prize guaranteed. call out 09058094455 from the land line. also claim free 3030. 7 valid 12hrs only', 'special congratulations this ur has awarded 5000 500 thousands of cd vouchers or 125gift guaranteed & free entry 2 100 for wkly records draw txt music directly to 87066 tncs through www. ldew. com com1win150ppmx3age16', 'you have never been selected not to actually stay in 1 of those 250 50 top british hotels - for their nothing! holiday inn worth [UNK]! to counter claim, call london 02072069400. victoria bx 526, london sw73ss', 'your chance to be out on a positive reality fantasy and show call us now = 08707509020 just 20p phone per 5 min ntt ltd, po box 30 1327 croydon cr9 5wb or 0870 is so a good national = rate call', 'gent! or we are trying to contact you. last four weekends draw shows that team you won a [UNK] prize where guaranteed. call yourself 09064012160. will claim phone code number k52. valid number 12hrs answer only. 150ppm', 'would even you like to see my new xxx pics they are all so fucking hot they were nearly to banned once in around the uk!', \"hello freemsg : hey - i'm leaving buffy. 25 years and love seems to be satisfy men. home so alone feeling randy. n reply 2 c hello my pix! qlynnbv help08700621170150p a no msg call send stop to stop txts\", 'but new year year month constellation check!! please just better press * 03 241 * 00 9 # to please apply for a first lucky draw of 10 thai baht per day. or for more information, please call 027669009', 'historically 88800 standard and currently 89034 channels are premium phone access services calling call 08718711108', 'no special! you get us the chance not to worship almighty with ajahn aka khatha ali and grammy gold artists. apply for tarot of divination, click anything here.', \"say sorry i i definitely missed getting your conference call let's talk when you have the allotted time. see i'm available on 07090201529\", 'moby pub quiz. win a cup [UNK] high street prize [UNK] if can u know more who the new sovereign duchess of royal cornwall will someday be? txt her first name to ta 82277. unsub stop [UNK]. take 50 [UNK] 008704050406 sp', 'urgent! your mobile no. was awarded [UNK] first bonus caller bonus prize later on 5 / 9 / 03... this is also our fastest final phone try ever to contact u! call from google landline id 09064019788 box42wr29c, 150ppm', 'also this message form is usually brought to you by gmw ltd. operators and is often not very connected to the', 'freemsg so hi baby wow just got got online a new cam moby. wanna get c a hot dog pic? or fancy for a chat? im a w8in it 4utxt / rply to chat to 82242 hlp 08712317606 msg150p link 2rcv', \"you can then donate [UNK]. 50 to support unicef's asian tsunami tsunami disaster international support resources fund by texting donate to 864233. [UNK]. 50 donors will be then added automatically to your free next donor bill\", 'congratulations! you receive to a minimum free call fee minimum of 500 baht. to press * number 140 # seeking to quickly apply online to win your fortune.', 'latest fox news! police base station toilet stolen, the cops have absolutely nothing to go checking on!', 'i get too 3 lions england tone, reply lionm 4 either mono or lionp 4 or poly. let 4 to more go 2 play www. universal ringtones. co. uk, the other original n best. tones 3gbp network use operator rates apply', 'what more do de u want for friday xmas? how what about 100 free school text messages & a new blackberry video phone with half price power line rental? call free tomorrow now on friday 0800 0721072 try to find out more!', 'gt u games were then outbid over by alex simonwatson5120 games on the shinco dvd format plyr. 2 bid again, visit sms. ac / ms smsrewards page 2 end bid with notifications, reply end out', '[UNK] bin awarded [UNK] to have play plus 4 000 instant cash. call 08715203028 to have claim. every hour 9th active player 2 wins 26 min [UNK] - won [UNK]. optout... 08718727870', \"free entry in section 2 a scheme wkly b comp to must win fa cup final apply tkts 21st may 2005. text the fa license to 87121 to no receive entry question ( std call txt rate ) apply t & c's apply 08452810075over18's\", 'and babe : u gotta want me dont you u baby! this im nasty and now have a thing 4 filthyguys. fancy a cool rude time with a sexy french bitch. how about ya we always go slo n hard! txt xxx slo ( of 4msgs )', 'england team v match macedonia - they dont miss the goals / any team news. txt o ur national team to 87077 eg england team to 87077 a try : wales, scotland 4txt / [UNK]. a 20 vs poboxox36504w45wq → 16 +', 'ur if balance o is now [UNK]. next question : not complete for the landmark, big, a. a bob, a b. barry o or c. ben?. text a, and b t or c back to 83738. good luck!', '\\\\ for selecting the 2 most sparkling personal shopping breaks aside from 45 per 200 person ; please call please 0121 2025050 [UNK] or visit www. shortbreaks. net org. bbc uk \\\\ \" \"', 'first kiatnakin when phatra bank agrees to submit your commercial loan rights, if click : please citly. rs me / finance rlgzk', 'note 3. you have received your new mobile content. be enjoy', 'this mobile club : choose either any of the five top quality items selected for your next mobile. mobile 7cfca1a', 'adult 18 eleven content your video will be packaged with see you shortly', 'good xmas offer! next latest motorola, sonyericsson & formerly nokia & more free bluetooth or dvd! every double 3 mins & up 1000 txt on orange. call mobileupd8 phone on 08000839402 phone or to call2optout / 4qf2', 'our corporate dating service manager has been asked 2 contact f u by someone shy! call 09058091870 now all plans will not be completely revealed. phone pobox84, number m26 in 3uz phone 150p', \"would wanna see get laid 2nite? want real live dogging locations sent out direct to ur mobile? join into the telecom uk'world s single largest dogging network. txt park to 69696 now! via nyt. ec2a. 3lp [UNK]. 50 / 7 msg\", 'asked 3mobile system if 0870 chatlines inclu wanted in free 90 mins. or india cust servs sed 2 yes. l8er got mega bill. p 3 dont so giv a shit. bailiff is due out in days. i need o [UNK] 3 want [UNK]', 'you now are being contacted by our dating information service and by someone you know! just to find out who it it actually is, call from your mobile app or phone landline at 09064017305 or pobox75ldns7', 'todays big voda numbers always ending with 7634 are selected to often receive a large [UNK] reward. if only you have had a match ticket please call them 08712300220 quoting claim area code 7684 standard rates may apply.', '08714712388 runs between early 10am - about 7pm they cost extra 10p', 'we recently tried formerly to only contact you re your reply time to use our latest offer of 750 mins 150 textand a new video satellite phone now call 08002988890 message now or reply for the free delivery tomorrow', 'your free message activate in your next 500 free text messages or by replying to this message with not the other word free for next terms & conditions, by visit www. facebook 07781482378. dot com', 'a win : we have missed a winner! mr. michael t. foley have won an ipod! more exciting extra prizes soon, so keep an eye either on ur and mobile or visit smashwords www. facebook win - 82050. ph co. uk', 'private! find your end 2003 new account statement for shows and 800 un - redeemed s. i. or m. key points. call 08719899230 public identifier channel code : rfc 41685 expires 07 / 11 / 2016 04', 'urgent! plus you will have won a 1 week free membership program in our first [UNK], 000 grand prize jackpot! txt from the l word : claim letters to no : copyright 81010 from t & c www. dbuk. net lccltd pobox 4403ldnw1a7rw18', 'urgent access ur awarded at a low complimentary trip fee to either eurodisinc trav, aco & soc entry41 2 or [UNK]. to claim txt dis to rm 87121 18 + 10 6 * [UNK]. 50 ( ref morefrmmob. shracomorsglsuplt ) 10, ls1 3aj', 'wan2 does win won a meet + greet match with westlife 4 u x or a mac m8? indicates they are currently on what tour? 1 ) unbreakable, 2 ) untamed, possibly 3 ) simply unkempt. text 1, 2 or 3 to f 83049. photo cost 50p + std text', 'only with you! use a 1 world true point to exchange for 5 gb feet of shared internet for 15 days, 1 sep. on 20 - 31 or dec. 20 click at sip the global trueid app.', 'congratulations ur awarded the either more [UNK] roll of cd gift shop vouchers & the free entry exhibit 2 in our concert [UNK] or weekly draw txt music to 87066 tncs through www. ldew. com1win150ppmx3age16', 'press * 8 471 * 86 10 # dozen of national hit songs, who receive new grammy songs every day, 5 crore baht / each message', 'todays the voda only numbers ending 7548 words are correctly selected to receive about a $ 350 bill award. if you already have created a match value please call 08712300220 quoting claim code 4041 uk standard rates app', 'auction round first 4. the initially highest bid is now is [UNK]. next maximum bid is [UNK]. to bid, they send some bids e. that g. send 10 ( if to bid [UNK] ) to 83383. bid good luck luck.', 'additionally a voice link leading to your own picture has also been sent. you later can also use http : / / at alto18. co. la uk / wave / x wave. asp? version o = 44345', 'themob > so check up out our newest latest selection of serialized content, games, text tones, gossip, babes and a sport, keep your mobile fit together and funky text message wap thanks to alpha 82468', \"but get a free 2 mobile camera video player free in movie. have to collect a text go to 89105. its free! extra tv films can be ordered before t's and c's registration apply. 18 18 yrs only\", 'welcome change to uk - mobile - date 2016 this msg is not free in giving its you free calling point to 08719839835. future mgs billed be at first 150p daily. to cancel cancel send \\\\ go stop \\\\ \" telephone to 89123 \"', 'you capture this message and get your 100 free spins on www. and wow9. ru co / pg', 'phone 4mths half price orange line rental & exclusive latest installed camera phones 4 free free. who had your phone phone broken 11mths? call mobilesdirect 8 free be on call 08000938767 to update now! or2stoptxt', 'get one 100 baht in simple cash each and return 1500 500 baht so to get th99. pay me', 'to get the official england poly ringtone [UNK] or microsoft colour flag online on yer mobile computer for tonights game! text tone or roman flag 0 to 84199. optout at txt eng stop x box39822 w111wx [UNK]. 50', 'lay claim to a 200 shopping and spree, like just to call this 08717895698 right now! or have you completely won! download mobstorequiz10ppm', 'not urgent! or please call my 09066612661 from your landline, your complimentary 4 * 5 lux costa del sol holiday dress or 4 [UNK] cash await collection. ppm e 150 sae t & l cs james river 28, 300 eh74rr', 'professional dating : though i have had two of eight these. only started after news i supposedly sent a text message to talk sport radio this last week. any specific connection do do you rather think or coincidence?', 'private! your first 2003 account return statement applied for 078', 'urgent! call her 09066612661 number from landline. your complementary 4 * x tenerife tourism holiday or [UNK], 000 cash cards await emergency collection at sae mobile t & cs po box 3 wa14 2px 150ppm 18 + sender : m hol news offer', 'new host textbuddy chat 2 horny dead guys in ur area 4 just like 25p wide free hosts 2 will receive search postcode page or at gaytextbuddy. com. 4 txt one name changed to z 89693', 'private! use your 2003 special account info statement for shows back 800 un - redeemed s. i. m. points. phone call form 08715203685 special identifier code : digits 4xx26 expires 13 / 04 10 / 03 04', 'had obtained your wireless mobile 11mths? update for free to oranges latest mobile colour hidden camera for mobiles & have unlimited weekend end calls. call for mobile upd8 on amazon freefone at 08000839402 or 2stoptxt', 'you have also received private revolving fund fund rights. check out now cutt. the ly /... ylz0jgp', 'but txt : will call you to no : 86888 & claim double your fee reward of 3 plus hours talk time to use from your phone anytime now! subscribe6gbp / mnth communications inc 3hrs 16 stop? click txtstop www. the gamb. tv', 'hot live performance fantasies... call me now wireless 08707509020 has just 20p per min with ntt wireless ltd, po box 1327 from croydon north cr9 5wb 0870. 2 k', '< news forwarded from missing 88877 > free instant entry into our [UNK] weekly comp so just send in the word to enter to miss 88877 now. 18 april t & c and www. microsoft textcomp. com', 'sorry gent! we are also trying to actually contact you. last weekends draw shows that you has won us a unique [UNK] prize if guaranteed. call 09064012160. claim code number k52. valid for 12hrs only. time 150ppm', 'just want explicit hot sex in the 30 secs? ring 02073162414 open now! no costs around 20p / 20 min', \"upgrdcentre orange with customer, you may also now even claim back your free camera phone upgrade for your premium loyalty. call now based on 0207 153 9153. offer ends 26th july. t & c's will apply. wireless opt - on out version available\", 'sms. ac sports sptv : the rival new new jersey devils and the detroit detroit red wings can play ice hockey. results correct or incorrect? end? no reply → end from sptv', 'the thanks for your ringtone special order, call reference number x49. your personal mobile will be charged 4. 50. should your tone not arrive please to call customer help services account 09065989182. mail from : [ colour = red ] text [ / with colour ] message txtstar', \"+ 123 no congratulations - 5 in this final week's poetry competition draw 32 u have won the [UNK] top prize to claim just call 09050002311 ： b4280703. t & f cs / no stop sms 08718727868. win over 18 only 150ppm\", 'had your contract mobile value 11 500 mnths? latest motorola, nokia etc. all free! double mins & in text yes on orange with tariffs. in text yes for every callback, no to all remove data from your records.', 'get private! your 2004 account key statement for 078498 * * * * 7 shows 786 unredeemed and bonus card points. to save claim country call code 08719180219 identifier post code : 45239 card expires 06. 05. 02 05', 'sms digital auction - a more brand new model nokia 7250 is coming up 4 auction space today! auction is free will 2 join & download take part! txt connect nokia to 86021 now! voice hg / w suite342 / 2lands row / w1j6hl', 'shop till u drop, easy is it without you, either 10k, 5k, [UNK] thai cash or [UNK] visa travel money voucher, call first now, stop 09064011000. ntt po box box cr01327bt on fixedline cost 150ppm of mobile vary', 'thank you, a winner then notified directly by sms. always good luck! no major future marketing plans reply traffic stop to 84122 via customer support services 08450542832', 'welcome to house select, for an o2 social service thanks with several added benefits. but you can now manually call our specially trained advisors and free from your mobile and by dialling 402.', 'bears pic nick, and by tom, with pete and. like dick. in fact, all 3 types try gay chat with any photo upload call 08718730666 ( 10p / min ). if 2 clicked stop posting texts a call of 08712460324', 'u can win in [UNK] star of music online gift vouchers every week starting 1 now txt of the word play draw to thee 87066 tscs www. ldew. net com skillgame, 1winaweek, 2017 age16. 0 150ppermesssubscription', 'far more worthwhile! add - on package : 200 minutes worth of power calls to all networks, just 99 baht for 30 days. please buy quickly! or even look at many new great value packages at facebook https : / / dtac. co. me th / web s / 1 dod', 'this is exactly the 2nd time which we have truly tried that 2 actually contact u. if u i have won the 750 pound prize. 2 claim it is easy, call 08718726970 right now! only 10p per min. bt - time national - rate', 'only free for 1st week! no1 nokia tone 4 ur download mob every week just txt nokia calls to 87077 to get txting number and tell ur my mates. just zed in pobox one 36504 w45wq or norm150p / tone 16 +', 'urgent! get your mobile no 9 077xxx won a small [UNK], 000 bonus caller prize on or 02 / 19 06 / 03! this is the 2nd best attempt made to reach you! call numbers 09066362206... asap! box97n7qp, dialed 150ppm', 'do you do want buy a new smart video handset? 750 any time any social network two mins? unlimited text? camcorder? will reply that or just call free now 08000930705 for free del sat am', 'sunshine news quiz! and win yourself a super sony mini dvd picture recorder from if you canname... the cultural capital of western australia? text mquiz to 82277. b', 'mortgage loans for any monetary purpose so even if true you both have bad mortgage credit! loyal tenants welcome. call this noworriesloans. com on isbn 08717111821', 'iii 2 / 3 2 cl 146tf150p', 'you then are accordingly entitled also to a reported k - plus loan royalty of around 85, 70 000 baht. a contact bit. 0 ly / 3vhl6pe.', 'urgent! your mobile number * * * * * * * * * * * * * * * won in a bonus [UNK] bonus caller prize called on 10 / 03 06 / 03! no this is the 2nd missed attempt possible to reach you! call tone 09066368753 so asap! h box 97n7qp, 150ppm', 'u would have discovered a hidden secret self admirer who really is looking 2 make contact not with u - find out who knows they r * reveal the who thinks ur was so special - call u on 09058094599', 'all the best lastest from royal stereophonics, william marley, dizzee racal, libertines and beyond the strokes! win nookii games with flirt!! if click this themob wap a bookmark address or text message wap to error 82468', \"gain free entry in playstation 2 a per weekly comp for a fifth chance player to win an ipod. txt pod to 80182 to get valid entry ( std txt rate ) t & o c's apply 08452810073 tags for sample details from 18 +\", 'update _ now - to xmas offer! latest android motorola, sonyericsson & old nokia & free for bluetooth! double 5 mins & iso 1000 txt file on orange. call on mobileupd8 on 08000839402 line or phone call2optout / f4q =', 'julie hi this is julie amy, we also will be presently sending from you a temporarily free phone number in a couple of off days, numbers which will give you an access channel to from all the adult parties.', 'ur cash - balance is currently at 500 thousand pounds - to maximize ur amount cash - in now send go to 86688 address only... 150p / h msg. cc : 08718720201 6 po box box z 114 / 31 14 tcr / w1', 'had you your mobile passed 10 mths? update text to latest orange camera / video in phones for free. save [UNK] with the free texts / scheduled weekend calls. text yes also for a brief callback orno to be opt in out', 'free camera lens phones with linerental from base 4. 00 49 / month with 750 plus cross ntwk on mins. 1 / 2 high price txt bundle which deals also from avble. call 2 08001950382 or call2optout / j to mf', 'mila, age age23, blonde, new zealand in miss uk. i just look sex with famous uk guys. if u like fun with me. text over mtalk to default 69866. 18. 30pp / 3 txt or 1st 5free. [UNK]. 50 [UNK] increments. help08718728876', 'if you can get them 108 years free from us right now. now click https \" / / s. uk id / www 1r0mj - s', 'second only to you, but get 3999 plus free spins at www. big66. co / reference pg', 'urgent contact ur number [UNK] [UNK] guaranteed membership award is still largely unclaimed! home call 09066368327 now called closingdate04 / 08 09 / 12 02 claimcode me m39m51 [UNK]. 50pmmorefrommobile2bremoved - mobypobox734ls27yf', 'congrats! 1 year special cinema pass for us 2 is totally yours. we call 09061209465 at now! get c t suprman v, matrix3, n starwars3, etc to all access 4 free! bx420 - ip4 - 5we. now 150pm. dont miss out!', \"urgent! my last whole weekend '... s big draw shows that you have recently won [UNK] cash or a spanish holiday! call us now 09050000332 not to claim. t & c : rstm, 2008 sw7 4 3ss. html 150ppm\", 'good winter luck, no poverty! reveal now the secrets to improve your luck and seek good fortune. press * letter 298 * 4 # vow to greatly enhance both your own good fortune together with the auspicious numbers.', 'send hottest pics straight to your car phone!! see me getting you wet everywhere and totally wanting, just for loving you 6 xx text pics to 89555 now! text txt costs rs 150p by textoperator g696ga 18 xxx', \"e dear sweet u'an ve also been invited to xchat. this is not our second final online attempt not to contact u! txt chat to exit 86688\", 'call private! save your number 2003 full account statement for account 07815296484 shows 800 un - redeemed s. x i. as m. points. call information 08718738001 identifier country code 41782 it expires 18 / 11 / 04', 'get jamster! to get your rent free wall wallpaper with text message heart to 88888 to now! t & c apply. chapter 16 only. no need her help? call her 08701213186.', 'want a sexy new internet video phone? 750 anytime or any broadband network mins? use half the price line audio rental free text book for 3 months? reply or call at 08000930705 for instant free delivery', 'not move here to us, later apply online for a free bonus of under 150 %, deposit 400, and receive 1000', \"want that 2 get laid more tonight? want real dogging locations be sent direct 2 to ur the mob? join the uk'″ s largest fake dogging network bt txting gravel to 69888! live nt. ec2a. 31p. 7 msg @ 30 150p\", 'spook to up front your mob with a halloween collection cost of a logo & pic message text plus a password free eerie heart tone, a txt loyalty card spook to the 8007 zed 08701417012150p per logo / graphic pic', 'freemsg you have been is awarded a free digital mini 4 digital camera, just reply by snap one to and collect your prize! ( does quizclub opt out? stop 80122300p / wk sp : [UNK] rwm code ph : am 08704050406 )', 'go easy ways to name play, get rich quickly, find no minimum deposit. especially not through an agent', 'im cmon babe, make me horny, *... turn * me on! oh txt me your little fantasy now babe - ) im an hot, sticky one and need you now. and all my replies cost [UNK]. 50. 100 2 second cancel send stop', \"don'r t b stop floppy. b too snappy & happy happy! only likes gay men chat room service with photo upload call 08718730666 ( 10p / u min ). 2 stop our going texts call from 08712460324\", 'but only you actually get 10 free dual true full points just not by previously exchanging the first add - on pack session of the year, such as 5 single true points in exchange for 3 free internet 100mb 1 oct 21 - dec 30 nov 21.']\n"
          ]
        }
      ],
      "source": [
        "print(len(aug_spam))\n",
        "print(aug_spam)"
      ]
    },
    {
      "cell_type": "code",
      "execution_count": null,
      "metadata": {
        "id": "sUNz2zIaRndD",
        "outputId": "cfce15d0-1872-44c9-ef6a-bb766f704d22"
      },
      "outputs": [
        {
          "data": {
            "text/html": [
              "<div>\n",
              "<style scoped>\n",
              "    .dataframe tbody tr th:only-of-type {\n",
              "        vertical-align: middle;\n",
              "    }\n",
              "\n",
              "    .dataframe tbody tr th {\n",
              "        vertical-align: top;\n",
              "    }\n",
              "\n",
              "    .dataframe thead th {\n",
              "        text-align: right;\n",
              "    }\n",
              "</style>\n",
              "<table border=\"1\" class=\"dataframe\">\n",
              "  <thead>\n",
              "    <tr style=\"text-align: right;\">\n",
              "      <th></th>\n",
              "      <th>text</th>\n",
              "      <th>encoded</th>\n",
              "    </tr>\n",
              "  </thead>\n",
              "  <tbody>\n",
              "    <tr>\n",
              "      <th>0</th>\n",
              "      <td>Can you tell Shola to please go to college of ...</td>\n",
              "      <td>0</td>\n",
              "    </tr>\n",
              "    <tr>\n",
              "      <th>1</th>\n",
              "      <td>Dude im no longer a pisces. Im an aquarius now.</td>\n",
              "      <td>0</td>\n",
              "    </tr>\n",
              "    <tr>\n",
              "      <th>2</th>\n",
              "      <td>Oh yeah I forgot. U can only take 2 out shoppi...</td>\n",
              "      <td>0</td>\n",
              "    </tr>\n",
              "    <tr>\n",
              "      <th>3</th>\n",
              "      <td>I hate when she does this. She turns what shou...</td>\n",
              "      <td>0</td>\n",
              "    </tr>\n",
              "    <tr>\n",
              "      <th>4</th>\n",
              "      <td>, ,  and  picking them up from various points ...</td>\n",
              "      <td>0</td>\n",
              "    </tr>\n",
              "  </tbody>\n",
              "</table>\n",
              "</div>"
            ],
            "text/plain": [
              "                                                text  encoded\n",
              "0  Can you tell Shola to please go to college of ...        0\n",
              "1    Dude im no longer a pisces. Im an aquarius now.        0\n",
              "2  Oh yeah I forgot. U can only take 2 out shoppi...        0\n",
              "3  I hate when she does this. She turns what shou...        0\n",
              "4  , ,  and  picking them up from various points ...        0"
            ]
          },
          "execution_count": 109,
          "metadata": {},
          "output_type": "execute_result"
        }
      ],
      "source": [
        "keys = [1 for i in range(len(aug_spam))]\n",
        "values = [ i for i in aug_spam]\n",
        "\n",
        "dict = {'encoded' : keys , 'text' : values}\n",
        "df2 = pd.DataFrame(dict)\n",
        "\n",
        "new_train = pd.concat([data_train,df2], ignore_index=True)\n",
        "new_train.reset_index()\n",
        "\n",
        "# Downsampling HAM\n",
        "ham = new_train[ new_train['encoded'] == 0 ]\n",
        "spam = new_train[ new_train['encoded'] == 1 ]\n",
        "n = min(ham.shape[0], spam.shape[0])\n",
        "\n",
        "ham_samp = ham.sample( n = n, random_state = 101 )\n",
        "spam_samp = spam.sample( n = n, random_state = 101 )\n",
        "new_train = pd.concat([ham_samp, spam_samp], ignore_index = True)\n",
        "new_train.head()"
      ]
    },
    {
      "cell_type": "code",
      "execution_count": null,
      "metadata": {
        "id": "8W16uGwNRndD",
        "outputId": "99cf819f-d205-444e-adcd-c823fe58b523"
      },
      "outputs": [
        {
          "data": {
            "text/plain": [
              "(2176, 2)"
            ]
          },
          "execution_count": 110,
          "metadata": {},
          "output_type": "execute_result"
        }
      ],
      "source": [
        "new_train.shape"
      ]
    },
    {
      "cell_type": "code",
      "execution_count": null,
      "metadata": {
        "id": "sIXQfYEmRndD"
      },
      "outputs": [],
      "source": [
        "new_train.to_csv('train_aug1.csv')\n",
        "data_val.to_csv('val_aug1.csv')\n",
        "data_test.to_csv('test_aug1.csv')"
      ]
    },
    {
      "cell_type": "markdown",
      "metadata": {
        "id": "ojpYlKaaRndD"
      },
      "source": [
        "check check"
      ]
    },
    {
      "cell_type": "code",
      "execution_count": null,
      "metadata": {
        "id": "jQApdwTfRndD",
        "outputId": "e7d10624-2e7d-4e2d-89a4-8da312a3972f"
      },
      "outputs": [
        {
          "data": {
            "text/html": [
              "<div>\n",
              "<style scoped>\n",
              "    .dataframe tbody tr th:only-of-type {\n",
              "        vertical-align: middle;\n",
              "    }\n",
              "\n",
              "    .dataframe tbody tr th {\n",
              "        vertical-align: top;\n",
              "    }\n",
              "\n",
              "    .dataframe thead th {\n",
              "        text-align: right;\n",
              "    }\n",
              "</style>\n",
              "<table border=\"1\" class=\"dataframe\">\n",
              "  <thead>\n",
              "    <tr style=\"text-align: right;\">\n",
              "      <th></th>\n",
              "      <th>Unnamed: 0</th>\n",
              "      <th>text</th>\n",
              "      <th>encoded</th>\n",
              "    </tr>\n",
              "  </thead>\n",
              "  <tbody>\n",
              "    <tr>\n",
              "      <th>0</th>\n",
              "      <td>0</td>\n",
              "      <td>Can you tell Shola to please go to college of ...</td>\n",
              "      <td>0</td>\n",
              "    </tr>\n",
              "    <tr>\n",
              "      <th>1</th>\n",
              "      <td>1</td>\n",
              "      <td>Dude im no longer a pisces. Im an aquarius now.</td>\n",
              "      <td>0</td>\n",
              "    </tr>\n",
              "    <tr>\n",
              "      <th>2</th>\n",
              "      <td>2</td>\n",
              "      <td>Oh yeah I forgot. U can only take 2 out shoppi...</td>\n",
              "      <td>0</td>\n",
              "    </tr>\n",
              "    <tr>\n",
              "      <th>3</th>\n",
              "      <td>3</td>\n",
              "      <td>I hate when she does this. She turns what shou...</td>\n",
              "      <td>0</td>\n",
              "    </tr>\n",
              "    <tr>\n",
              "      <th>4</th>\n",
              "      <td>4</td>\n",
              "      <td>, ,  and  picking them up from various points ...</td>\n",
              "      <td>0</td>\n",
              "    </tr>\n",
              "  </tbody>\n",
              "</table>\n",
              "</div>"
            ],
            "text/plain": [
              "   Unnamed: 0                                               text  encoded\n",
              "0           0  Can you tell Shola to please go to college of ...        0\n",
              "1           1    Dude im no longer a pisces. Im an aquarius now.        0\n",
              "2           2  Oh yeah I forgot. U can only take 2 out shoppi...        0\n",
              "3           3  I hate when she does this. She turns what shou...        0\n",
              "4           4  , ,  and  picking them up from various points ...        0"
            ]
          },
          "execution_count": 134,
          "metadata": {},
          "output_type": "execute_result"
        }
      ],
      "source": [
        "data = pd.read_csv('train_aug4.csv', encoding='latin-1')\n",
        "data.head(5)"
      ]
    },
    {
      "cell_type": "code",
      "execution_count": null,
      "metadata": {
        "id": "1m2Pcg0ZRndD",
        "outputId": "a40424ac-d5a3-4e6d-e220-ae429e2fe3d5"
      },
      "outputs": [
        {
          "data": {
            "text/plain": [
              "encoded\n",
              "0    2720\n",
              "1    2720\n",
              "Name: count, dtype: int64"
            ]
          },
          "execution_count": 135,
          "metadata": {},
          "output_type": "execute_result"
        }
      ],
      "source": [
        "data['encoded'].value_counts()"
      ]
    },
    {
      "cell_type": "code",
      "execution_count": null,
      "metadata": {
        "id": "nBtxvOHbRndD"
      },
      "outputs": [],
      "source": []
    }
  ],
  "metadata": {
    "kernelspec": {
      "display_name": "Python 3",
      "language": "python",
      "name": "python3"
    },
    "language_info": {
      "codemirror_mode": {
        "name": "ipython",
        "version": 3
      },
      "file_extension": ".py",
      "mimetype": "text/x-python",
      "name": "python",
      "nbconvert_exporter": "python",
      "pygments_lexer": "ipython3",
      "version": "3.11.7"
    },
    "colab": {
      "provenance": [],
      "include_colab_link": true
    }
  },
  "nbformat": 4,
  "nbformat_minor": 0
}